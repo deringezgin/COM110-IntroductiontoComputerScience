{
 "cells": [
  {
   "cell_type": "markdown",
   "metadata": {},
   "source": [
    "# Fall 2023 | COM 110 | Program 4 | Derin Gezgin"
   ]
  },
  {
   "cell_type": "markdown",
   "metadata": {},
   "source": [
    "This one is different from the other programs. Instead of starting with lots of examples and having to fill in the blanks you will have to build your entire .ipynb solution from scratch. You are free to use the other course and lab notebooks to help you structure your solution and more details of what is required will be detailed here."
   ]
  },
  {
   "cell_type": "code",
   "execution_count": 1,
   "metadata": {},
   "outputs": [],
   "source": [
    "### Import Statements ### \n",
    "import numpy as np"
   ]
  },
  {
   "cell_type": "markdown",
   "metadata": {},
   "source": [
    "#### [1 20pts] Design a class that has an internal number in the range 1-20. We want this internal number to be like a 20-sided dice for a Dungeons and Dragons style adventure game. Make a method that can role this dice (using a random generator of your choice or you can pull some of the random.choice code from early labs) along with a method that can get the current value. The rolling method should be called roll."
   ]
  },
  {
   "cell_type": "code",
   "execution_count": 2,
   "metadata": {},
   "outputs": [
    {
     "name": "stdout",
     "output_type": "stream",
     "text": [
      "2\n"
     ]
    }
   ],
   "source": [
    "# Class Definition\n",
    "class OneTwentySidedDice():\n",
    "    def __init__(self):\n",
    "        self.dice1 = None # Setting dice1\n",
    "    \n",
    "    def roll(self):\n",
    "        \"\"\"Function to assign a random variable from 1 to 20 to the dice1 value\"\"\"\n",
    "        self.dice1 = np.random.choice(range(1,21))\n",
    "            \n",
    "    def return_value(self):\n",
    "        \"\"\"Function that returns the current value of the first dice\"\"\"\n",
    "        return self.dice1\n",
    "\n",
    "### Testing the Functionality (Not required but did for myself)\n",
    "one_dice = OneTwentySidedDice() # Creating the dice object\n",
    "one_dice.roll()                 # Rolling dice1 once\n",
    "print(one_dice.return_value())  # Printing the value of dice1"
   ]
  },
  {
   "cell_type": "markdown",
   "metadata": {},
   "source": [
    "#### [2 20pts] Now extend that class so that it has another internal number that represents a dice (this class will have access to two random dice rolls now). Make sure you write a constructor __init__ that starts a random roll of each of these dice. It should be able to not only return its own instance variable dice roll but the other dice as well (return both dice not just one). To roll the two dice you would also make the method called roll."
   ]
  },
  {
   "cell_type": "code",
   "execution_count": 3,
   "metadata": {},
   "outputs": [
    {
     "name": "stdout",
     "output_type": "stream",
     "text": [
      "(14, 10)\n"
     ]
    }
   ],
   "source": [
    "# Class definition that inherits from the \"OneTwentySidedDice\" Class\n",
    "class TwoTwentySidedDices(OneTwentySidedDice):\n",
    "    def __init__(self):\n",
    "        super().__init__()  # Running the __init__ function of the upper class to set the dice1\n",
    "        self.dice2 = None   # Setting the dice2\n",
    "    \n",
    "    def roll(self):\n",
    "        \"\"\"Function that rolls the dice1 and dice2\"\"\"\n",
    "        super().roll()                              # Running roll() from the upper class to roll dice1\n",
    "        self.dice2 = np.random.choice(range(1,21))  # Rolling dice2\n",
    "\n",
    "    def return_value(self):\n",
    "        \"\"\"Function that returns the current value of the dice1 and dice2\"\"\"\n",
    "        return self.dice1, self.dice2\n",
    "\n",
    "### Testing the Functionality (Not required but did for myself)\n",
    "two_dices = TwoTwentySidedDices()   # Creating the object that contains two dices\n",
    "two_dices.roll()                    # Rolling both of the dices\n",
    "print(two_dices.return_value())     # Printing values of dice1 and dice2"
   ]
  },
  {
   "cell_type": "markdown",
   "metadata": {},
   "source": [
    "#### [3 20pts] Extend again to add a third dice rolling feature and follow [1] and [2] to make the ability of casting 3 random dice. It should also have a roll method but in this case it would roll three dice."
   ]
  },
  {
   "cell_type": "code",
   "execution_count": 4,
   "metadata": {},
   "outputs": [
    {
     "name": "stdout",
     "output_type": "stream",
     "text": [
      "(20, 20, 5)\n"
     ]
    }
   ],
   "source": [
    "# Class definition that inherits from the \"TwoTwentySidedDices\" Class (which also inherits from the \"OneTwentySidedDice\")\n",
    "class ThreeTwentySidedDices(TwoTwentySidedDices):\n",
    "    def __init__(self):\n",
    "        super().__init__()  # Running the __init__ function of the upper class to set dice1 and dice2\n",
    "        self.dice3 = None   # Setting dice3\n",
    "    \n",
    "    def roll(self):\n",
    "        \"\"\"Function that rolls the dice1, dice2 and dice3\"\"\"\n",
    "        super().roll()                              # Running roll() from the upper class to roll dice1 and dice2\n",
    "        self.dice3 = np.random.choice(range(1,21))  # Rolling dice3\n",
    "\n",
    "    def return_value(self):\n",
    "        \"\"\"Function that returns the values of dice1, dice2 and dice3\"\"\"\n",
    "        return self.dice1, self.dice2, self.dice3\n",
    "\n",
    "### Testing the Functionality (Not required but did for myself)\n",
    "three_dices = ThreeTwentySidedDices()   # Creating an object containing 3-dices. \n",
    "three_dices.roll()                      # Rolling all of the dices\n",
    "print(three_dices.return_value())       # Printing values of dice1, dice2, and dice3"
   ]
  },
  {
   "cell_type": "markdown",
   "metadata": {},
   "source": [
    "#### [4 20pts] Make a testing framework that builds a list of 10 mixed objects from the above. In other words, you will make a list data structure of your objects that can cast one, two or three dice. For example, you can make a list with 3 of the single dice objects, 3 two dice objects and 4 of the three dice objects.  Your list can be named rolls. Now you are going to experiment with polymorphic bindings. Loop through the list and use a polymorphic reference and call your roll method on each of the dice (print the output). This is the iterator form of the for loop:\n",
    "\n",
    "for dice in rolls:\n",
    "\n",
    "    dice.roll() #this is a polymorphic reference object (it can be anything that is in the list rolls)"
   ]
  },
  {
   "cell_type": "code",
   "execution_count": 5,
   "metadata": {},
   "outputs": [
    {
     "name": "stdout",
     "output_type": "stream",
     "text": [
      "(14, 10, 20)\n",
      "13\n",
      "8\n",
      "(9, 18)\n",
      "(15, 12)\n",
      "(7, 11, 8)\n",
      "(6, 13)\n",
      "(12, 3)\n",
      "1\n",
      "(5, 2, 15)\n"
     ]
    }
   ],
   "source": [
    "rolls = [] # Creating an empty list to store the dices. \n",
    "\n",
    "# Saving 10 dice objects to the rolls list. Selecting them randomly. \n",
    "for i in range(10):\n",
    "    rolls.append(np.random.choice([OneTwentySidedDice(), TwoTwentySidedDices(), ThreeTwentySidedDices()])) # Random selection\n",
    "\n",
    "# Itterating through every dice in the list, rolling it and printing its' value\n",
    "for dice in rolls:\n",
    "    dice.roll()\n",
    "    print(dice.return_value())"
   ]
  },
  {
   "cell_type": "markdown",
   "metadata": {},
   "source": [
    "#### [5 20pts] Now make a new class called Gambler that has a data structure like the one outlined in [4] as an instance variable.  Set up the list either by using literal values or use randomization to make the list out of all three user defined types in [1], [2], [3].  Make accessor and mutators that are appropriate for this new class and test it out to make sure everything is working."
   ]
  },
  {
   "cell_type": "code",
   "execution_count": 6,
   "metadata": {},
   "outputs": [
    {
     "name": "stdout",
     "output_type": "stream",
     "text": [
      "[12, 11, (1, 18), (4, 8, 13), (8, 17), 9, (20, 1, 9), (3, 11, 10), 17, 17]\n",
      "[(5, 8), (12, 11, 4), (2, 5)]\n"
     ]
    }
   ],
   "source": [
    "# Class definition\n",
    "class Gambler():\n",
    "    def __init__(self, c):\n",
    "        self.count = c      # Input that would be used to determine the count of dices.\n",
    "        self.rolls = []     # List to store the dices\n",
    "        self.values = []    # List to store the dice values\n",
    "\n",
    "    def set_dice_count(self, c):\n",
    "        \"\"\"Mutator function to change the dice count\"\"\"\n",
    "        self.count = c\n",
    "    \n",
    "    def roll_dices(self):\n",
    "        \"\"\"Function to roll the dices and save the values to the self.values list\"\"\"\n",
    "        self.rolls = []     # Emptying the dice list to delete any previous values\n",
    "        self.values = []    # Emptying the value list to delete any previous values\n",
    "\n",
    "        # Random selection with of dices and adding them to the self.rolls list\n",
    "        for i in range(self.count):\n",
    "            self.rolls.append(np.random.choice([OneTwentySidedDice(), TwoTwentySidedDices(), ThreeTwentySidedDices()]))\n",
    "        \n",
    "        # Rolling the dices and adding the output to the self.values list\n",
    "        for dice in self.rolls:\n",
    "            dice.roll()\n",
    "            self.values.append(dice.return_value())\n",
    "\n",
    "    def get_values(self):\n",
    "        \"\"\"Accessor function that returns self.values list which stores the outputs for rolling\"\"\"\n",
    "        return self.values\n",
    "    \n",
    "### Testing the Functionality ###\n",
    "\n",
    "gamble = Gambler(10)        # Creating an object from the Gambler class\n",
    "gamble.roll_dices()         # Rolling the dices (10 dices were rollen)\n",
    "print(gamble.get_values())  # Printing the dice values with an accessor function\n",
    "\n",
    "gamble.set_dice_count(3)    # Changing the dice count to 3 with a mutator function\n",
    "gamble.roll_dices()         # Rolling the dices (3 dices were throwen)\n",
    "print(gamble.get_values())  # Printing the dice values with an accessor function"
   ]
  },
  {
   "cell_type": "markdown",
   "metadata": {},
   "source": [
    "Note: I went to 2 TA Sessions (October 19th and October 22nd) for this project to verify my solution. Even though I got the expected result, I wasn't sure about this was the intended solution or not (using super() to access upper class) and got positive feedback in both of these sessions. "
   ]
  }
 ],
 "metadata": {
  "kernelspec": {
   "display_name": "Python 3",
   "language": "python",
   "name": "python3"
  },
  "language_info": {
   "codemirror_mode": {
    "name": "ipython",
    "version": 3
   },
   "file_extension": ".py",
   "mimetype": "text/x-python",
   "name": "python",
   "nbconvert_exporter": "python",
   "pygments_lexer": "ipython3",
   "version": "3.11.5"
  }
 },
 "nbformat": 4,
 "nbformat_minor": 2
}

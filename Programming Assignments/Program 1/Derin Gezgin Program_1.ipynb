{
 "cells": [
  {
   "cell_type": "markdown",
   "metadata": {},
   "source": [
    "### Derin Gezgin"
   ]
  },
  {
   "cell_type": "markdown",
   "metadata": {},
   "source": [
    "<img src=\"http://interface-experience.org/site/wp-content/uploads/2015/01/IE-014g-1000x734.jpg\" width=140> <img src=\"http://interface-experience.org/site/wp-content/uploads/2015/01/IE-017f-563x750.jpg\" width=77> <img src=\"http://interface-experience.org/site/wp-content/uploads/2015/01/IE-018a-605x750.jpg\" width=83> <img src=\"http://interface-experience.org/site/wp-content/uploads/2015/01/IE-021c-605x750.jpg\" width=84> <img src=\"http://interface-experience.org/site/wp-content/uploads/2015/01/IE-019-1000x689.jpg\" width=150> <img src=\"http://interface-experience.org/site/wp-content/uploads/2015/01/IE-032-621x750.jpg\" width=87>\n",
    "## COM110 Programming Assignment 1:\n",
    "### Learning to use jupyter lab and the notebook format (.ipynb)\n",
    "(c) 2023 Timothy Becker, Department of Computer Science <br><br>\n",
    "<img src=\"https://www.conncoll.edu/media/website-media/visualidentity/images/1Line-LogoSig-Color.jpg\" width=\"200\">"
   ]
  },
  {
   "cell_type": "markdown",
   "metadata": {},
   "source": [
    "### Instructions\n",
    "For this assignment you should pick either <b>Path A</b> or <b>Path B</b> to complete based on your interests. You should start by downloading this notebook (Program_1.ipynb) and move it into your prefered jupyter lab location such as: /User/Documents/COM110. Then you can launch the notebook from the command line or the anaconda navigator app and work directly on it, making sure to complete the important first cell which should have your name and not FirstName LastName!"
   ]
  },
  {
   "cell_type": "markdown",
   "metadata": {},
   "source": [
    "### Path A\n",
    "#### Mathematical Calculations With a Computer\n",
    "\n",
    "We will develop some python3 code using the [math](https://docs.python.org/3/library/math.html) and [numpy](https://numpy.org/doc/stable/reference/routines.math.html) libraries that can help with solving math and science problems. When you are entering tokens into a cell that is set to code mode, you can use the <b>tab</b> key after you type the library name for more help! For example if you type math. and then hit <b>tab</b> you will see a graphical list of the functions and constants inside the math library such as [pi](https://docs.python.org/3/library/math.html#constants) and [sin](https://docs.python.org/3/library/math.html#trigonometric-functions). Try it out and see what types of functions are here. Some examples are shown below."
   ]
  },
  {
   "cell_type": "code",
   "execution_count": 11,
   "metadata": {},
   "outputs": [
    {
     "data": {
      "text/plain": [
       "0.17453292519943295"
      ]
     },
     "execution_count": 11,
     "metadata": {},
     "output_type": "execute_result"
    }
   ],
   "source": [
    "import math\n",
    "math.radians(10)"
   ]
  },
  {
   "cell_type": "code",
   "execution_count": 12,
   "metadata": {},
   "outputs": [
    {
     "data": {
      "text/plain": [
       "10"
      ]
     },
     "execution_count": 12,
     "metadata": {},
     "output_type": "execute_result"
    }
   ],
   "source": [
    "math.comb(5,2)"
   ]
  },
  {
   "cell_type": "markdown",
   "metadata": {},
   "source": [
    "#### [1 20 pts] Working with basic math operators\n",
    "You are asked to use the math and numpy library to write python vesions of the equation one [Eq 1] listed below. You will need to make use of variables and then test your code with different values for that variable. "
   ]
  },
  {
   "cell_type": "markdown",
   "metadata": {},
   "source": [
    "#### Ex 1: $\\frac{\\frac{1}{x}+\\frac{2}{x}}{3x-2}$\n",
    "for $x=2,3,4$"
   ]
  },
  {
   "cell_type": "code",
   "execution_count": 13,
   "metadata": {},
   "outputs": [
    {
     "name": "stdout",
     "output_type": "stream",
     "text": [
      "-3.0\n",
      "-1.0\n",
      "-0.6\n"
     ]
    }
   ],
   "source": [
    "#example of how to use some basic built in math operators\n",
    "x = 2\n",
    "r = ((1/x)+(2/x))/(3/x-2)\n",
    "print(r)\n",
    "\n",
    "x = 3\n",
    "r = ((1/x)+(2/x))/(3/x-2)\n",
    "print(r)\n",
    "\n",
    "x = 4\n",
    "r = ((1/x)+(2/x))/(3/x-2)\n",
    "print(r)"
   ]
  },
  {
   "cell_type": "markdown",
   "metadata": {},
   "source": [
    "#### Eq 1: $\\frac{1}{x^3}+\\frac{1}{1+\\frac{3}{x^2}}+x^2-14x^{\\frac{1}{3}}$\n",
    "for $x=15,16,17$"
   ]
  },
  {
   "cell_type": "code",
   "execution_count": 14,
   "metadata": {},
   "outputs": [
    {
     "name": "stdout",
     "output_type": "stream",
     "text": [
      "x = 15, result = 191.4601693609329\n",
      "x = 16, result = 221.71087173198555\n",
      "x = 17, result = 253.99198729980623\n"
     ]
    }
   ],
   "source": [
    "#your code for Path A [Eq 1] here\n",
    "\n",
    "for x in [15, 16, 17]:\n",
    "    result = (1/(x**3)) + (1/(1+(3/(x**2)))) + (x**2) - (14*(x**(1/3)))\n",
    "    print(f\"x = {x}, result = {result}\")"
   ]
  },
  {
   "cell_type": "markdown",
   "metadata": {},
   "source": [
    "#### [2 20 pts] Working with other operators\n",
    "Now we are going to see if you can learn how to use a few more advanced operators on your own. Square root can be found in the [math](https://docs.python.org/3/library/math.html) library along with the sin"
   ]
  },
  {
   "cell_type": "markdown",
   "metadata": {},
   "source": [
    "#### Eq 2: $\\sqrt{\\frac{\\frac{3}{x}}{x^2+2X}} + \\sin(x^4)$\n",
    "$x=1,10,100$\n",
    "\n",
    "note: $\\sin$ uses radians here, be sure to check which are used in math or numpy!"
   ]
  },
  {
   "cell_type": "code",
   "execution_count": 15,
   "metadata": {},
   "outputs": [
    {
     "name": "stdout",
     "output_type": "stream",
     "text": [
      "x = 1, result = 1.0174524064372834\n",
      "x = 10, result = -0.934807753012209\n",
      "x = 100, result = -0.9830927671733299\n"
     ]
    }
   ],
   "source": [
    "#your code for Path A [Eq 2] goes here...\n",
    "\n",
    "for x in [1,10,100]:\n",
    "    result = math.sqrt((3/x)/((x**2)+(2*x))) + math.sin(math.radians(x**4))\n",
    "    print(f\"x = {x}, result = {result}\")\n"
   ]
  },
  {
   "cell_type": "markdown",
   "metadata": {},
   "source": [
    "#### [3 20 pts] Advanced Methods in numpy\n",
    "There are even more advanced mathematics in the [numpy](https://cs231n.github.io/python-numpy-tutorial/#array-math) library which was designed to work with linearly packed variable collections known as arrays (we will introduce this now and then come back to it later in the course). In the example we will make an array with more than one value and then use the numpy library to compute some more intensive maths like the mean of the numbers and the standard deviation."
   ]
  },
  {
   "cell_type": "markdown",
   "metadata": {},
   "source": [
    "#### Ex 2: $mean(X) = \\frac{1}{|X|}\\displaystyle\\sum_{i=1}^{|X|} X_i$"
   ]
  },
  {
   "cell_type": "code",
   "execution_count": 16,
   "metadata": {},
   "outputs": [
    {
     "name": "stdout",
     "output_type": "stream",
     "text": [
      "[ -1.2          3.4         45.1        -43.124392    32.7\n",
      "   1.32        -2.3432       6.28318531 536.3856       1.        ]\n",
      "57.95211933071796\n"
     ]
    }
   ],
   "source": [
    "import numpy as np\n",
    "#when you import a package and then use the as keyword it will be an alias for you to use: np instead of numpy\n",
    "X = np.asarray([-1.2,3.4,45.1,-43.124392,32.7,1.32,-2.3432,math.pi*2,23.16**2,1.0],dtype=float) #new array with ten floats inside\n",
    "print(X)\n",
    "print(np.mean(X))"
   ]
  },
  {
   "cell_type": "markdown",
   "metadata": {},
   "source": [
    "#### Eq 3: $\\sqrt {mean(X) - 2y^3 + 5y^3}$\n",
    "for $X = \\begin{bmatrix}\n",
    "       \\frac{1}{6} \\\\[0.3em]\n",
    "       \\frac{2}{5} \\\\[0.3em]\n",
    "       \\frac{13}{2}           \n",
    "     \\end{bmatrix}, y=3$"
   ]
  },
  {
   "cell_type": "code",
   "execution_count": 17,
   "metadata": {},
   "outputs": [
    {
     "data": {
      "text/plain": [
       "9.129926371858403"
      ]
     },
     "execution_count": 17,
     "metadata": {},
     "output_type": "execute_result"
    }
   ],
   "source": [
    "#your code for Path A [Eq 3] goes here...\n",
    "X = np.array([1/6, 2/5, 13/2])\n",
    "y = 3\n",
    "math.sqrt(np.mean(X)-(2*(y**3))+(5*(y**3)))"
   ]
  },
  {
   "cell_type": "markdown",
   "metadata": {},
   "source": [
    "#### [4 20 pts] Writing your own short programs (defining functons)\n",
    "Here again we will have a quick preview of what is to come later in the course. When ever you are writting many lines of code in order to compute something, it becomes a good idea to make use of something called a function. It is a little short program that can be called on new inputs and reused over and over again. Lets redo Ex 1 above to be a function below and notice that when I have a defined function, it will make calculating all the values for x much easier."
   ]
  },
  {
   "cell_type": "code",
   "execution_count": 18,
   "metadata": {},
   "outputs": [
    {
     "name": "stdout",
     "output_type": "stream",
     "text": [
      "-3.0\n",
      "-1.0\n",
      "-0.6\n"
     ]
    }
   ],
   "source": [
    "#rewrite the Ex 1 above to be a function\n",
    "\n",
    "#first we define the function\n",
    "def ex1(x):\n",
    "    return ((1/x)+(2/x))/(3/x-2)\n",
    "\n",
    "#now we can call it on every x value we want, including a user suppplied value for x\n",
    "\n",
    "print(ex1(2)) #x=2\n",
    "print(ex1(3)) #x=3\n",
    "print(ex1(4)) #x=4"
   ]
  },
  {
   "cell_type": "markdown",
   "metadata": {},
   "source": [
    "#### Redo your Eq 2 code above by first defining a function and then calling it as shown above."
   ]
  },
  {
   "cell_type": "code",
   "execution_count": 19,
   "metadata": {},
   "outputs": [
    {
     "name": "stdout",
     "output_type": "stream",
     "text": [
      "1.0174524064372834\n",
      "-0.934807753012209\n",
      "-0.9830927671733299\n"
     ]
    }
   ],
   "source": [
    "#your code here for Part A [4] goes here...\n",
    "\n",
    "def eq2(x):\n",
    "    return math.sqrt((3/x)/((x**2)+(2*x))) + math.sin(math.radians(x**4))\n",
    "\n",
    "print(eq2(1))\n",
    "print(eq2(10))\n",
    "print(eq2(100))"
   ]
  },
  {
   "cell_type": "markdown",
   "metadata": {},
   "source": [
    "#### [5 20 pts] Put it all together\n",
    "Now you will come up with your own mathematical calculation that makes use of polynomials, roots, fractions, addition, subtraction, multiplication, and the mean. First think about what you want to calculate by writting a response, then code it in the code cell."
   ]
  },
  {
   "cell_type": "markdown",
   "metadata": {},
   "source": [
    "Write your calculation here first before you start coding. This is a much better way to work with calculations since you may find that doing some algebra by hand will allow for some reduction in the equation. [20 pts] Extra credit points here for using [LaTeX](https://en.wikibooks.org/wiki/LaTeX/Mathematics#Matrices_and_arrays). It is what I use to make the math look nice in these notebooks and I have included my favorite cheat sheet above.\n",
    "\n",
    "The money symbols are the start and end tokens for rendering the LaTex (edit the cell to see): $\\frac{1}{x}$"
   ]
  },
  {
   "cell_type": "markdown",
   "metadata": {},
   "source": [
    "# My Own Mathematical Calculation\n",
    "## $\\sqrt{mean(X) + \\frac{y}{x^2} + z} - \\frac{2y}{x}$\n"
   ]
  },
  {
   "cell_type": "code",
   "execution_count": 20,
   "metadata": {},
   "outputs": [
    {
     "data": {
      "text/plain": [
       "0.0"
      ]
     },
     "execution_count": 20,
     "metadata": {},
     "output_type": "execute_result"
    }
   ],
   "source": [
    "### The Code for the Mathematical Calculation ###\n",
    "X = np.array([1, 4, 9, 16, 25, 36, 49])\n",
    "x,y,z = 3,9,15\n",
    "\n",
    "math.sqrt(np.mean(X) + (y/(x**2)) + z) - 2*(y/x)"
   ]
  }
 ],
 "metadata": {
  "kernelspec": {
   "display_name": "Python 3 (ipykernel)",
   "language": "python",
   "name": "python3"
  },
  "language_info": {
   "codemirror_mode": {
    "name": "ipython",
    "version": 3
   },
   "file_extension": ".py",
   "mimetype": "text/x-python",
   "name": "python",
   "nbconvert_exporter": "python",
   "pygments_lexer": "ipython3",
   "version": "3.11.5"
  }
 },
 "nbformat": 4,
 "nbformat_minor": 4
}

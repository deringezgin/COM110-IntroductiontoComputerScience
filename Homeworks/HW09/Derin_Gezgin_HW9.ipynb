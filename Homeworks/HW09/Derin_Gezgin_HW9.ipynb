{
 "cells": [
  {
   "cell_type": "markdown",
   "metadata": {},
   "source": [
    "# Fall 2023 | COM 110 | Homework 9 | Derin Gezgin"
   ]
  },
  {
   "cell_type": "markdown",
   "metadata": {},
   "source": [
    "This is another programming practice, where you can make a new jupyter lab session and make some new cells with your recursive functions. You can upload you .ipynb file this time. You should make the following functions:"
   ]
  },
  {
   "cell_type": "markdown",
   "metadata": {},
   "source": [
    "[1 25pts] Given a non-negative int n, return the sum of its digits recursively (no loops or libraries, must use recursion). Note that mod (%) by 10 yields the rightmost digit (126 % 10 is 6), while divide (/) by 10 removes the rightmost digit (126 / 10 is 12).\n",
    "\n",
    "sumDigits(126) → 9<br>\n",
    "sumDigits(49) → 13<br>\n",
    "sumDigits(12) → 3"
   ]
  },
  {
   "cell_type": "code",
   "execution_count": 1,
   "metadata": {},
   "outputs": [
    {
     "name": "stdout",
     "output_type": "stream",
     "text": [
      "[(126, 9), (49, 13), (12, 3)]\n"
     ]
    }
   ],
   "source": [
    "### Defining the function ###\n",
    "def sumDigits(num):\n",
    "    \n",
    "    # Returning num itself if it's one digit\n",
    "    if num < 10:\n",
    "        return num\n",
    "\n",
    "    ones = num % 10 # Storing the rightest digit of the num.\n",
    "\n",
    "    # Returning the sum of the rightest digit and calling the function again with the rightest digit removed version. \n",
    "    return ones + sumDigits(num // 10)\n",
    "\n",
    "### Sample Usage ###\n",
    "nums = [126, 49, 12]                        \n",
    "results = [(num,sumDigits(num)) for num in nums]\n",
    "print(results)"
   ]
  },
  {
   "cell_type": "markdown",
   "metadata": {},
   "source": [
    "[2 25pts] Given a string, compute recursively a new string where identical chars that are adjacent in the original string are separated from each other by a \"*\".\n",
    "\n",
    "pairStar(\"hello\") → \"hel\\*lo\"<br>\n",
    "pairStar(\"xxyy\") → \"x\\*xy\\*y\"<br>\n",
    "pairStar(\"aaaa\") → \"a\\*a\\*a\\*a\""
   ]
  },
  {
   "cell_type": "code",
   "execution_count": 2,
   "metadata": {},
   "outputs": [
    {
     "name": "stdout",
     "output_type": "stream",
     "text": [
      "[('hello', 'hel*lo'), ('xxyy', 'x*xy*y'), ('aaaa', 'a*a*a*a')]\n"
     ]
    }
   ],
   "source": [
    "### Defining the function ###\n",
    "def pairStar(s):\n",
    "    \n",
    "    # Returning the string itself if its shorter than 2 characters\n",
    "    if len(s) < 2:\n",
    "        return s\n",
    "    \n",
    "    # If the first 2 characters are the same\n",
    "    if s[0] == s[1]:\n",
    "        return s[0] + \"*\" + pairStar(s[1:]) # Adding a '*' after the first char. Calling the function again with the rest of the word.\n",
    "    \n",
    "    else:\n",
    "        return s[0] + pairStar(s[1:]) # If not, not adding no extra characters and calling the function again with the rest of the word.\n",
    "\n",
    "### Sample Usage ###\n",
    "inputs = [\"hello\", \"xxyy\", \"aaaa\"]\n",
    "results = [(s,pairStar(s)) for s in inputs]\n",
    "print(results)"
   ]
  },
  {
   "cell_type": "markdown",
   "metadata": {},
   "source": [
    "[3 25pts] Given a string, return recursively a \"cleaned\" string where adjacent chars that are the same have been reduced to a single char. So \"yyzzza\" yields \"yza\".\n",
    "\n",
    "stringClean(\"yyzzza\") → \"yza\"<br>\n",
    "stringClean(\"abbbcdd\") → \"abcd\"<br>\n",
    "stringClean(\"Hello\") → \"Helo\""
   ]
  },
  {
   "cell_type": "code",
   "execution_count": 3,
   "metadata": {},
   "outputs": [
    {
     "name": "stdout",
     "output_type": "stream",
     "text": [
      "[('yyzzza', 'yza'), ('abbbcdd', 'abcd'), ('Hello', 'Helo')]\n"
     ]
    }
   ],
   "source": [
    "### Defining the function ###\n",
    "def stringClean(s):\n",
    "    \n",
    "    # Returning the string itself if its shorter than 2 characters\n",
    "    if len(s) < 2:\n",
    "        return s\n",
    "    \n",
    "    # If the first 2 characters are the same\n",
    "    if s[0] == s[1]:\n",
    "        return stringClean(s[1:]) # Calling the function again by excluding the first character to avoid repetition.\n",
    "    \n",
    "    else:\n",
    "        return s[0] + stringClean(s[1:]) # If not the same, keeping the first character and calling the function again.\n",
    "\n",
    "### Sample Usage ###\n",
    "inputs = [\"yyzzza\", \"abbbcdd\", \"Hello\"]\n",
    "results = [(s, stringClean(s)) for s in inputs]\n",
    "print(results)"
   ]
  },
  {
   "cell_type": "markdown",
   "metadata": {},
   "source": [
    "[4 25pts] Given a string, compute recursively a new string where all the lowercase 'x' chars have been moved to the end of the string.\n",
    "\n",
    "endX(\"xxre\") → \"rexx\"<br>\n",
    "endX(\"xxhixx\") → \"hixxxx\"<br>\n",
    "endX(\"xhixhix\") → \"hihixxx\""
   ]
  },
  {
   "cell_type": "code",
   "execution_count": 4,
   "metadata": {},
   "outputs": [
    {
     "name": "stdout",
     "output_type": "stream",
     "text": [
      "[('xxre', 'rexx'), ('xxhixx', 'hixxxx'), ('xhixhix', 'hihixxx')]\n"
     ]
    }
   ],
   "source": [
    "# Defining the function\n",
    "def endX(s):\n",
    "\n",
    "    # Returning the string itself if its shorter than 2 characters\n",
    "    if len(s) < 2:\n",
    "        return s\n",
    "    \n",
    "    # Checking if the first character is \"x\"\n",
    "    if s[0] == \"x\":\n",
    "        return endX(s[1:]) + \"x\" # If it is, adding \"x\" to the end of the word, calling the function with the rest of the word.\n",
    "    \n",
    "    else:\n",
    "        return s[0] + endX(s[1:]) # If not, calling the function again with the rest of the word. \n",
    "\n",
    "### Sample Usage ###\n",
    "inputs = [\"xxre\", \"xxhixx\", \"xhixhix\"]\n",
    "results = [(s,endX(s)) for s in inputs]\n",
    "print(results)"
   ]
  },
  {
   "cell_type": "markdown",
   "metadata": {},
   "source": [
    "Note: In the sample usage parts of the questions, for the sake of a faster testing I used for loop to return a tuple in (input, output) format.<br><br>\n",
    "As the assignment wants I didn't use any loops, etc. in the function definition. Just wanted to clarify"
   ]
  },
  {
   "cell_type": "markdown",
   "metadata": {},
   "source": []
  }
 ],
 "metadata": {
  "kernelspec": {
   "display_name": "Python 3",
   "language": "python",
   "name": "python3"
  },
  "language_info": {
   "codemirror_mode": {
    "name": "ipython",
    "version": 3
   },
   "file_extension": ".py",
   "mimetype": "text/x-python",
   "name": "python",
   "nbconvert_exporter": "python",
   "pygments_lexer": "ipython3",
   "version": "3.11.5"
  }
 },
 "nbformat": 4,
 "nbformat_minor": 2
}

{
 "cells": [
  {
   "cell_type": "markdown",
   "id": "d359682e-ef0f-43fe-9d65-c520a2bfc3f9",
   "metadata": {
    "tags": []
   },
   "source": [
    "<h4>Problem: Numerical computations with input.</h4>\n",
    "Write some python code that prompts the user for their height in feet and inches and then outputs their height in total inches."
   ]
  },
  {
   "cell_type": "code",
   "execution_count": 1,
   "id": "90885c4b-0648-48aa-856e-eb67a48b44ad",
   "metadata": {
    "tags": []
   },
   "outputs": [
    {
     "name": "stdout",
     "output_type": "stream",
     "text": [
      "Program to Convert Feet and Inches to Total Inches\n"
     ]
    },
    {
     "name": "stdin",
     "output_type": "stream",
     "text": [
      "Please enter your height in feet and inches seperated by a comma:  5,10\n"
     ]
    },
    {
     "name": "stdout",
     "output_type": "stream",
     "text": [
      "5.0 feet and 10.0 inches equals to 70.0 inches in total.\n"
     ]
    }
   ],
   "source": [
    "print(\"Program to Convert Feet and Inches to Total Inches\")\n",
    "\n",
    "fni = input(\"Please enter your height in feet and inches seperated by a comma: \")\n",
    "\n",
    "fni = fni.split(\",\")\n",
    "            \n",
    "feet = float(fni[0])\n",
    "inch = float(fni[1])\n",
    "\n",
    "tot_inches = (feet * 12) + inch\n",
    "\n",
    "print(f\"{feet} feet and {inch} inches equals to {tot_inches} inches in total.\")"
   ]
  }
 ],
 "metadata": {
  "kernelspec": {
   "display_name": "Python 3 (ipykernel)",
   "language": "python",
   "name": "python3"
  },
  "language_info": {
   "codemirror_mode": {
    "name": "ipython",
    "version": 3
   },
   "file_extension": ".py",
   "mimetype": "text/x-python",
   "name": "python",
   "nbconvert_exporter": "python",
   "pygments_lexer": "ipython3",
   "version": "3.11.4"
  }
 },
 "nbformat": 4,
 "nbformat_minor": 5
}

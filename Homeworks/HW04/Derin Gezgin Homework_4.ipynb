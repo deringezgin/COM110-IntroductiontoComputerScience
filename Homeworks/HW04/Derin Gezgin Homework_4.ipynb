{
 "cells": [
  {
   "cell_type": "markdown",
   "metadata": {},
   "source": [
    "### Derin Gezgin"
   ]
  },
  {
   "cell_type": "markdown",
   "metadata": {},
   "source": [
    "Problem: Structuring if/else conditional execution python code.  Write some python code that takes in four values from the user and stores them as variables named: A,B,C,D. They should be either True or False and are sued to set up the conditions below. Your program must compute python code equivalent to the following written statement (English version):\n",
    "\n",
    "We are interested in knowing when the user has an A or B but no C, a D and no A or an A,B,C together with no D."
   ]
  },
  {
   "cell_type": "code",
   "execution_count": 19,
   "metadata": {},
   "outputs": [
    {
     "name": "stdout",
     "output_type": "stream",
     "text": [
      "A=True, B=True, C=False, D=False\n",
      "User has one of the special conditions!\n"
     ]
    }
   ],
   "source": [
    "values = []\n",
    "for i in range(4): # Taking input for 4 times\n",
    "    value = input(f\"Please enter value {i+1} (true/false): \").lower()\n",
    "    while value not in [\"true\", \"false\"]: # Input validation\n",
    "        value = input(f\"Invalid input, please enter value {i+1} again (true/false): \").lower()\n",
    "    value = True if value == \"true\" else False # Converting string to bool\n",
    "    values.append(value) # Adding the values to a list\n",
    "\n",
    "A,B,C,D = values # Associating A, B, C, D with values\n",
    "\n",
    "print(f\"A={A}, B={B}, C={C}, D={D}\")\n",
    "\n",
    "if((A or B) and not C) or (D and not A) or (A and B and C and not D): # Checking the condition\n",
    "    print(\"User has one of the special conditions!\")\n",
    "else:\n",
    "    print(\"User doesn't have any of the special conditions.\")"
   ]
  }
 ],
 "metadata": {
  "kernelspec": {
   "display_name": "Python 3",
   "language": "python",
   "name": "python3"
  },
  "language_info": {
   "codemirror_mode": {
    "name": "ipython",
    "version": 3
   },
   "file_extension": ".py",
   "mimetype": "text/x-python",
   "name": "python",
   "nbconvert_exporter": "python",
   "pygments_lexer": "ipython3",
   "version": "3.11.5"
  },
  "orig_nbformat": 4
 },
 "nbformat": 4,
 "nbformat_minor": 2
}

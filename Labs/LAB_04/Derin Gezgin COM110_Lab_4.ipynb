{
 "cells": [
  {
   "cell_type": "markdown",
   "id": "a6633855-4636-413a-83a9-5f093d511992",
   "metadata": {
    "tags": []
   },
   "source": [
    "### Derin Gezgin"
   ]
  },
  {
   "cell_type": "markdown",
   "id": "41efd97b-72db-4218-aed5-8283e7109f42",
   "metadata": {},
   "source": [
    "## COM110 Lab4: Cleaning Input Data with Control Structures\n",
    "### \n",
    "(c) 2023 Timothy Becker, Department of Computer Science <br><br>\n",
    "<img src=\"https://www.conncoll.edu/media/website-media/visualidentity/images/1Line-LogoSig-Color.jpg\" width=\"200\">"
   ]
  },
  {
   "cell_type": "markdown",
   "id": "69db807d-f1ea-4e13-b3f0-67e0600b1808",
   "metadata": {},
   "source": [
    "## [1 20 pts] Practice if/else\n",
    "\n",
    "Lets practice writing control structures before we put them to work in solving problems later in the lab."
   ]
  },
  {
   "cell_type": "code",
   "execution_count": 38,
   "id": "38f3b45b-398a-4d8b-bc5e-457438a6a4ec",
   "metadata": {},
   "outputs": [
    {
     "name": "stdout",
     "output_type": "stream",
     "text": [
      "The condition variable was True\n"
     ]
    }
   ],
   "source": [
    "condition = True\n",
    "if condition:\n",
    "    #conditional block that will execute when if section evaluates to True\n",
    "    print('The condition variable was True')\n",
    "else:\n",
    "    #conditional block that will execute when if section is False\n",
    "    print('The condition variable was False')"
   ]
  },
  {
   "cell_type": "code",
   "execution_count": 39,
   "id": "f79c5955-9fe4-4a46-a2c1-5a47503ad352",
   "metadata": {},
   "outputs": [],
   "source": [
    "a,b = True, False #now we have two variables and our conditons will become more complex"
   ]
  },
  {
   "cell_type": "markdown",
   "id": "e00308d2-aab5-49a7-9801-9ac0dcb7c211",
   "metadata": {},
   "source": [
    "#### how many values can a,b take?\n",
    "a,b=True,True a,b=True,False a,b=False,True a,b==False,False => 2 variable each with 2 values = 2**2 = 4 branches\n",
    ". There are three ways to explore all of these options in python: (i) exlcusive use of ifs (ii) nested if/else (iii) comprehension if/else (AKA one line)\n"
   ]
  },
  {
   "cell_type": "code",
   "execution_count": 40,
   "id": "529f9dec-19f3-4e83-b5e7-b21a5a2ebfdf",
   "metadata": {
    "tags": []
   },
   "outputs": [],
   "source": [
    "#print out results for two variables as functions so we can reuse them...\n",
    "def f1(): print('True,True')\n",
    "def f2(): print('True,False')\n",
    "def f3(): print('False,True')\n",
    "def f4(): print('False,False')"
   ]
  },
  {
   "cell_type": "code",
   "execution_count": 41,
   "id": "cdc64f8d-4a4f-4781-b9b5-e03f4ff7e723",
   "metadata": {},
   "outputs": [
    {
     "name": "stdout",
     "output_type": "stream",
     "text": [
      "True,False\n"
     ]
    }
   ],
   "source": [
    "#ifs only...\n",
    "if a and b:             f1()\n",
    "if a and (not b):       f2()\n",
    "if (not a) and b:       f3()\n",
    "if (not a) and (not b): f4()"
   ]
  },
  {
   "cell_type": "code",
   "execution_count": 42,
   "id": "269f2507-f4ee-4603-9cdb-a1337c3370e8",
   "metadata": {},
   "outputs": [
    {
     "name": "stdout",
     "output_type": "stream",
     "text": [
      "True,False\n"
     ]
    }
   ],
   "source": [
    "#if/elses...\n",
    "if a:\n",
    "    if b: f1()\n",
    "    else: f2()\n",
    "else:\n",
    "    if b: f3()\n",
    "    else: f4()"
   ]
  },
  {
   "cell_type": "code",
   "execution_count": 43,
   "id": "ae7685b0-cdc6-410e-a6db-365994cb1904",
   "metadata": {},
   "outputs": [
    {
     "name": "stdout",
     "output_type": "stream",
     "text": [
      "True,False\n"
     ]
    }
   ],
   "source": [
    "#comprehension based if/else\n",
    "(f1() if a and b else f2() if a and not b else f3() if not a and b else f4())"
   ]
  },
  {
   "cell_type": "markdown",
   "id": "d393031f-4bd0-4f2a-907c-945310bdd1de",
   "metadata": {},
   "source": [
    "### [Exercise 1a] Write helper functions\n",
    "#### These functions can be called on by your control structures. Meaning that depending on the True or False values evaluated in the if clause a particuliar function will be executed.\n",
    "Write a function called f_pos that takes in a parameter for it's input called x. Have this function compute and return $x^2$, then make a second function called f_neg that takes a parameter for it's input called x which will return $((-1)*x)^2$ which is to say that you will rectify its negative value so that it is possitive and then apply the exponentiation operation afterward.\n"
   ]
  },
  {
   "cell_type": "code",
   "execution_count": 44,
   "id": "d16a46de-e5eb-4fd1-95bc-4e7221c8ad9c",
   "metadata": {},
   "outputs": [],
   "source": [
    "#your code goes here\n",
    "def f_pos(x):\n",
    "    return x ** 2\n",
    "\n",
    "def f_neg(x):\n",
    "    return ((-1) * x) ** 2"
   ]
  },
  {
   "cell_type": "markdown",
   "id": "d174f8ef-3933-41e4-b2e3-8ff13e0b2673",
   "metadata": {},
   "source": [
    "### [Exercise 1b] Use only if statements\n",
    "#### now given random input values x,y that are defined below, write a control structure using only if statements (no elif or else here) that will apply f_pos to a positive valued x or y and will apply the f_neg to a negative x or y value (apply means you call the function!)"
   ]
  },
  {
   "cell_type": "code",
   "execution_count": 45,
   "id": "48d5a5a7-ac1e-404c-852b-ac73aed8cd98",
   "metadata": {},
   "outputs": [
    {
     "name": "stdout",
     "output_type": "stream",
     "text": [
      "4.0\n",
      "4.0\n"
     ]
    }
   ],
   "source": [
    "import numpy\n",
    "x = float(numpy.random.choice([-2.0,2.0]))\n",
    "y = float(numpy.random.choice([-2.0,2.0]))\n",
    "\n",
    "#your code goes here to return the correct functions for each value x,y\n",
    "if x>0:\n",
    "    print(f_pos(x))\n",
    "if x<0:\n",
    "    print(f_neg(x))\n",
    "if y>0:\n",
    "    print(f_pos(x))\n",
    "if y<0:\n",
    "    print(f_neg(x))"
   ]
  },
  {
   "cell_type": "markdown",
   "id": "eea69193-a738-4867-a9c3-a2ed21252cbe",
   "metadata": {},
   "source": [
    "### [Exercise 1c] Use nested if/else\n",
    "#### now do the same thing but use if/else"
   ]
  },
  {
   "cell_type": "code",
   "execution_count": 46,
   "id": "798d508c-cbce-497c-bc0a-00944716ff71",
   "metadata": {},
   "outputs": [
    {
     "name": "stdout",
     "output_type": "stream",
     "text": [
      "4.0\n",
      "4.0\n"
     ]
    }
   ],
   "source": [
    "#your code goes here\n",
    "if x>0:\n",
    "    print(f_pos(x))\n",
    "else:\n",
    "    print(f_neg(x))\n",
    "\n",
    "if y>0:\n",
    "    print(f_pos(x))\n",
    "else:\n",
    "    print(f_neg(x))"
   ]
  },
  {
   "cell_type": "markdown",
   "id": "3b3b527f-8dba-45b8-bd69-377cc32d49db",
   "metadata": {},
   "source": [
    "### [Exercise 1d] Use conprehension\n",
    "#### now do the same thing but use the same styntax shown in the comprehension example (one line)"
   ]
  },
  {
   "cell_type": "code",
   "execution_count": 47,
   "id": "aa076090-c576-4e5e-9812-d33ed5fcb6e7",
   "metadata": {},
   "outputs": [
    {
     "data": {
      "text/plain": [
       "(4.0, 4.0)"
      ]
     },
     "execution_count": 47,
     "metadata": {},
     "output_type": "execute_result"
    }
   ],
   "source": [
    "#your code here\n",
    "((f_pos(x) if x>0 else f_neg(x)),(f_pos(y) if x>0 else f_neg(y)))"
   ]
  },
  {
   "cell_type": "markdown",
   "id": "3a934db2-2958-449d-a2c9-ffb05946684c",
   "metadata": {},
   "source": [
    "## [2 20 pts] Pratice try/except\n",
    "#### try/except is similiar in concept to a if/else but is a different type of control structure in python\n",
    "try/except are meant to work with data or inputs that could be corrupted, failed process or other issues that arise during runtime which the programmer coun't have forseen ahead of time. They provide a mechanism for the rest of a program to continue so that all of the lines of code do not need to be run again. Lets look at an example below, first run the cell by typing in a number as instructed, then enter a letter to make the code fail. This is what happens when you deal with human users!"
   ]
  },
  {
   "cell_type": "code",
   "execution_count": 48,
   "id": "855415f4-2397-4b96-9fd3-0f79d571285c",
   "metadata": {},
   "outputs": [
    {
     "name": "stdout",
     "output_type": "stream",
     "text": [
      "You entered the number 234\n"
     ]
    }
   ],
   "source": [
    "x = int(input('Enter a number 1-100'))\n",
    "print('You entered the number %s'%x)"
   ]
  },
  {
   "cell_type": "markdown",
   "id": "17d0d23d-f425-4229-90dc-b60ecf85570c",
   "metadata": {},
   "source": [
    "#### Now we will use a try/except to protect our code from disruption"
   ]
  },
  {
   "cell_type": "code",
   "execution_count": 49,
   "id": "97ced4f5-d6f1-4de6-9b3e-ab6960fd8600",
   "metadata": {},
   "outputs": [
    {
     "name": "stdout",
     "output_type": "stream",
     "text": [
      "You entered the number 23\n"
     ]
    }
   ],
   "source": [
    "try:\n",
    "    x = int(input('Enter a number 1-100'))\n",
    "    print('You entered the number %s'%x)\n",
    "except ValueError as E: \n",
    "    print(E)\n",
    "    pass"
   ]
  },
  {
   "cell_type": "markdown",
   "id": "99925951-082d-4e0a-b0d9-6c102da0ada5",
   "metadata": {},
   "source": [
    "### [Exercise 2a] Try writting a try/except\n",
    "#### Use the example above to write your own tr/except control structure to take in a bool value True or False (protecting from letters and numbers using except)"
   ]
  },
  {
   "cell_type": "code",
   "execution_count": 50,
   "id": "a6dbad91-b163-4ac8-902c-3d691bc5330f",
   "metadata": {},
   "outputs": [
    {
     "name": "stdout",
     "output_type": "stream",
     "text": [
      "Invalid Input\n"
     ]
    }
   ],
   "source": [
    "#your code here\n",
    "try:\n",
    "    x = input(\"Enter bool value\").title()\n",
    "    \n",
    "    if x in [\"True\", \"False\"]:\n",
    "        print(\"You entered True or False\")\n",
    "        x = True if x == \"True\" else False\n",
    "    else:\n",
    "        raise IOError\n",
    "except IOError:\n",
    "    print(\"Invalid Input\")\n"
   ]
  },
  {
   "cell_type": "markdown",
   "id": "6092973f-dc62-449a-b8ea-b5cb389a5c77",
   "metadata": {},
   "source": [
    "### [Exercise 2b] One try/except\n",
    "#### Now take in two ints x and y and return x*y but use try/except to protect both x and y values (you can enter both inputs into one try) "
   ]
  },
  {
   "cell_type": "code",
   "execution_count": 51,
   "id": "fe4a7b03-732d-4495-9322-af1bada98401",
   "metadata": {},
   "outputs": [
    {
     "name": "stdout",
     "output_type": "stream",
     "text": [
      "invalid literal for int() with base 10: 'b'\n"
     ]
    }
   ],
   "source": [
    "#your code here\n",
    "try:\n",
    "    x = int(input(\"Enter the X value: \"))\n",
    "    y = int(input(\"Enter the Y value: \"))\n",
    "    \n",
    "    print(x * y)\n",
    "except ValueError as E:\n",
    "    print(E)"
   ]
  },
  {
   "cell_type": "markdown",
   "id": "d04cdda1-4067-437c-8bd5-66bd1644b188",
   "metadata": {},
   "source": [
    "### [Exercise 2c] Two try/except\n",
    "\n",
    "Now try again but use one try/except to protect x and a seperate one for y"
   ]
  },
  {
   "cell_type": "code",
   "execution_count": 52,
   "id": "3f92c646-3d48-4964-9190-d5600502bb3d",
   "metadata": {},
   "outputs": [
    {
     "name": "stdout",
     "output_type": "stream",
     "text": [
      "1530\n"
     ]
    }
   ],
   "source": [
    "#your code here\n",
    "try:\n",
    "    x = int(input(\"Enter the X value: \"))\n",
    "except ValueError as E:\n",
    "    print(E)\n",
    "\n",
    "try:\n",
    "    y = int(input(\"Enter the Y value: \"))\n",
    "except ValueError as E:\n",
    "    print(E)\n",
    "\n",
    "print(x*y)"
   ]
  },
  {
   "cell_type": "markdown",
   "id": "ef507007-cd32-4a98-8efe-b743348ef3c7",
   "metadata": {},
   "source": [
    "### [Exercise 2d] Combine try/except and if/else\n",
    "\n",
    "Now combine the use of if/else and try/cacth to take in x and y values and apply the f_pos and f_neg functions. Here you will need to protect against letters being input and then apply the correct function if they are ints using the if/else"
   ]
  },
  {
   "cell_type": "code",
   "execution_count": 53,
   "id": "954a9b0f-53c9-4539-8311-af5082455f6d",
   "metadata": {},
   "outputs": [
    {
     "name": "stdout",
     "output_type": "stream",
     "text": [
      "529\n",
      "1156\n"
     ]
    }
   ],
   "source": [
    "#your code here\n",
    "try:\n",
    "    x = int(input(\"Enter the X value: \"))\n",
    "    y = int(input(\"Enter the Y value: \"))\n",
    "    \n",
    "    print((f_pos(x) if x>0 else f_neg(x)))\n",
    "    print((f_pos(y) if x>0 else f_neg(y)))\n",
    "except ValueError as E:\n",
    "    print(E)"
   ]
  },
  {
   "cell_type": "markdown",
   "id": "435de102-56c4-4e95-9c64-f2b016ba700a",
   "metadata": {},
   "source": [
    "## [3 40 pts total in a and b] Data issues (dealing with corrupted data)\n",
    "\n",
    "Often we have data in some form. In fact all data can be thought of as strings which are either on storage, or in RAM. When we use the internet and are looking for information the server (computer) either has this data in RAM already (we say this is cahched data) or it will read it from storage and then it will be in RAM. Once the data is in RAM it will then send that string over the internet which your computer will read into its own RAM. Do you think this works perfectly at all times? What about when you loose your internet connection... Control structures are just waht we need to work with data it turns out!"
   ]
  },
  {
   "cell_type": "markdown",
   "id": "3f26f087-52cb-48b4-9d25-5403e24b3d32",
   "metadata": {
    "tags": []
   },
   "source": [
    "Using the numpy library we will generate 1E6 float numbers to xs and then simulate transmitting some of them to ys. To do this we will randomly drop some values and put a letter instead and then save that to a file local to our notebook called xs.tsv. You will need to run this on your local machine in order for the xs.tsv file to be generated on your system."
   ]
  },
  {
   "cell_type": "code",
   "execution_count": 54,
   "id": "9d3874a6-4d07-4019-9df9-42b4bfbd50b2",
   "metadata": {},
   "outputs": [
    {
     "data": {
      "text/plain": [
       "array([-36.32240915, -17.76594218, -74.76144994,  -4.47906821,\n",
       "        88.27856508])"
      ]
     },
     "execution_count": 54,
     "metadata": {},
     "output_type": "execute_result"
    }
   ],
   "source": [
    "xs = numpy.random.uniform(-100,100,int(1E4)) #one million numbers between -100 and +100\n",
    "### I converted 1 million to 10 thousand because it takes too long to run.\n",
    "xs\n",
    "xs[0:5]"
   ]
  },
  {
   "cell_type": "code",
   "execution_count": 55,
   "id": "55a9147e-c5eb-490e-a242-9eed14859e95",
   "metadata": {},
   "outputs": [
    {
     "name": "stdout",
     "output_type": "stream",
     "text": [
      "now writting data to disk\n",
      "-36.32240915460798\tN\t-74.76144993627318\t-4.479068214173296\t88.27856507510964\n",
      "68.17529979958286\t11.82\n"
     ]
    }
   ],
   "source": [
    "def tx(y,p): #transmission simulation where float y is randomly corrupted by probability p\n",
    "    return (str(y) if numpy.random.choice([True,False],1,p=[1-p,p]) else chr(65+numpy.random.choice(range(26))))\n",
    "            \n",
    "def write_data(file_path,xs):\n",
    "    s = '\\n'.join(['\\t'.join([tx(y,0.25) for y in xs[i:(i+5)]]) for i in range(0,len(xs)-1,5)]) #pack up data into rows of 5\n",
    "    print('now writting data to disk')\n",
    "    print(s[:100])  #show just first bit\n",
    "    with open(file_path,'w') as f: f.write(s)\n",
    "\n",
    "write_data('xs.tsv',xs) #this will take a few seconds to write to your disk..."
   ]
  },
  {
   "cell_type": "markdown",
   "id": "1d7d3021-180e-4375-be39-06e1708f2849",
   "metadata": {},
   "source": [
    "#### Now we write a function to read the data and put it into a list for you to work with called ys"
   ]
  },
  {
   "cell_type": "code",
   "execution_count": 56,
   "id": "20c156e3-973e-400d-85f2-60e186a155d5",
   "metadata": {},
   "outputs": [
    {
     "data": {
      "text/plain": [
       "['-36.32240915460798',\n",
       " 'N',\n",
       " '-74.76144993627318',\n",
       " '-4.479068214173296',\n",
       " '88.27856507510964',\n",
       " '68.17529979958286',\n",
       " '11.829554421498756',\n",
       " '15.420726255752811',\n",
       " '-22.063915948636165',\n",
       " 'W']"
      ]
     },
     "execution_count": 56,
     "metadata": {},
     "output_type": "execute_result"
    }
   ],
   "source": [
    "def read_data(file_path):\n",
    "    ys = []\n",
    "    with open(file_path,'r') as f:\n",
    "        for row in f:\n",
    "            for c in row.replace('\\n','').split('\\t'): ys += [c]\n",
    "    return ys\n",
    "\n",
    "ys = read_data('xs.tsv') #read in the data (will have some corrupted values)\n",
    "ys[:10]                  #look at some of these values"
   ]
  },
  {
   "cell_type": "markdown",
   "id": "9ea1c68c-c08f-4dfb-9136-ace660801160",
   "metadata": {},
   "source": [
    "### [Exercise 3a 20pts] Clean the data in ys to be only of float type\n",
    "#### The code is shown below to read trhough every value in ys. You will need to modify the code using the control structures in section [1] and [2] to convert all regular float numbers to float type, and clear all letter values by setting them to the default value of 0.0.\n",
    "Hint: float will generate a ValueError when you feed it a letter "
   ]
  },
  {
   "cell_type": "code",
   "execution_count": 57,
   "id": "c597870d-cbaa-4852-a51f-ac556092e228",
   "metadata": {},
   "outputs": [],
   "source": [
    "list_1 = []\n",
    "for y in ys:\n",
    "    try:\n",
    "        y = float(y) #your control structure code here should change the type: y = float(y) will work sometimes!\n",
    "    except ValueError:\n",
    "        y = 0.0\n",
    "    list_1.append(y)\n",
    " \n",
    "#check to make sure ys is all floast by trying to convert it here\n",
    "### I didn't changed the values in ys here because it's first form will be required in the next tasks. \n",
    "list_1 = numpy.asarray(list_1,dtype=float)"
   ]
  },
  {
   "cell_type": "code",
   "execution_count": 58,
   "id": "9afc74a3-d182-4ff8-b47f-4c3e9c0a1c6a",
   "metadata": {},
   "outputs": [
    {
     "data": {
      "image/png": "[encoded data removed]",
      "text/plain": [
       "<Figure size 640x480 with 1 Axes>"
      ]
     },
     "metadata": {},
     "output_type": "display_data"
    }
   ],
   "source": [
    "#you can plot your results when it is all set! Don't run it if you ys data isn't fixed...\n",
    "import matplotlib.pyplot as plt\n",
    "plt.hist(list_1) #switch this to ys when you are sure that you have all floats!\n",
    "plt.show()"
   ]
  },
  {
   "cell_type": "markdown",
   "id": "27580924-51b4-445c-bcc9-3947ae1a4565",
   "metadata": {},
   "source": [
    "### [Exercise 3b* 20pts] A better strategy for working with the data\n",
    "#### A better way to work with data is to try to fill in the missing value. This is known as imputation as would lead to a better looking plot (without the large bump at 0.0 in the center)"
   ]
  },
  {
   "cell_type": "markdown",
   "id": "ffa66728-94ce-4c50-a155-80bfcde742dd",
   "metadata": {},
   "source": [
    "#### First go through ys and skip any bad data"
   ]
  },
  {
   "cell_type": "code",
   "execution_count": 59,
   "id": "60af0743-e8e3-4f9d-8041-e33a4aa84147",
   "metadata": {},
   "outputs": [],
   "source": [
    "gs = []\n",
    "for y in ys:\n",
    "    try:\n",
    "        gs += [float(y)] #this will only work sometimes, rewrite it using a control structure\n",
    "    except ValueError:\n",
    "        pass"
   ]
  },
  {
   "cell_type": "markdown",
   "id": "3ae1f60d-0073-468b-8cfa-61bd20c3d088",
   "metadata": {},
   "source": [
    "#### Now that you have only the good pieces of data, you can sample from them when you encounter bad data instead of setting the value to zero"
   ]
  },
  {
   "cell_type": "code",
   "execution_count": 60,
   "id": "8b86d00e-d17e-420b-9ce4-98c45dcb1aba",
   "metadata": {},
   "outputs": [],
   "source": [
    "def impute(gs): #here we will pick a value from the good data gs to use for a bad value y\n",
    "    return numpy.random.choice(gs,1)[0]"
   ]
  },
  {
   "cell_type": "markdown",
   "id": "584b5508-f24a-4057-bafd-66d3fb998ea5",
   "metadata": {},
   "source": [
    "#### Redo the value swaping code above using the impute function and see if the graph looks better?"
   ]
  },
  {
   "cell_type": "code",
   "execution_count": 61,
   "id": "85aec98b-3fa4-4ea8-b70c-50b7f5ddf84e",
   "metadata": {},
   "outputs": [],
   "source": [
    "list_2 = []\n",
    "for y in ys:\n",
    "    try:\n",
    "        y = float(y) #your control structure code here should change the type: y = float(y) will work sometimes!\n",
    "    except ValueError:\n",
    "        y = impute(gs)\n",
    "    list_2.append(y)\n",
    "\n",
    "#check to make sure ys is all floast by trying to convert it here\n",
    "list_2 = numpy.asarray(list_2,dtype=float)"
   ]
  },
  {
   "cell_type": "code",
   "execution_count": 62,
   "id": "9f824ee6-717d-4b85-98d0-806326941d3f",
   "metadata": {},
   "outputs": [
    {
     "data": {
      "image/png": "[encoded data removed]",
      "text/plain": [
       "<Figure size 640x480 with 1 Axes>"
      ]
     },
     "metadata": {},
     "output_type": "display_data"
    }
   ],
   "source": [
    "plt.hist(list_2) #switch this to ys when you are sure that you have all floats!\n",
    "plt.show()"
   ]
  },
  {
   "cell_type": "markdown",
   "id": "acdc2af9-853e-48e6-81ef-cafcc54b86e1",
   "metadata": {},
   "source": [
    "## [4 20 pts] Detail you thoughts about python3 control structures\n",
    "#### Write a few sentances in markdown below about your impressions of the python3 control structures. What kinds of things do you think you would do with them in problem solving? Did you find this LAB more challenging than the last? If so what were the hard parts?"
   ]
  },
  {
   "cell_type": "markdown",
   "id": "0852c86c-1c7f-495a-a553-812f1533774e",
   "metadata": {},
   "source": [
    "your markdown here...\n",
    "\n",
    "I think that control structures in python3 are very useful in problem solving because I'm able to alter the way that program runs depending on a specific condition. Control structures allows me to get different outcomes with different conditions. \n",
    "\n",
    "I think that this lab was a little bit more challenging than others. For me, the hardest part was to convert the input to a bool. Other than that it was not so challenging generally and can be done with following the prompts. "
   ]
  },
  {
   "cell_type": "markdown",
   "id": "7d0edbcc",
   "metadata": {},
   "source": []
  }
 ],
 "metadata": {
  "kernelspec": {
   "display_name": "Python 3 (ipykernel)",
   "language": "python",
   "name": "python3"
  },
  "language_info": {
   "codemirror_mode": {
    "name": "ipython",
    "version": 3
   },
   "file_extension": ".py",
   "mimetype": "text/x-python",
   "name": "python",
   "nbconvert_exporter": "python",
   "pygments_lexer": "ipython3",
   "version": "3.11.5"
  }
 },
 "nbformat": 4,
 "nbformat_minor": 5
}

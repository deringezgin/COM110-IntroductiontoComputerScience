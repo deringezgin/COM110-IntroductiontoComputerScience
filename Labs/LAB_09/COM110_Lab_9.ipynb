{
 "cells": [
  {
   "cell_type": "markdown",
   "id": "a6633855-4636-413a-83a9-5f093d511992",
   "metadata": {
    "tags": []
   },
   "source": [
    "### Derin Gezgin"
   ]
  },
  {
   "cell_type": "markdown",
   "id": "41efd97b-72db-4218-aed5-8283e7109f42",
   "metadata": {},
   "source": [
    "## COM110 Lab9: Biological Sequence Analysis (bioinformatics string problems)\n",
    "### dict, list, str\n",
    "<img src=\"https://www.genome.gov/sites/default/files/media/images/tg/DNA.jpg\" width=\"800\">\n",
    "(c) 2023 Timothy Becker, Department of Computer Science <br><br>\n",
    "<img src=\"https://www.conncoll.edu/media/website-media/visualidentity/images/1Line-LogoSig-Color.jpg\" width=\"200\">"
   ]
  },
  {
   "cell_type": "markdown",
   "id": "d7e9c2a7-5aad-4c95-9f65-6ec02999f743",
   "metadata": {},
   "source": [
    "### Preface\n",
    "Biological systems are complex and pose great observational difficulty since the level that often is needed to understand function is micro in scale. Thankfully, computational technology has been applied to microbiology bringing the details of the cell and the systems into view using sequencing that can read RNA and DNA material. In this LAB we will work with DNA and RNA. A simple view (central dogma)[https://www.genome.gov/genetics-glossary/Central-Dogma] of this is that the DNA is the master code book and the mRNA is a section of that book that has been copied (transcribed) that will become a protein (biological machine that provides basic life function such as breathing or digesting food). \n",
    "\n",
    "Is there a more amazing molecule than DNA? It makes each of us who we are. The more scientists understand it, the more we all understand ourselves, one another, and the world around us.   The is why DNA is also a computer science subject!  For example, did you know that we are all far more alike than we are different? In fact, the DNA from any two people is 99.9% identical, with that shared blueprint guiding our development and forming a common thread across the world.   The differing 0.1% contains variations that influence our uniqueness, which when combined with our environmental and social contexts give us our abilities, our health, our behavior.   How can one, single molecule contain so much mystery and wonder? We are only beginning to understand the answer to that question, which is what makes the study of DNA so exciting. \n",
    "\n",
    "citations: https://rosalind.info/problems/list-view/, https://www.genome.gov/genetics-glossary/Deoxyribonucleic-Acid\n"
   ]
  },
  {
   "cell_type": "markdown",
   "id": "5d5654f3-32dd-4c73-b000-329bcd21161a",
   "metadata": {},
   "source": [
    "### [problem1 10 pts] Counting DNA\n",
    "A string is simply an ordered collection of symbols selected from some alphabet and formed into a word; the length of a string is the number of symbols that it contains.\n",
    "An example of a length 21 DNA string (whose alphabet contains the symbols 'A', 'C', 'G', and 'T') is \"ATGCTTCAGAAAGGTCTTACG.\"\n",
    "\n",
    "<b>Given:</b> A DNA string $s$ of length at most 1000.\n",
    "\n",
    "<b>Return:</b> Four integers (separated by spaces) counting the respective number of times that the symbols 'A', 'C', 'G', and 'T' occur in s\n",
    "\n",
    "Sample Dataset:"
   ]
  },
  {
   "cell_type": "code",
   "execution_count": 1,
   "id": "ca7e8c57-28f4-4bef-87bc-13a00c7d6cd1",
   "metadata": {},
   "outputs": [],
   "source": [
    "s = 'AGCTTTTCATTCTGACTGCAACGGGCAATATGTCTCTGTGTGGATTAAAAAAAGAGTGTCTGATAGCAGC'"
   ]
  },
  {
   "cell_type": "markdown",
   "id": "3953f3cf-e34e-45fd-9ae1-a4328c22950e",
   "metadata": {},
   "source": [
    "Sample Output:"
   ]
  },
  {
   "cell_type": "raw",
   "id": "1bf7b2b7-95c0-4713-abc5-6b46450e1e0f",
   "metadata": {},
   "source": [
    "20 12 17 21"
   ]
  },
  {
   "cell_type": "code",
   "execution_count": 2,
   "id": "211ac77c-eac4-45b1-8d07-03d7ede06ac9",
   "metadata": {},
   "outputs": [
    {
     "name": "stdout",
     "output_type": "stream",
     "text": [
      "20 12 17 21\n"
     ]
    }
   ],
   "source": [
    "#your code for problem1 here\n",
    "def ACGT_count(s):\n",
    "    # Counting occurances with .count() function\n",
    "    a = s.count(\"A\")\n",
    "    c = s.count(\"C\")\n",
    "    g = s.count(\"G\")\n",
    "    t = s.count(\"T\")\n",
    "    return f\"{a} {c} {g} {t}\" # Returning in the requested format\n",
    "\n",
    "### Sample Usage ###\n",
    "print(ACGT_count(s))"
   ]
  },
  {
   "cell_type": "markdown",
   "id": "1b98c95b-7f65-4ce2-ba06-300001dbee82",
   "metadata": {},
   "source": [
    "### [problem2 10pts] DNA to RNA conversion\n",
    "\n",
    "An RNA string is a string formed from the alphabet containing 'A', 'C', 'G', and 'U'. Given a DNA string $t$ corresponding to a coding strand, its transcribed RNA string $u$ is formed by replacing all occurrences of 'T' in t with 'U' in $u$.\n",
    "\n",
    "<b>Given:</b> A DNA string $t$ having length at most 1000.\n",
    "\n",
    "<b>Return:</b> The transcribed RNA string of $t$ which we defined as $u$.\n",
    "\n",
    "Sample Dataset:"
   ]
  },
  {
   "cell_type": "code",
   "execution_count": null,
   "id": "d50c6602-8417-4177-90c3-e1e480ded353",
   "metadata": {},
   "outputs": [],
   "source": [
    "GATGGAACTTGACTACGTAAATT"
   ]
  },
  {
   "cell_type": "markdown",
   "id": "d643615e-4e3c-4b97-9b3b-dd0e731a9542",
   "metadata": {},
   "source": [
    "Sample Output:"
   ]
  },
  {
   "cell_type": "raw",
   "id": "2dd76e22-16ef-48d2-962b-5385ea3f8e5b",
   "metadata": {},
   "source": [
    "GAUGGAACUUGACUACGUAAAUU"
   ]
  },
  {
   "cell_type": "code",
   "execution_count": 3,
   "id": "6f26ab87-b24d-4b9e-9bd5-aca7f4977149",
   "metadata": {},
   "outputs": [
    {
     "name": "stdout",
     "output_type": "stream",
     "text": [
      "GAUGGAACUUGACUACGUAAAUU\n"
     ]
    }
   ],
   "source": [
    "#your code for problem2 here\n",
    "def transcribe(s):\n",
    "    rna = \"\"        # Creating an empty rna string to store output\n",
    "\n",
    "    for char in s:  # Looping through the DNA sequence and transcribing the RNA\n",
    "        if char == \"A\": rna += \"A\"\n",
    "        elif char == \"C\": rna += \"C\"\n",
    "        elif char == \"G\": rna += \"G\"\n",
    "        elif char == \"T\": rna += \"U\"\n",
    "        \n",
    "    return rna\n",
    "\n",
    "### Sample Usage ###\n",
    "s = \"GATGGAACTTGACTACGTAAATT\" # Sample dataset\n",
    "print(transcribe(s))"
   ]
  },
  {
   "cell_type": "markdown",
   "id": "8edbf6e7-d3d3-4394-baab-8b497e5517cb",
   "metadata": {},
   "source": [
    "### [problem3 10pts] Reverse Complement of a String\n",
    "In DNA strings, symbols 'A' and 'T' are complements of each other, as are 'C' and 'G'. The reverse complement of a DNA string $s$ is the string $s'$ formed by reversing the symbols of $s$, then taking the complement of each symbol (e.g., the reverse complement of \"GTCA\" is \"TGAC\").\n",
    "\n",
    "<b>Given:</b> A DNA string $s$ of length at most 1000\n",
    "\n",
    "<b>Return:</b> The reverse complement $s'$ of $s$.\n",
    "\n",
    "Sample Dataset:"
   ]
  },
  {
   "cell_type": "raw",
   "id": "8d64cbce-c4c4-4ec8-97e9-6bf708953544",
   "metadata": {},
   "source": [
    "AAAACCCGGT"
   ]
  },
  {
   "cell_type": "markdown",
   "id": "46de14e3-e2ac-454e-a1e9-bf77b3519912",
   "metadata": {},
   "source": [
    "Sample Output:"
   ]
  },
  {
   "cell_type": "raw",
   "id": "9e9ab372-17c3-488f-abb3-a2e1729fb1b5",
   "metadata": {},
   "source": [
    "ACCGGGTTTT"
   ]
  },
  {
   "cell_type": "code",
   "execution_count": 4,
   "id": "2ed4103f-f5a6-493b-9b0b-837958656bd7",
   "metadata": {},
   "outputs": [
    {
     "name": "stdout",
     "output_type": "stream",
     "text": [
      "ACCGGGTTTT\n"
     ]
    }
   ],
   "source": [
    "#your code for problem2 here\n",
    "\n",
    "def reverser(s):\n",
    "    r = \"\" # Empty string for output sequence\n",
    "    \n",
    "    for char in s:  # Replacing A -> T | C -> G | G -> C | T -> A and adding them to the output sequence \n",
    "        if char == \"A\": r += \"T\"\n",
    "        elif char == \"C\": r += \"G\"\n",
    "        elif char == \"G\": r += \"C\"\n",
    "        elif char == \"T\": r += \"A\"\n",
    "\n",
    "    return r[::-1]  # Returning the reversed version of the sequence\n",
    "\n",
    "### Sample Usage ###\n",
    "s = \"AAAACCCGGT\" # Sample dataset\n",
    "print(reverser(s))"
   ]
  },
  {
   "cell_type": "markdown",
   "id": "1e6bd915-9140-437d-985c-0dc268b41760",
   "metadata": {},
   "source": [
    "### [problem4 10pts] Compute GC content from a FASTA file\n",
    "The GC-content of a DNA string is given by the percentage of symbols in the string that are 'C' or 'G'. For example, the GC-content of \"AGCTATAG\" is 37.5%. Note that the reverse complement of any DNA string has the same GC-content.\n",
    "\n",
    "DNA strings must be labeled when they are consolidated into a database. A commonly used method of string labeling is called FASTA format. In this format, the string is introduced by a line that begins with '>', followed by some labeling information. Subsequent lines contain the string itself; the first line to begin with '>' indicates the label of the next string. The lines are continous even though they contain a newline every 80 characters. Only the '>' indicates the start of a new DNA strings also known as a sequence.\n",
    "\n",
    "<b>Given:</b> At most 10 DNA strings in FASTA format (of length at most 1000 each). This is called example.fasta\n",
    "\n",
    "<b>Return:</b> The sequence ID of the string having the highest GC-content, followed by the GC-content of that string. This is the part that comes after the '>' character.\n",
    "\n",
    "Sample Dataset:"
   ]
  },
  {
   "cell_type": "raw",
   "id": "ab6e4d1c-70ae-4aa3-9ca8-00d5318504f5",
   "metadata": {},
   "source": [
    ">seq_6404\n",
    "CCTGCGGAAGATCGGCACTAGAATAGCCAGAACCGTTTCTCTGAGGCTTCCGGCCTTCCC\n",
    "TCCCACTAATAATTCTGAGG\n",
    ">seq_5959\n",
    "CCATCGGTAGCGCATCCTTAGTCCAATTAAGTCCCTATCCAGGCGCTCCGCCGAAGGTCT\n",
    "ATATCCATTTGTCAGCAGACACGC\n",
    ">seq_0808\n",
    "CCACCCTCGTGGTATGGCTAGGCATTCAGGAACCGGAGAACGCTTCAGACCAGCCCGGAC\n",
    "TGGGAACCTGCGGGCAGTAGGTGGAAT"
   ]
  },
  {
   "cell_type": "code",
   "execution_count": null,
   "id": "a667820d-8724-4717-8a35-15b468003784",
   "metadata": {},
   "outputs": [],
   "source": [
    "#helper code, you still need to glue the lines together!\n",
    "with open('example.fasta','r') as f: \n",
    "    data = [row.replace('\\n','') for row in f.readlines()]\n",
    "data"
   ]
  },
  {
   "cell_type": "markdown",
   "id": "d4fec4d4-ad62-4d92-a24c-fbd203e6059c",
   "metadata": {},
   "source": [
    "Sample Output:"
   ]
  },
  {
   "cell_type": "raw",
   "id": "776164e5-f7e2-471f-a888-139065da75ad",
   "metadata": {},
   "source": [
    "seq_0808\n",
    "60.919540"
   ]
  },
  {
   "cell_type": "code",
   "execution_count": 5,
   "id": "ea12412d-e979-4d1c-9cf0-3d36dc4265c4",
   "metadata": {},
   "outputs": [
    {
     "name": "stdout",
     "output_type": "stream",
     "text": [
      "{'seq_6404': 53.75, 'seq_5959': 53.57142857142857, 'seq_0808': 60.91954022988506}\n"
     ]
    }
   ],
   "source": [
    "#your code for problem4 here\n",
    "def gc_calc(fasta_file):\n",
    "    with open(fasta_file,'r') as f: \n",
    "        # Opening the file and returning the data in it as a list called data\n",
    "        data = [row.replace('\\n','') for row in f.readlines()]\n",
    "\n",
    "    i = 0\n",
    "    seq_dict = {} # Empty dictionary to store sequence ID as a key and sequence as a value\n",
    "    recentline = \"\"\n",
    "\n",
    "    for line in data: # Looping through the lines\n",
    "        if line.startswith(\">\"):    # If a line starts with \">\"\n",
    "            seq_dict[line[1:]] = \"\" # The line is assigned as a key\n",
    "            recentline = line[1:]   # The key is stored in a variable \n",
    "        else:\n",
    "            seq_dict[recentline] += line # If line doesn't start with a \">\" it means it's sequence so we add it to the value\n",
    "\n",
    "    gc_dict = {} # Empty dictionary to store sequence ID as a key and GC content as a value\n",
    "    for key in seq_dict:            # Looping through the keys\n",
    "        sequence = seq_dict[key]    # Storing the sequence\n",
    "        gc_content = ((sequence.count(\"G\") + sequence.count(\"C\")) / len(sequence)) * 100 # Finding the GC content\n",
    "        gc_dict[key] = gc_content   # Adding the key-value pair to the gc_dict\n",
    "    return gc_dict\n",
    "\n",
    "### Sample Usage ###\n",
    "print(gc_calc(\"example.fasta\"))"
   ]
  },
  {
   "cell_type": "markdown",
   "id": "32b78569-3471-427f-827b-b5253ece9d5f",
   "metadata": {},
   "source": [
    "### [problem5 10pts] Hamming Distance\n",
    "Given two strings $s$ and $t$ of equal length, the Hamming distance between $s$ and $t$, denoted $d_H(s,t)$, \n",
    "is the number of corresponding symbols that differ in $s$ and $t$.\n",
    "\n",
    "<b>Given:</b> Two DNA strings $s$ and $t$ of equal length (not exceeding 1000)\n",
    "\n",
    "<b>Return:</b> The Hamming distance $d_H(s,t)$\n",
    "\n",
    "Sample Dataset:"
   ]
  },
  {
   "cell_type": "raw",
   "id": "938278f6-0349-42a9-815b-829af6e2d422",
   "metadata": {},
   "source": [
    "GAGCCTACTAACGGGAT\n",
    "CATCGTAATGACGGCCT"
   ]
  },
  {
   "cell_type": "markdown",
   "id": "63678a78-49f1-4df8-8509-901d7fc22be3",
   "metadata": {},
   "source": [
    "Sample Output:"
   ]
  },
  {
   "cell_type": "raw",
   "id": "c25f94ea-8709-4a10-8a05-accb7b84a8e0",
   "metadata": {},
   "source": [
    "7"
   ]
  },
  {
   "cell_type": "code",
   "execution_count": 6,
   "id": "46b9da74-5955-4b0c-835b-cd4435f3fe55",
   "metadata": {},
   "outputs": [
    {
     "name": "stdout",
     "output_type": "stream",
     "text": [
      "7\n"
     ]
    }
   ],
   "source": [
    "# your code for problem5 here\n",
    "def dh(s,t):\n",
    "    hamming_distance = 0\n",
    "    for i in range(len(s)):\n",
    "        if s[i] != t[i]: hamming_distance += 1 # If the same index of the two strings have the same values, incrementing hamming_distance\n",
    "    \n",
    "    return hamming_distance\n",
    "\n",
    "### Sample Usage ###\n",
    "s = \"GAGCCTACTAACGGGAT\"\n",
    "t = \"CATCGTAATGACGGCCT\"\n",
    "\n",
    "print(dh(s,t))"
   ]
  },
  {
   "cell_type": "markdown",
   "id": "89c29d77-904b-4196-8179-b04d219bcafd",
   "metadata": {},
   "source": [
    "### [problem6 10pts] Finding a Motif in DNA\n",
    "Given two strings $s$ and $t$, $t$ is a substring of $s$ if $t$ is contained as a contiguous collection of symbols in $s$ (as a result, $t$ must be no longer than $s$).\n",
    "\n",
    "The position of a symbol in a string is the total number of symbols found to its left, including itself (e.g., the positions of all occurrences of 'U' in \"AUGCUUCAGAAAGGUCUUACG\" are 2, 5, 6, 15, 17, and 18). The symbol at position $i$\n",
    "of s is denoted by $s[i]$.\n",
    "\n",
    "A substring of $s$ can be represented as $s[j:k]$, where $j$ and $k$ represent the starting and ending positions of the substring in $s$; for example:<br> \n",
    "if $s$ = \"AUGCUUCAGAAAGGUCUUACG\", then $s[2:5]$ = \"UGCU\".\n",
    "\n",
    "The location of a substring $s[j:k]$ is its beginning position $j$; note that $t$ will have multiple locations in $s$ if it occurs more than once as a substring of $s$.\n",
    "\n",
    "<b>Given:</b> Two DNA strings $s$ and $t$ (each of length at most 1000).\n",
    "\n",
    "<b>Return:</b> All locations of $t$ as a substring of $s$.\n",
    "\n",
    "Sample Dataset:"
   ]
  },
  {
   "cell_type": "raw",
   "id": "47c9f72a-6845-41e1-b546-8f084bd9bfa5",
   "metadata": {},
   "source": [
    "GATATATGCATATACTT\n",
    "ATAT"
   ]
  },
  {
   "cell_type": "markdown",
   "id": "0fcc0353-3c86-465d-ba66-fd8bc7783981",
   "metadata": {},
   "source": [
    "Sample Output:"
   ]
  },
  {
   "cell_type": "raw",
   "id": "da891c11-08ff-4fa0-8252-015b5e9f2142",
   "metadata": {},
   "source": [
    "2 4 10"
   ]
  },
  {
   "cell_type": "code",
   "execution_count": 7,
   "id": "f98b7a5a-a677-4a02-a5e6-0fd9c9fe059b",
   "metadata": {},
   "outputs": [
    {
     "name": "stdout",
     "output_type": "stream",
     "text": [
      "2 4 10\n"
     ]
    }
   ],
   "source": [
    "#your code for problem6 here\n",
    "def find_motif(d,m):\n",
    "    loc = []\n",
    "    for i in range(len(d)-len(m)+1):\n",
    "        if d[i:i+len(m)] == m: loc.append(str(i+1))\n",
    "    return ' '.join(loc)\n",
    "\n",
    "### Sample Usage ### \n",
    "dna = \"GATATATGCATATACTT\"\n",
    "motif = \"ATAT\"\n",
    "print(find_motif(dna,motif))"
   ]
  },
  {
   "cell_type": "markdown",
   "id": "d5d0858f-c958-4a2f-97bc-160007af4056",
   "metadata": {},
   "source": [
    "### [problem7 15pts] Most Frequent Motifs\n",
    "Using what you learned in problem5 can you find the most frequent Motif? First lets compute how many potential Motifs there could be. Given the alpha bet 'A','T','G','C' and $s$ with length 10 you would have Motifs for substring $t$ of lengths 1,2,3,4,5,6,7,8,9,10. The total number of potential Motifs would then be:\n",
    "\n",
    "$\\displaystyle\\sum_{i=1}^{10} 4^i = 4^1+4^2+4^3+4^4+4^5+4^6+4^7+4^8+4^9+4^{10} = 349525$"
   ]
  },
  {
   "cell_type": "code",
   "execution_count": null,
   "id": "06bb25e1-4c44-41ba-a090-78e13509aaba",
   "metadata": {},
   "outputs": [],
   "source": [
    "sum([4**i for i in range(10)])"
   ]
  },
  {
   "cell_type": "markdown",
   "id": "0f02650c-ede3-4d0a-928b-fca4431e4933",
   "metadata": {},
   "source": [
    "<b>Given:</b> $s$, with 5 < $|s|$ < 100\n",
    "\n",
    "<b>Return:</b> most frequent Motif $t$ in $s$ larger than 5\n",
    "\n",
    "Sample Dataset:"
   ]
  },
  {
   "cell_type": "raw",
   "id": "a61b057a-c0c3-4321-8072-ddc530a95985",
   "metadata": {},
   "source": [
    "ATTCGCGATTATATATTTTTCTCTCTCTATACACATCC"
   ]
  },
  {
   "cell_type": "markdown",
   "id": "64091361-bb9d-45ac-a82b-4e32f1592f6f",
   "metadata": {},
   "source": [
    "Sample Output:"
   ]
  },
  {
   "cell_type": "raw",
   "id": "eb43f3a7-406b-4050-8da1-a8aa5f9ae512",
   "metadata": {},
   "source": [
    "2 TCTCTC"
   ]
  },
  {
   "cell_type": "code",
   "execution_count": 8,
   "id": "44783590-b08c-4c47-93c3-23b690db1b95",
   "metadata": {},
   "outputs": [
    {
     "name": "stdout",
     "output_type": "stream",
     "text": [
      "2 TCTCTC\n"
     ]
    }
   ],
   "source": [
    "#your code for problem7 here\n",
    "def comb_counter(d):\n",
    "    all_combination_occurances = {}\n",
    "\n",
    "    combinations = [d[i: j] for i in range(len(d)) for j in range(i + 1, len(d) + 1)] # Every possible combination in the input sequence\n",
    "    cleared_combinations = [c for c in combinations if len(c)>5] # Filtering to sequences to have ones longer than 5\n",
    "\n",
    "    for key in cleared_combinations: # Loopin through the combinations\n",
    "        count = len(find_motif(d, key).split(\" \"))  # Using the find_motif function, converting output to list and finding its length\n",
    "        all_combination_occurances[key] = count     # Assigning the key-value pair (key:combination | value:count)\n",
    "    \n",
    "    max_key = max(all_combination_occurances, key= all_combination_occurances.get)  # Finding the maximum key\n",
    "    return f\"{all_combination_occurances[max_key]} {max_key}\" # Output in the \"maximum value\" \"maximum key\" format\n",
    "\n",
    "### Sample Usage ### \n",
    "data = \"ATTCGCGATTATATATTTTTCTCTCTCTATACACATCC\"\n",
    "print(comb_counter(data))"
   ]
  },
  {
   "cell_type": "markdown",
   "id": "72d331b7-766f-499b-875e-c42708ecd508",
   "metadata": {},
   "source": [
    "Hint: If you try to check for every possible Motif, it would take 349525 passes of $t$ against $s$ (using loops). A better way would be to set the Motif size to 1,2,3,4,5,6,7,8,9,10 using slicing and read and count these substrings using a dictionary like we did with word frequency in LAB8. Break down this problem into two parts: (a) get the frequencies of the substrings, (b) loop over the frequencies and find the most frequent substring that is longer than 5. If you get stuck, explain your efforts in a markdown cell."
   ]
  },
  {
   "cell_type": "markdown",
   "id": "20f88208-8716-4eab-8a59-f3df5698035e",
   "metadata": {},
   "source": [
    "### [problem8 15pts] Consensus String\n",
    "A matrix is a rectangular table of values divided into rows and columns. An $m$×$n$ matrix has $m$ rows and $n$ columns. Given a matrix $A$, we write $A_{i,j}$ to indicate the value found at the intersection of row $i$ and column $j$.\n",
    "\n",
    "Assume that we have a collection of DNA strings, all having the same length $n$. Their profile matrix is a $4$×$n$ matrix $P$ in which $P_{1,j}$ represents the number of times that 'A' occurs in the $j$th position of one of the strings, $P_{2,j}$ represents the number of times that 'C' occurs in the $j$th position, and so on.\n",
    "\n",
    "A consensus string $c$ is a string of length $n$ formed from our collection by taking the most common symbol at each position; the $j$th symbol of $c$ therefore corresponds to the symbol having the maximum value in the $j$th column of the profile matrix. Of course, there may be more than one most common symbol, leading to multiple possible consensus strings.\n",
    "\n",
    "Sample Dataset:"
   ]
  },
  {
   "cell_type": "raw",
   "id": "ced9fa6e-09b4-425e-bec2-90122d9334c3",
   "metadata": {},
   "source": [
    ">seq_1\n",
    "ATCCAGCT\n",
    ">seq_2\n",
    "GGGCAACT\n",
    ">seq_3\n",
    "ATGGATCT\n",
    ">seq_4\n",
    "AAGCAACC\n",
    ">seq_5\n",
    "TTGGAACT\n",
    ">seq_6\n",
    "ATGCCATT\n",
    ">seq_7\n",
    "ATGGCACT"
   ]
  },
  {
   "cell_type": "markdown",
   "id": "1ec7e376-4bf2-4485-b25f-a04cc554a874",
   "metadata": {},
   "source": [
    "Sample Output:"
   ]
  },
  {
   "cell_type": "raw",
   "id": "38397039-4fb7-4d33-a74f-028c2527d6e1",
   "metadata": {},
   "source": [
    "ATGCAACT\n",
    "A: 5 1 0 0 5 5 0 0\n",
    "C: 0 0 1 4 2 0 6 1\n",
    "G: 1 1 6 3 0 1 0 0\n",
    "T: 1 5 0 0 0 1 1 6"
   ]
  },
  {
   "cell_type": "code",
   "execution_count": 9,
   "id": "774dc6f1-cc9f-46fc-8722-b8566969b1f7",
   "metadata": {},
   "outputs": [
    {
     "name": "stdout",
     "output_type": "stream",
     "text": [
      "ATGCAACT\n",
      "A: 5 1 0 0 5 5 0 0\n",
      "C: 0 0 1 4 2 0 6 1\n",
      "G: 1 1 6 3 0 1 0 0\n",
      "T: 1 5 0 0 0 1 1 6\n",
      "\n"
     ]
    }
   ],
   "source": [
    "#your code for problem8 here\n",
    "### vvv IMPORTANT vvv ###\n",
    "# I added the sample dataset to a .fasta file called \"sample_dataset.fasta\". I'm reading the inputs from there. \n",
    "### ^^^ IMPORTANT ^^^ ###\n",
    "def consensus_matrix(fasta_file):\n",
    "    with open(fasta_file,'r') as f: # Opening the file and returning the data in it as a list called data\n",
    "        data = [row.replace('\\n','') for row in f.readlines()]\n",
    "\n",
    "    i = 0\n",
    "    seq_dict = {} # Empty dictionary to store sequence ID as a key and sequence as a value\n",
    "    recentline = \"\"\n",
    "\n",
    "    for line in data: # Looping through the lines\n",
    "        if line.startswith(\">\"):    # If a line starts with \">\"\n",
    "            seq_dict[line[1:]] = \"\" # The line is assigned as a key\n",
    "            recentline = line[1:]   # The key is stored in a variable \n",
    "        else:\n",
    "            seq_dict[recentline] += line    # If line doesn't start with a \">\" it means it's sequence so we add it to the value\n",
    "\n",
    "    value_list = list(seq_dict.values())    # Storing the values in a list\n",
    "    # Creating a new dictionary to record frequences. I defined default value to 0. Values are lists containing zeros.  \n",
    "    consensus = {'A': [0]*len(value_list[0]),\n",
    "                 'C': [0]*len(value_list[0]),\n",
    "                 'G': [0]*len(value_list[0]),\n",
    "                 'T': [0]*len(value_list[0])}\n",
    "    \n",
    "    for value in value_list:            # Iterating every sequence\n",
    "        for i in range(len(value)):     # Iterating every character in every sequence\n",
    "            consensus[value[i]][i] += 1 # +1 the matching value in the consensus dictionary. \n",
    "\n",
    "    keys = list(consensus)\n",
    "    frequences = list(consensus.values())\n",
    "    pivoted_frequences = [[row[i] for row in frequences] for i in range(len(value_list[0]))] # Pivoting the frequences list\n",
    "    max_indexes = [frequence.index(max(frequence)) for frequence in pivoted_frequences] # Taking the index of the max value to associate it with 'A' 'C' 'T' 'G'\n",
    "\n",
    "    # Creating the output string\n",
    "    result_string = \"\"\n",
    "    most_frequent = \"\".join([keys[index] for index in max_indexes])\n",
    "    result_string += most_frequent + \"\\n\"\n",
    "    for i in range(len(keys)):\n",
    "        str_frequences = [str(f) for f in frequences[i]]\n",
    "        result_string += keys[i] + \": \" + \" \".join(str_frequences) + \"\\n\"\n",
    "    return result_string\n",
    "\n",
    "### Sample Usage ###\n",
    "print(consensus_matrix(\"sample_dataset.fasta\"))"
   ]
  },
  {
   "cell_type": "markdown",
   "id": "095a038b-6f4f-4a09-bc5a-070f8cd161b2",
   "metadata": {},
   "source": [
    "### [reflection 10pts] Share your thoughts on the LAB.\n",
    "Was this one more difficult than the last one? What was the most interesting thing you learned here in this material? Do you want to see a particuliar type or form of data in a future LAB?"
   ]
  },
  {
   "cell_type": "markdown",
   "id": "70727847-a8be-4395-bb78-051a6bdcb06f",
   "metadata": {},
   "source": [
    "I think that this LAB was significantly harder than the previous ones. I had to complete it by myself after the class and submit it. \n",
    "\n",
    "But I think that the subject we are working on was too fun to play with. Also becuase the LAB was hard, trying to solve those problems made me learn more  complicated concepts and practice my advanced knowledge. Moreover, because some solutions were large-scaled I had to think very complex forms. \n",
    "\n",
    "This LAB was helpful for me but it was surely very hard. "
   ]
  },
  {
   "cell_type": "markdown",
   "id": "744dc7c0",
   "metadata": {},
   "source": []
  }
 ],
 "metadata": {
  "kernelspec": {
   "display_name": "Python 3 (ipykernel)",
   "language": "python",
   "name": "python3"
  },
  "language_info": {
   "codemirror_mode": {
    "name": "ipython",
    "version": 3
   },
   "file_extension": ".py",
   "mimetype": "text/x-python",
   "name": "python",
   "nbconvert_exporter": "python",
   "pygments_lexer": "ipython3",
   "version": "3.11.5"
  }
 },
 "nbformat": 4,
 "nbformat_minor": 5
}

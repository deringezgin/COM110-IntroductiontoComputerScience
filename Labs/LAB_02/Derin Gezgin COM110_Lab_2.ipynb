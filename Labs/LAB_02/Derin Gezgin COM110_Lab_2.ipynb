{
 "cells": [
  {
   "cell_type": "markdown",
   "id": "a6633855-4636-413a-83a9-5f093d511992",
   "metadata": {
    "tags": []
   },
   "source": [
    "### Derin Gezgin"
   ]
  },
  {
   "cell_type": "markdown",
   "id": "41efd97b-72db-4218-aed5-8283e7109f42",
   "metadata": {},
   "source": [
    "## COM110 Lab2:\n",
    "### Reading and Writing Files using List and String Processing\n",
    "(c) 2023 Timothy Becker, Department of Computer Science <br><br>\n",
    "<img src=\"https://www.conncoll.edu/media/website-media/visualidentity/images/1Line-LogoSig-Color.jpg\" width=\"200\">"
   ]
  },
  {
   "cell_type": "markdown",
   "id": "69db807d-f1ea-4e13-b3f0-67e0600b1808",
   "metadata": {},
   "source": [
    "## [1 20 pts] Practice with Lists\n",
    "\n",
    "Lets practice list processing methods before we put them to work in solving problems later in the lab."
   ]
  },
  {
   "cell_type": "markdown",
   "id": "0f8b9c81-87bf-41f8-bf18-2d53a31839da",
   "metadata": {},
   "source": [
    "### (i) list basics"
   ]
  },
  {
   "cell_type": "code",
   "execution_count": 27,
   "id": "38f3b45b-398a-4d8b-bc5e-457438a6a4ec",
   "metadata": {},
   "outputs": [
    {
     "data": {
      "text/plain": [
       "[1, 2]"
      ]
     },
     "execution_count": 27,
     "metadata": {},
     "output_type": "execute_result"
    }
   ],
   "source": [
    "xs = []      #an empty list\n",
    "xs += [1]    #append one new element to the list, not it is size=1\n",
    "xs.append(2) #append one new element (same as above)\n",
    "xs"
   ]
  },
  {
   "cell_type": "code",
   "execution_count": 28,
   "id": "f79c5955-9fe4-4a46-a2c1-5a47503ad352",
   "metadata": {},
   "outputs": [
    {
     "data": {
      "text/plain": [
       "[1, 2, 1, 2, 1, 2]"
      ]
     },
     "execution_count": 28,
     "metadata": {},
     "output_type": "execute_result"
    }
   ],
   "source": [
    "xs = xs + xs + xs #concatenate three copies of xs together and update xs\n",
    "xs"
   ]
  },
  {
   "cell_type": "code",
   "execution_count": 29,
   "id": "ab1cf7e0-4aca-4ded-a072-8872d80b5219",
   "metadata": {},
   "outputs": [
    {
     "data": {
      "text/plain": [
       "1"
      ]
     },
     "execution_count": 29,
     "metadata": {},
     "output_type": "execute_result"
    }
   ],
   "source": [
    "xs[0] #return the first element (index 0)"
   ]
  },
  {
   "cell_type": "markdown",
   "id": "d174f8ef-3933-41e4-b2e3-8ff13e0b2673",
   "metadata": {},
   "source": [
    "### [Exercise 1a] What would be the length of list xs if you concatenated it to itself?\n",
    "#### Hint: actually do the concatenation and then use the len function on it"
   ]
  },
  {
   "cell_type": "code",
   "execution_count": 30,
   "id": "d16a46de-e5eb-4fd1-95bc-4e7221c8ad9c",
   "metadata": {},
   "outputs": [
    {
     "data": {
      "text/plain": [
       "12"
      ]
     },
     "execution_count": 30,
     "metadata": {},
     "output_type": "execute_result"
    }
   ],
   "source": [
    "#your code goes here\n",
    "xs += xs # Concatenating xs to itself\n",
    "len(xs) # Length of the new xs which is 12"
   ]
  },
  {
   "cell_type": "markdown",
   "id": "d393031f-4bd0-4f2a-907c-945310bdd1de",
   "metadata": {},
   "source": [
    "### [Exercise 1b] can you now return the ith element of xs?\n",
    "#### Hint: set a variable i to be in the range [0,len(xs)-1] as we discussed in class and then check your result"
   ]
  },
  {
   "cell_type": "code",
   "execution_count": 31,
   "id": "48d5a5a7-ac1e-404c-852b-ac73aed8cd98",
   "metadata": {},
   "outputs": [
    {
     "data": {
      "text/plain": [
       "2"
      ]
     },
     "execution_count": 31,
     "metadata": {},
     "output_type": "execute_result"
    }
   ],
   "source": [
    "#your code goes here\n",
    "# len(xs) = 12\n",
    "# i has to be in range [0, len(xs)-1]\n",
    "# len(xs) = 12\n",
    "# i is in range [0, 11], It can take values [0,1,2,3,4,5,6,7,8,9,10,11]\n",
    "# xs[i]\n",
    "xs[3]"
   ]
  },
  {
   "cell_type": "markdown",
   "id": "3a934db2-2958-449d-a2c9-ffb05946684c",
   "metadata": {},
   "source": [
    "### (ii) loops and lists"
   ]
  },
  {
   "cell_type": "code",
   "execution_count": 32,
   "id": "855415f4-2397-4b96-9fd3-0f79d571285c",
   "metadata": {},
   "outputs": [
    {
     "name": "stdout",
     "output_type": "stream",
     "text": [
      "0.25\n",
      "0.3\n",
      "-0.5\n",
      "32.13\n",
      "0.25\n",
      "0.3\n",
      "-0.5\n",
      "32.13\n"
     ]
    }
   ],
   "source": [
    "ys = [0.25,0.3,-0.5,32.13]              #new list of floats\n",
    "\n",
    "for y in ys: print(y)                   #loop over each element of ys using an iterator\n",
    "\n",
    "for i in range(len(ys)): print(ys[i])   #make a counting variable called i and use it to index into list ys"
   ]
  },
  {
   "cell_type": "markdown",
   "id": "99925951-082d-4e0a-b0d9-6c102da0ada5",
   "metadata": {},
   "source": [
    "### [Exercise 1c] Can you print out each element of xs one at a time?\n",
    "#### Hint: use a for loop as shown in the text CH5 section"
   ]
  },
  {
   "cell_type": "code",
   "execution_count": 33,
   "id": "a6dbad91-b163-4ac8-902c-3d691bc5330f",
   "metadata": {},
   "outputs": [
    {
     "name": "stdout",
     "output_type": "stream",
     "text": [
      "1\n",
      "2\n",
      "1\n",
      "2\n",
      "1\n",
      "2\n",
      "1\n",
      "2\n",
      "1\n",
      "2\n",
      "1\n",
      "2\n"
     ]
    }
   ],
   "source": [
    "#your code here\n",
    "for i in range(len(xs)):\n",
    "    print(xs[i])"
   ]
  },
  {
   "cell_type": "markdown",
   "id": "6092973f-dc62-449a-b8ea-b5cb389a5c77",
   "metadata": {},
   "source": [
    "### [Exercise 1d] Can you find the smallest element of xs?\n",
    "#### Hint: use a for loop and the built-in min function"
   ]
  },
  {
   "cell_type": "code",
   "execution_count": 34,
   "id": "fe4a7b03-732d-4495-9322-af1bada98401",
   "metadata": {},
   "outputs": [
    {
     "data": {
      "text/plain": [
       "1"
      ]
     },
     "execution_count": 34,
     "metadata": {},
     "output_type": "execute_result"
    }
   ],
   "source": [
    "#your code here\n",
    "min(xs)"
   ]
  },
  {
   "cell_type": "markdown",
   "id": "435de102-56c4-4e95-9c64-f2b016ba700a",
   "metadata": {},
   "source": [
    "## [2 20 pts] Practice with Strings\n",
    "\n",
    "Lets get some practice with the string operations"
   ]
  },
  {
   "cell_type": "markdown",
   "id": "3f26f087-52cb-48b4-9d25-5403e24b3d32",
   "metadata": {
    "tags": []
   },
   "source": [
    "### (i) string basics"
   ]
  },
  {
   "cell_type": "code",
   "execution_count": 35,
   "id": "9d3874a6-4d07-4019-9df9-42b4bfbd50b2",
   "metadata": {},
   "outputs": [
    {
     "name": "stdout",
     "output_type": "stream",
     "text": [
      "Hello world, how are you?\n"
     ]
    }
   ],
   "source": [
    "s = \"Hello world\"   #one string\n",
    "t = \"how are you?\"  #another one\n",
    "v = s+\", \"+t         #concatenate them together (with a space inbetween \" \")\n",
    "print(v)"
   ]
  },
  {
   "cell_type": "code",
   "execution_count": 36,
   "id": "162b700b-2997-44c4-9e49-fe318949e018",
   "metadata": {},
   "outputs": [
    {
     "data": {
      "text/plain": [
       "'HELLO WORLD, HOW ARE YOU?'"
      ]
     },
     "execution_count": 36,
     "metadata": {},
     "output_type": "execute_result"
    }
   ],
   "source": [
    "v.upper()"
   ]
  },
  {
   "cell_type": "code",
   "execution_count": 37,
   "id": "20c156e3-973e-400d-85f2-60e186a155d5",
   "metadata": {},
   "outputs": [
    {
     "data": {
      "text/plain": [
       "'hello world, how are you?'"
      ]
     },
     "execution_count": 37,
     "metadata": {},
     "output_type": "execute_result"
    }
   ],
   "source": [
    "v.lower()"
   ]
  },
  {
   "cell_type": "code",
   "execution_count": 38,
   "id": "35c90966-3340-4d80-9331-934d0bb6ca14",
   "metadata": {},
   "outputs": [
    {
     "data": {
      "text/plain": [
       "True"
      ]
     },
     "execution_count": 38,
     "metadata": {},
     "output_type": "execute_result"
    }
   ],
   "source": [
    "v.upper().find('WORLD')>-1 #express to see if v has the substring 'world' in it!"
   ]
  },
  {
   "cell_type": "code",
   "execution_count": 39,
   "id": "c597870d-cbaa-4852-a51f-ac556092e228",
   "metadata": {},
   "outputs": [
    {
     "data": {
      "text/plain": [
       "['Hello', 'world,', 'how', 'are', 'you?']"
      ]
     },
     "execution_count": 39,
     "metadata": {},
     "output_type": "execute_result"
    }
   ],
   "source": [
    "vs = v.split(\" \") #split up the string v at each match of the pattern \" \" (split at the spaces)\n",
    "vs                #careful here since vs is a list of strings"
   ]
  },
  {
   "cell_type": "code",
   "execution_count": 40,
   "id": "1128702e-00cb-4dcb-941a-dd48e0d6081e",
   "metadata": {},
   "outputs": [
    {
     "data": {
      "text/plain": [
       "'Hello world, how are you?'"
      ]
     },
     "execution_count": 40,
     "metadata": {},
     "output_type": "execute_result"
    }
   ],
   "source": [
    "\" \".join(vs) #put the substrings of u back together with the spaces!"
   ]
  },
  {
   "cell_type": "markdown",
   "id": "bc1e7f16-75be-4030-b8b8-d0d4cd9d2adb",
   "metadata": {},
   "source": [
    "### [Exercise 2a] Does the string t contain the word \"are\"?\n",
    "#### Hint: modify the code in cell 15 to solve this problem "
   ]
  },
  {
   "cell_type": "code",
   "execution_count": 41,
   "id": "57723ad3-3550-4709-a540-640d343e2ffc",
   "metadata": {},
   "outputs": [
    {
     "data": {
      "text/plain": [
       "True"
      ]
     },
     "execution_count": 41,
     "metadata": {},
     "output_type": "execute_result"
    }
   ],
   "source": [
    "#your code here\n",
    "t.find(\"are\")>-1"
   ]
  },
  {
   "cell_type": "markdown",
   "id": "af10268d-dfdb-4689-8a00-d92b270daee2",
   "metadata": {},
   "source": [
    "### [Exercise 2b] How many times does the letter 'e' appear in v+v?\n",
    "#### Hint: concatenate v to v and then use the count function"
   ]
  },
  {
   "cell_type": "code",
   "execution_count": 42,
   "id": "2d8bd863-ac22-4828-80a6-5e1a5a4d52c9",
   "metadata": {},
   "outputs": [
    {
     "data": {
      "text/plain": [
       "4"
      ]
     },
     "execution_count": 42,
     "metadata": {},
     "output_type": "execute_result"
    }
   ],
   "source": [
    "#your code here\n",
    "v += v\n",
    "v.lower().count(\"e\")"
   ]
  },
  {
   "cell_type": "markdown",
   "id": "08fae00d-3e53-49bf-bc22-cf9f68163042",
   "metadata": {},
   "source": [
    "### (ii) loops and strings"
   ]
  },
  {
   "cell_type": "code",
   "execution_count": 43,
   "id": "3a33c16f-4e01-40ac-ad03-e5b567ac0782",
   "metadata": {},
   "outputs": [
    {
     "name": "stdout",
     "output_type": "stream",
     "text": [
      "Hello\n",
      "world,\n",
      "how\n",
      "are\n",
      "you?\n",
      "\n",
      "\n",
      "Hello\n",
      "world,\n",
      "how\n",
      "are\n",
      "you?\n"
     ]
    }
   ],
   "source": [
    "for i in range(len(vs)): print(vs[i]) #make a counting variable i to index into the list vs\n",
    "print(\"\\n\")                           #print the special escape character called newline (is the enter key!)\n",
    "for v in vs: print(v)                 #iterator way of looping"
   ]
  },
  {
   "cell_type": "markdown",
   "id": "27580924-51b4-445c-bcc9-3947ae1a4565",
   "metadata": {},
   "source": [
    "### [Exercise 2c] Print out all the words in vs in lowercase\n",
    "#### Hint use the split method as shown with vs and then do a loop with the lower function"
   ]
  },
  {
   "cell_type": "code",
   "execution_count": 44,
   "id": "60af0743-e8e3-4f9d-8041-e33a4aa84147",
   "metadata": {},
   "outputs": [
    {
     "name": "stdout",
     "output_type": "stream",
     "text": [
      "hello\n",
      "world,\n",
      "how\n",
      "are\n",
      "you?\n"
     ]
    }
   ],
   "source": [
    "#your code here\n",
    "for word in vs:\n",
    "    print(word.lower())"
   ]
  },
  {
   "cell_type": "markdown",
   "id": "584b5508-f24a-4057-bafd-66d3fb998ea5",
   "metadata": {},
   "source": [
    "### [Exercise 2d] Print out the first two letters of each word (only)\n",
    "#### Hint: you can use the index slicing on one string after you index into it\n",
    "#### vs[i][0] #would be the first letter only if you put it inside a loop"
   ]
  },
  {
   "cell_type": "code",
   "execution_count": 45,
   "id": "85aec98b-3fa4-4ea8-b70c-50b7f5ddf84e",
   "metadata": {},
   "outputs": [
    {
     "name": "stdout",
     "output_type": "stream",
     "text": [
      "He\n",
      "wo\n",
      "ho\n",
      "ar\n",
      "yo\n"
     ]
    }
   ],
   "source": [
    "#your code here\n",
    "for word in vs:\n",
    "    print(word[:2])"
   ]
  },
  {
   "cell_type": "markdown",
   "id": "ceb13c68-014d-481b-84b2-5430237e7cd6",
   "metadata": {},
   "source": [
    "## [3 30 pts] Reading and Writing data\n",
    "Now is am import time to understand that all files are actually strings that are put onto the storage (HDD or SSD). This means when we read from disk, it will be a string type and when we write to disk it must be a string type. All other types will need to get converted along the way if they want to be able to live another day (past power down since RAM is where the int and float variables are in our programs)"
   ]
  },
  {
   "cell_type": "code",
   "execution_count": 46,
   "id": "4d16f429-5472-4766-b4f9-3330c8f7369c",
   "metadata": {},
   "outputs": [
    {
     "data": {
      "text/plain": [
       "[1, 2, 1, 2, 1, 2, 1, 2, 1, 2, 1, 2]"
      ]
     },
     "execution_count": 46,
     "metadata": {},
     "output_type": "execute_result"
    }
   ],
   "source": [
    "#save our work with xs, lets look at the int values here\n",
    "xs"
   ]
  },
  {
   "cell_type": "code",
   "execution_count": 47,
   "id": "367ccb27-68d9-4e9e-827d-306d00442af9",
   "metadata": {},
   "outputs": [],
   "source": [
    "file_name = \"xs.txt\"                       #this will be the name of a new file we are going to write to disk (HDD or SSD)\n",
    "w = \"\"                                     #a new empty string to hold all of the data from the variable xs\n",
    "w += \"\\n\".join([str(x) for x in xs])+\"\\n\"  #a loop that converts every element of xs into a str and concats them with join\n",
    "with open(file_name,\"w\") as f: \n",
    "    f.write(w)                             #open a new file in \"write mode\" and save the string w to disk"
   ]
  },
  {
   "cell_type": "code",
   "execution_count": 48,
   "id": "a7947e31-3059-4dd5-a0de-9daab9eb4be0",
   "metadata": {},
   "outputs": [
    {
     "name": "stdout",
     "output_type": "stream",
     "text": [
      "['xs.txt']\n"
     ]
    }
   ],
   "source": [
    "import glob                  #you should see the file xs.txt in the file browser in a sec\n",
    "print(glob.glob(file_name))  #or you can run this code and see if you get back a len(list)>0"
   ]
  },
  {
   "cell_type": "code",
   "execution_count": 49,
   "id": "e8d6699e-993f-495a-a469-f651a4d661aa",
   "metadata": {},
   "outputs": [
    {
     "data": {
      "text/plain": [
       "[1, 2, 1, 2, 1, 2, 1, 2, 1, 2, 1, 2]"
      ]
     },
     "execution_count": 49,
     "metadata": {},
     "output_type": "execute_result"
    }
   ],
   "source": [
    "with open(file_name,\"r\") as f: \n",
    "    zs = [int(line.replace(\"\\n\",\"\")) for line in f.readlines()] #read it back after clearing the \\n\n",
    "zs                                                              #same as xs"
   ]
  },
  {
   "cell_type": "markdown",
   "id": "66e31d6f-1e1d-42c0-9134-dd0323050ddd",
   "metadata": {},
   "source": [
    "### [Exercise 3a] Now write(save) the result of the variable zz below into a new file named zz.txt\n",
    "#### Hint: modify the code above in cell 39"
   ]
  },
  {
   "cell_type": "code",
   "execution_count": 50,
   "id": "d11c7314-21ec-4ad8-8329-c1d13c4ff0da",
   "metadata": {},
   "outputs": [
    {
     "name": "stdout",
     "output_type": "stream",
     "text": [
      "5050\n",
      "5050.0\n"
     ]
    }
   ],
   "source": [
    "import numpy\n",
    "zz = list(numpy.random.choice(range(1,101,1),100,replace=False)) #a list of 100 random ints 1:100\n",
    "print(sum(zz))                                                   #what do they sum to? n(n+1)/2\n",
    "print(100*(100+1)/2)"
   ]
  },
  {
   "cell_type": "code",
   "execution_count": 51,
   "id": "e927a492-14d8-44dd-8ce7-81dec39321e3",
   "metadata": {},
   "outputs": [],
   "source": [
    "#now write zz to disk with a file name zz.txt\n",
    "\n",
    "file_name = \"zz.txt\"\n",
    "a = \"\\n\".join([str(z) for z in zz])+\"\\n\"\n",
    "with open(file_name, \"w\") as f:\n",
    "    f.write(a)"
   ]
  },
  {
   "cell_type": "markdown",
   "id": "7366f5a1-b5b2-4ae2-ab50-05c5d1ad9f59",
   "metadata": {},
   "source": [
    "### [Exercise 3b] Now read it back and save it to list of ints name variable yy\n",
    "#### Hint: modify the code above in cell 41"
   ]
  },
  {
   "cell_type": "code",
   "execution_count": 52,
   "id": "705b26cb-efbe-48fa-9076-40efaf8141fe",
   "metadata": {},
   "outputs": [
    {
     "name": "stdout",
     "output_type": "stream",
     "text": [
      "[46, 20, 34, 12, 70, 35, 53, 8, 10, 97, 41, 5, 25, 55, 42, 28, 85, 16, 38, 58, 67, 94, 43, 100, 11, 13, 68, 73, 81, 80, 57, 64, 98, 66, 87, 74, 60, 4, 22, 65, 33, 30, 40, 61, 9, 14, 69, 50, 19, 59, 32, 39, 89, 24, 75, 7, 76, 36, 26, 54, 84, 31, 71, 86, 62, 78, 82, 88, 45, 48, 47, 52, 95, 21, 23, 83, 51, 29, 99, 72, 37, 79, 44, 91, 2, 27, 17, 63, 1, 56, 90, 92, 18, 96, 15, 49, 6, 93, 77, 3]\n"
     ]
    }
   ],
   "source": [
    "#your code here\n",
    "with open(file_name, \"r\") as f:\n",
    "    yy = [int(line.replace(\"/n\",\"\")) for line in f.readlines()]\n",
    "print(yy)\n",
    "        "
   ]
  },
  {
   "cell_type": "markdown",
   "id": "acdc2af9-853e-48e6-81ef-cafcc54b86e1",
   "metadata": {},
   "source": [
    "## [4 30 pts] Detail you thoughts about python3 lists and strings\n",
    "#### Write a few sentances in markdown below about your impressions of the python3 list and string data structures and the methods that go with each. What kinds of data you you now imagine working with?"
   ]
  },
  {
   "cell_type": "markdown",
   "id": "0852c86c-1c7f-495a-a553-812f1533774e",
   "metadata": {},
   "source": [
    "I think that Python strings and lists are very powerful tools for any programmer. The methods they have are shortcuts for long programs and ease the workload. Since lists are flexible (they can store floats, ints, strings, and even lists), they're like a magical bag for programmers. \n",
    "\n",
    "I think that I might use lists to store other lists and work with large tables with this method. Plus, while writing code for an application, I might use lists to store user data. \n",
    "\n",
    "On the other hand, strings and string methods are so powerful that they provide a lot of flexibility to the programmer. Strings can be manipulated by methods and also string slicing.\n",
    "\n",
    "I might use this method when I'm asked to do abbreviations to usernames in my program. \n",
    "\n"
   ]
  }
 ],
 "metadata": {
  "kernelspec": {
   "display_name": "Python 3 (ipykernel)",
   "language": "python",
   "name": "python3"
  },
  "language_info": {
   "codemirror_mode": {
    "name": "ipython",
    "version": 3
   },
   "file_extension": ".py",
   "mimetype": "text/x-python",
   "name": "python",
   "nbconvert_exporter": "python",
   "pygments_lexer": "ipython3",
   "version": "3.11.5"
  }
 },
 "nbformat": 4,
 "nbformat_minor": 5
}

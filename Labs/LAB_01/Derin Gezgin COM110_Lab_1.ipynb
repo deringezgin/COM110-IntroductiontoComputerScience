{
 "cells": [
  {
   "cell_type": "markdown",
   "id": "41efd97b-72db-4218-aed5-8283e7109f42",
   "metadata": {},
   "source": [
    "## COM110 Lab1:\n",
    "### Learning to use jupyter lab and the notebook format (.ipynb)\n",
    "(c) 2023 Timothy Becker, Department of Computer Science <br><br>\n",
    "<img src=\"https://www.conncoll.edu/media/website-media/visualidentity/images/1Line-LogoSig-Color.jpg\" width=\"200\">"
   ]
  },
  {
   "cell_type": "markdown",
   "id": "b91d8e05-e883-48f1-975d-6b5fda770376",
   "metadata": {},
   "source": [
    "## [1 10 pts] Download and install jupyter lab https://www.anaconda.com/download"
   ]
  },
  {
   "cell_type": "markdown",
   "id": "63e56d7d-d16f-4e4d-bf58-159065c799b4",
   "metadata": {},
   "source": [
    "## [2 10 pts] Test it out by rendering and loading this notebook (which is a .ipynb file type)"
   ]
  },
  {
   "cell_type": "markdown",
   "id": "69db807d-f1ea-4e13-b3f0-67e0600b1808",
   "metadata": {},
   "source": [
    "## [3 30 pts] Lets practice some basic types of data and learn some built-in methods\n",
    "\n",
    "Each of the core python3 data types have short programs that can be called upon for use. You can think of them as special keys on a calculator such as sin. We will look at some of the mathematical ones first and then move on to methods that may be new to you with strings."
   ]
  },
  {
   "cell_type": "markdown",
   "id": "0f8b9c81-87bf-41f8-bf18-2d53a31839da",
   "metadata": {},
   "source": [
    "### (a) integers [int]"
   ]
  },
  {
   "cell_type": "code",
   "execution_count": 1,
   "id": "38f3b45b-398a-4d8b-bc5e-457438a6a4ec",
   "metadata": {},
   "outputs": [
    {
     "data": {
      "text/plain": [
       "11"
      ]
     },
     "execution_count": 1,
     "metadata": {},
     "output_type": "execute_result"
    }
   ],
   "source": [
    "x = 11 #we define a variable named x that gets the value 10\n",
    "x"
   ]
  },
  {
   "cell_type": "code",
   "execution_count": 2,
   "id": "f79c5955-9fe4-4a46-a2c1-5a47503ad352",
   "metadata": {},
   "outputs": [
    {
     "data": {
      "text/plain": [
       "31"
      ]
     },
     "execution_count": 2,
     "metadata": {},
     "output_type": "execute_result"
    }
   ],
   "source": [
    "x = x + 20 #the current value of x (which is 10) is added to the value 20 and updated\n",
    "x"
   ]
  },
  {
   "cell_type": "markdown",
   "id": "c56249ce-a2dc-4df1-b272-10c0ffd02e96",
   "metadata": {},
   "source": [
    "### [Exercise 3a] take the value of x and manipulate it so that it has three less than half its value in the previous cell[6]\n",
    "#### Hint: do not use a hard-coded approach by looking at the 30 and perform you math on that. Instead work with the variable named x!\n",
    "#### x = ???"
   ]
  },
  {
   "cell_type": "code",
   "execution_count": 3,
   "id": "29381f3f-a4ae-417f-9999-86c5753d336b",
   "metadata": {},
   "outputs": [
    {
     "data": {
      "text/plain": [
       "12.5"
      ]
     },
     "execution_count": 3,
     "metadata": {},
     "output_type": "execute_result"
    }
   ],
   "source": [
    "#x = ???\n",
    "\n",
    "x = (x/2)-3\n",
    "x"
   ]
  },
  {
   "cell_type": "markdown",
   "id": "331582a3-92c6-49b7-9ab3-49ccab4fd3bc",
   "metadata": {},
   "source": [
    "### (b) real numbers [float]"
   ]
  },
  {
   "cell_type": "code",
   "execution_count": 4,
   "id": "20a6146b-b69a-41f5-9f4d-ff20abf77812",
   "metadata": {},
   "outputs": [
    {
     "name": "stdout",
     "output_type": "stream",
     "text": [
      "4.163866903067912\n"
     ]
    },
    {
     "data": {
      "text/plain": [
       "float"
      ]
     },
     "execution_count": 4,
     "metadata": {},
     "output_type": "execute_result"
    }
   ],
   "source": [
    "import math  #import the math library\n",
    "import numpy #import the more advanced math/data library called numpy\n",
    "\n",
    "y = 1.3254    #set a real number which is called a float in python3\n",
    "y = y*math.pi #use the math library to multiple pi to the value of y\n",
    "print(y)\n",
    "type(y)"
   ]
  },
  {
   "cell_type": "code",
   "execution_count": 5,
   "id": "bd44855b-747c-4476-87d6-124792694ce2",
   "metadata": {},
   "outputs": [
    {
     "data": {
      "text/plain": [
       "4"
      ]
     },
     "execution_count": 5,
     "metadata": {},
     "output_type": "execute_result"
    }
   ],
   "source": [
    "math.floor(y)"
   ]
  },
  {
   "cell_type": "code",
   "execution_count": 6,
   "id": "cd3b8d84-f91e-4b63-b768-aca78cb239b0",
   "metadata": {},
   "outputs": [
    {
     "data": {
      "text/plain": [
       "5"
      ]
     },
     "execution_count": 6,
     "metadata": {},
     "output_type": "execute_result"
    }
   ],
   "source": [
    "math.ceil(y)"
   ]
  },
  {
   "cell_type": "code",
   "execution_count": 7,
   "id": "adef6d43-b67e-4fba-bb61-57be8006067a",
   "metadata": {},
   "outputs": [
    {
     "data": {
      "text/plain": [
       "-0.8532960820246525"
      ]
     },
     "execution_count": 7,
     "metadata": {},
     "output_type": "execute_result"
    }
   ],
   "source": [
    "math.sin(y)"
   ]
  },
  {
   "cell_type": "markdown",
   "id": "60d07b8c-3503-4f86-947a-91e27de89b89",
   "metadata": {},
   "source": [
    "### [Exercise 3b] Use the tab key after you type math to see all the functions and constants you have access to with the math library.\n",
    "Now try out at least 3 of these math functions in a cell and run it to see the results"
   ]
  },
  {
   "cell_type": "code",
   "execution_count": 8,
   "id": "5f497512-95b3-47ad-9e81-3da22939be45",
   "metadata": {},
   "outputs": [
    {
     "name": "stdout",
     "output_type": "stream",
     "text": [
      "1.0\n",
      "45\n",
      "3628800\n"
     ]
    }
   ],
   "source": [
    "#write some python code that uses the math. (plus hit tab to find a math function you want to try out)\n",
    "y = 10\n",
    "print(math.log10(y))\n",
    "print(math.comb(y,2))\n",
    "print(math.factorial(y))"
   ]
  },
  {
   "cell_type": "markdown",
   "id": "1f2b7297-3b8c-4408-98f8-65ef6504e48c",
   "metadata": {},
   "source": [
    "### (c) logical/boolean values [bool]\n",
    "\n",
    "Boolean Logic is a discrete number system that has two values: True and False along with operators such as conjunction (and) disjunction (or) and negation. There are other operators but they are combinations of the first mentioned three."
   ]
  },
  {
   "cell_type": "code",
   "execution_count": 9,
   "id": "319e2e02-bdbb-4100-9254-6b69067e788a",
   "metadata": {},
   "outputs": [
    {
     "name": "stdout",
     "output_type": "stream",
     "text": [
      "False\n",
      "True\n",
      "False\n"
     ]
    },
    {
     "data": {
      "text/plain": [
       "bool"
      ]
     },
     "execution_count": 9,
     "metadata": {},
     "output_type": "execute_result"
    }
   ],
   "source": [
    "b = True\n",
    "c = False\n",
    "print(b and c)\n",
    "print(b or c)\n",
    "print(not b)\n",
    "type(b)"
   ]
  },
  {
   "cell_type": "markdown",
   "id": "8fca083f-2609-4641-b081-01e0f3dd6896",
   "metadata": {},
   "source": [
    "### [Exercise 3c] Experiement and try to find the minimal number of boolean operators to use on the following base expression. What you need to do is to try to eliminate or reduce the operators and variables that are part of the expression to the best of your ability. You will still have to have at least one a,b,c,d present."
   ]
  },
  {
   "cell_type": "code",
   "execution_count": 10,
   "id": "ddec2480-7a9d-46f3-bf94-2d1c5a38add5",
   "metadata": {},
   "outputs": [
    {
     "name": "stdout",
     "output_type": "stream",
     "text": [
      "True\n",
      "True\n",
      "True\n"
     ]
    }
   ],
   "source": [
    "a,b,c,d = True, True, False, False\n",
    "\n",
    "e = a or c or ((a or b or d and c) and not b or c) or not a\n",
    "print(e)\n",
    "\n",
    "#now write a simplified assignment to e that uses a,b,c,d on the right hand side and check that is work\n",
    "e = a or b or c or d or not a\n",
    "print(e)\n",
    "\n",
    "a,b,c,d = False,True,False,True #check it with new values to make sure your work was correct!\n",
    "\n",
    "#write the same solution and check it here...\n",
    "e = a or b or c or d or not a\n",
    "print(e)"
   ]
  },
  {
   "cell_type": "markdown",
   "id": "c81a88b3-1cd5-4d31-8925-fad6ec3612d0",
   "metadata": {},
   "source": [
    "### (d) strings [str]\n",
    "Strings are a variable group of characters symbols that form the basis for many types of data in the real world from literature, histpry, philosophy all the way to biological sequences this data form is vast and the python tools are even more so!"
   ]
  },
  {
   "cell_type": "markdown",
   "id": "435de102-56c4-4e95-9c64-f2b016ba700a",
   "metadata": {},
   "source": [
    "## [4 20 pts] Get input from the user and output results\n",
    "\n",
    "When we write solutions to problems, we want them to work under all possible inputs... Think about that for a minute and then make use of the handy python input function that will allow you to better test your programs. Try it out and then complete the exercise that requires some type conversion below."
   ]
  },
  {
   "cell_type": "code",
   "execution_count": 11,
   "id": "f51c0f74-3e95-46a3-a894-299b06255df3",
   "metadata": {},
   "outputs": [
    {
     "name": "stdin",
     "output_type": "stream",
     "text": [
      "enter your age 18\n"
     ]
    },
    {
     "name": "stdout",
     "output_type": "stream",
     "text": [
      "18\n"
     ]
    },
    {
     "data": {
      "text/plain": [
       "str"
      ]
     },
     "execution_count": 11,
     "metadata": {},
     "output_type": "execute_result"
    }
   ],
   "source": [
    "x = input('enter your age')\n",
    "print(x)\n",
    "type(x)"
   ]
  },
  {
   "cell_type": "markdown",
   "id": "9cb5520d-655b-48de-a0bc-5e1464e089f0",
   "metadata": {},
   "source": [
    "### [Exercise 4a]\n",
    "Now have the age get entered but convert its type into an int. For strings (str) you can convert them into an int, float or bool type by calling each of those functions"
   ]
  },
  {
   "cell_type": "code",
   "execution_count": 12,
   "id": "8a8cfaae-cc5b-4c18-9b08-eae3ffae6d1b",
   "metadata": {},
   "outputs": [
    {
     "name": "stdout",
     "output_type": "stream",
     "text": [
      "102 True 1000000.0\n"
     ]
    }
   ],
   "source": [
    "s = '102'\n",
    "x = int(s)\n",
    "s = 'True'\n",
    "b = bool(s)\n",
    "s = '1E6'\n",
    "y = float(s)\n",
    "print(x,b,y)"
   ]
  },
  {
   "cell_type": "code",
   "execution_count": 13,
   "id": "957e1df3-53e6-4fee-b584-d7e2ebbac783",
   "metadata": {},
   "outputs": [
    {
     "name": "stdin",
     "output_type": "stream",
     "text": [
      "enter your age: 18\n"
     ]
    },
    {
     "name": "stdout",
     "output_type": "stream",
     "text": [
      "18\n"
     ]
    },
    {
     "data": {
      "text/plain": [
       "int"
      ]
     },
     "execution_count": 13,
     "metadata": {},
     "output_type": "execute_result"
    }
   ],
   "source": [
    "#x = ?\n",
    "x = int(input('enter your age:'))\n",
    "print(x)\n",
    "type(x)"
   ]
  },
  {
   "cell_type": "markdown",
   "id": "14cc62ee-6658-4591-b339-2ce9fde50036",
   "metadata": {},
   "source": [
    "### [Exercise 4b] \n",
    "Now lets work on the output format. If you use the print statement you can embed values into the string as shown below."
   ]
  },
  {
   "cell_type": "code",
   "execution_count": 14,
   "id": "cea391cf-4099-44a6-8477-c9cf0e2eb5b4",
   "metadata": {},
   "outputs": [
    {
     "name": "stdout",
     "output_type": "stream",
     "text": [
      "Hello Frank, how are you?\n"
     ]
    }
   ],
   "source": [
    "s = 'Hello %s, how are you?'\n",
    "t = 'Frank'\n",
    "print(s%t)"
   ]
  },
  {
   "cell_type": "code",
   "execution_count": 15,
   "id": "063f311a-e367-48ed-bfb8-c0e0158aebb2",
   "metadata": {},
   "outputs": [
    {
     "name": "stdout",
     "output_type": "stream",
     "text": [
      "Is Bill Waters a Baker or a Maker of 2 baked goods?\n"
     ]
    }
   ],
   "source": [
    "u = 'Bill'\n",
    "v = 'Waters'\n",
    "w = 'Maker'\n",
    "y = 2\n",
    "\n",
    "#write an expression for s that uses u,v,w that with print out: \"Is Bill Waters a Baker or a Maker of 2 baked goods?\"\n",
    "#s = ?\n",
    "s = f\"Is {u} {v} a Baker or a {w} of {y} baked goods?\"\n",
    "print(s)"
   ]
  },
  {
   "cell_type": "markdown",
   "id": "ceb13c68-014d-481b-84b2-5430237e7cd6",
   "metadata": {},
   "source": [
    "## [5 10 pts] What kinds of things are you interested in learning to program?"
   ]
  },
  {
   "cell_type": "markdown",
   "id": "47a377e7-e959-40b4-80a0-e4df0826af3d",
   "metadata": {},
   "source": [
    "### [Exercise 5] \n",
    "Write a short response below about what you would like to learn to program or a problem you wish you could solve. You should also include one link. To make a link follow this example, I will link to the Connecticut College main page which you can copy by right clicking and selecting save link:\n",
    "    [link to really hard problem](https://www.conncoll.edu/academics/majors-departments-programs/departments/computer-science/)\n",
    "If you want more information about how to write markdown you can go [here](https://jupyter-notebook.readthedocs.io/en/stable/examples/Notebook/Working%20With%20Markdown%20Cells.html)"
   ]
  },
  {
   "cell_type": "markdown",
   "id": "8c925fe1-d368-4145-a971-8871d0233ce5",
   "metadata": {
    "tags": []
   },
   "source": [
    "your markdown goes here\n",
    "\n",
    "<h3>My answer:</h3>\n",
    "\n",
    "I'd like to work on the association between the voting decision of states and their socioeconomic levels, income, education background, etc.\n",
    "\n",
    "I'd also like to test the accurateness of the voting surveys compared to the real world results. \n",
    "\n",
    "<a href=\"https://econofact.org/voting-and-income\">This is a similar study</a>"
   ]
  },
  {
   "cell_type": "code",
   "execution_count": null,
   "id": "a7947e31-3059-4dd5-a0de-9daab9eb4be0",
   "metadata": {},
   "outputs": [],
   "source": []
  }
 ],
 "metadata": {
  "kernelspec": {
   "display_name": "Python 3 (ipykernel)",
   "language": "python",
   "name": "python3"
  },
  "language_info": {
   "codemirror_mode": {
    "name": "ipython",
    "version": 3
   },
   "file_extension": ".py",
   "mimetype": "text/x-python",
   "name": "python",
   "nbconvert_exporter": "python",
   "pygments_lexer": "ipython3",
   "version": "3.11.4"
  }
 },
 "nbformat": 4,
 "nbformat_minor": 5
}

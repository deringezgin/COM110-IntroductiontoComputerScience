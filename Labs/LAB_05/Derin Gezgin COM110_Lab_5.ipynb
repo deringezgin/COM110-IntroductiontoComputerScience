{
 "cells": [
  {
   "cell_type": "markdown",
   "id": "a6633855-4636-413a-83a9-5f093d511992",
   "metadata": {
    "tags": []
   },
   "source": [
    "### Derin Gezgin"
   ]
  },
  {
   "cell_type": "markdown",
   "id": "41efd97b-72db-4218-aed5-8283e7109f42",
   "metadata": {},
   "source": [
    "## COM110 Lab5: Loops as Automation\n",
    "### \n",
    "(c) 2023 Timothy Becker, Department of Computer Science <br><br>\n",
    "<img src=\"https://www.conncoll.edu/media/website-media/visualidentity/images/1Line-LogoSig-Color.jpg\" width=\"200\">"
   ]
  },
  {
   "cell_type": "markdown",
   "id": "69db807d-f1ea-4e13-b3f0-67e0600b1808",
   "metadata": {},
   "source": [
    "## [1 20 pts] Practice fixed loops (finite => for)\n",
    "#### the for loop has two main variants: (i) the indexed control variable form and (ii) the iterator form\n",
    "When you want to execute code repeatedly and a fixed number of times the best tool in python (and most langauges) is the for loop. Most languages such as python, java, C#, etc. have an easy to use special form called the iterator that allows you to write a very quick loop over a collection of data. Here we will have some list L filled with integers and can write an easy loop to work on every element of the list in two different ways. Keep in mind you need to learn how to use both forms."
   ]
  },
  {
   "cell_type": "code",
   "execution_count": 1,
   "id": "38f3b45b-398a-4d8b-bc5e-457438a6a4ec",
   "metadata": {},
   "outputs": [
    {
     "name": "stdout",
     "output_type": "stream",
     "text": [
      "-112334\n"
     ]
    }
   ],
   "source": [
    "L = [1,43,65,2,87,4,234,-112781,43,-32] #what is the sum of this list?\n",
    "print(sum(L))                           #using the built in function called sum"
   ]
  },
  {
   "cell_type": "markdown",
   "id": "3da7cdb2-b188-452b-9d0c-e43298bc4d41",
   "metadata": {},
   "source": [
    "#### Lets use a for loop to do this!\n",
    "Here we are going to think about what it is to compute the sum of a list $L$ and use some sigma notation:\n",
    "\n",
    "### $\\displaystyle\\sum_{i=1}^{|L|} L_i$\n",
    "\n",
    "Here the sigma notation is saying for a counting variable i that starts at 1 and goes up to $|L|$ (size/len of L) add each $L_i$. This translates to the following series notation:\n",
    "\n",
    "### $L_1 + L_2 + ... + L_{|L|-1} + L_{|L|}$\n",
    "\n",
    "So putting it together we have:\n",
    "\n",
    "### $\\displaystyle\\sum_{i=1}^{|L|} L_i =  L_1 + L_2 + ... + L_{|L|-1} + L_{|L|}$\n",
    "\n",
    "Which in our case above is:\n",
    "\n",
    "#### $1+43+65+2+87+4+234+-112781+43+-32$\n",
    "\n",
    "If we start with an accumulating variable that will keep the partial sum of the series above we will be onto the correct solution!\n",
    "\n",
    "#### let $x = 0$\n",
    "#### $i=1 \\implies x = (x+L_1) = (0+1)$\n",
    "#### $i=2 \\implies x = (x+L_1+L_2) = (0+1+43)$\n",
    "...\n",
    "#### $i=|L| \\implies x = (x+L_1+L_2+...+L_{|L|-1}+L_{|L|}) = (0+1+43+65+2+87+4+234+-112781+43+-32)$"
   ]
  },
  {
   "cell_type": "code",
   "execution_count": 2,
   "id": "77fd2429-84d3-4e92-b52e-401c3384ff20",
   "metadata": {},
   "outputs": [
    {
     "name": "stdout",
     "output_type": "stream",
     "text": [
      "-112334\n"
     ]
    }
   ],
   "source": [
    "#first lets make it look like the mathematics sigma notation \n",
    "x = 0\n",
    "for i in range(len(L)):\n",
    "    x = x + L[i]\n",
    "print(x)"
   ]
  },
  {
   "cell_type": "code",
   "execution_count": 3,
   "id": "c207c4b5-5676-40aa-b034-d93d790b3f2b",
   "metadata": {},
   "outputs": [
    {
     "name": "stdout",
     "output_type": "stream",
     "text": [
      "-112334\n"
     ]
    }
   ],
   "source": [
    "#now lets use the simple iterator form\n",
    "x = 0\n",
    "for l in L: x += l\n",
    "print(x)"
   ]
  },
  {
   "cell_type": "markdown",
   "id": "5fcac8ff-7463-434d-8759-f474c4d6ddae",
   "metadata": {},
   "source": [
    "#### Subtlety between the indexed and iterator forms\n",
    "One important distintion is that the indexed form provides the programmer a disctint number to keep track of the place in the list as the loop continues, whereas the iterator version simply plows through the list provide the programmer only the value of each element of the list (in other words you have the value but not the index). When you want to keep track of the order of a particuliar value or are dealing with ordinal type probnlems which will come later in the course the iterator version will not be sufficient! If you had to choose only one, it would be the indexed for loop!!!"
   ]
  },
  {
   "cell_type": "code",
   "execution_count": 4,
   "id": "8a5d5ac4-dfde-4137-b84c-f066f4fa269b",
   "metadata": {},
   "outputs": [
    {
     "name": "stdout",
     "output_type": "stream",
     "text": [
      "1\n",
      "43\n",
      "65\n",
      "2\n",
      "87\n",
      "4\n",
      "234\n",
      "-112781\n",
      "43\n",
      "-32\n"
     ]
    }
   ],
   "source": [
    "#can you write a reverse loop with the iterator form?\n",
    "for l in L: print(l)"
   ]
  },
  {
   "cell_type": "code",
   "execution_count": 5,
   "id": "651dac31-8356-4860-bb7f-bc6b383f80a8",
   "metadata": {},
   "outputs": [
    {
     "name": "stdout",
     "output_type": "stream",
     "text": [
      "-32\n",
      "43\n",
      "-112781\n",
      "234\n",
      "4\n",
      "87\n",
      "2\n",
      "65\n",
      "43\n",
      "1\n"
     ]
    }
   ],
   "source": [
    "#doesn't look like it, but you can still use built ins for this!\n",
    "for l in L[::-1]: print(l)"
   ]
  },
  {
   "cell_type": "code",
   "execution_count": 6,
   "id": "23062e44-c288-4fd3-9942-ebb6db4a8de8",
   "metadata": {},
   "outputs": [
    {
     "name": "stdout",
     "output_type": "stream",
     "text": [
      "-32\n",
      "43\n",
      "-112781\n",
      "234\n",
      "4\n",
      "87\n",
      "2\n",
      "65\n",
      "43\n",
      "1\n"
     ]
    }
   ],
   "source": [
    "#now lets do it using the index\n",
    "for i in range(len(L)-1,-1,-1):\n",
    "    print(L[i])"
   ]
  },
  {
   "cell_type": "markdown",
   "id": "d393031f-4bd0-4f2a-907c-945310bdd1de",
   "metadata": {},
   "source": [
    "### [Exercise 1a] Write a indexed for loop over list X\n",
    "Can you write a short indexed for loop to find the minimum and maximum of the list L (here you are not allowed to use the built in min and max functions that will do this for you!)?\n"
   ]
  },
  {
   "cell_type": "code",
   "execution_count": 7,
   "id": "d16a46de-e5eb-4fd1-95bc-4e7221c8ad9c",
   "metadata": {},
   "outputs": [
    {
     "name": "stdout",
     "output_type": "stream",
     "text": [
      "[14, 89, -42, 19, 24, 56, -13, -89, 65, 66, -42, 15, -42, -21, -71, -47, 17, -38, 99, -48, -90, -77, -93, 10, 34, 91, 43, -2, -89, -32, -65, -62, -93, -27, -66, -73, -4, -31, -94, -66, 54, 36, 92, 29, 12, -2, 19, 31, 51, 58, 43, 50, -68, 83, 16, -97, -18, 78, -28, 19, -24, -6, -16, 71, -68, -52, 61, -47, -87, -10, -10, -82, 76, 5, -53, 45, 44, 68, -41, -55, -16, -81, -77, -92, -97, -47, -75, 55, 72, -63, 24, 81, -32, 35, -36, 19, -26, -89, -18, -20]\n"
     ]
    }
   ],
   "source": [
    "import numpy as np\n",
    "X = list(np.random.choice(range(-100,100,1),100))\n",
    "print(X)"
   ]
  },
  {
   "cell_type": "code",
   "execution_count": 8,
   "id": "09f0f66f-2a84-4058-a73f-3db142d6f617",
   "metadata": {},
   "outputs": [
    {
     "name": "stdout",
     "output_type": "stream",
     "text": [
      "Min value in the list 'X' is -97\n",
      "Max value of the list 'X' is 99\n"
     ]
    }
   ],
   "source": [
    "#your code here\n",
    "\n",
    "max_value, min_value = X[0], X[0] # Assigning min and max values to the first elements in the list. \n",
    "\n",
    "for i in range(len(X)):\n",
    "    num = X[i] # Assigning the current value to a variable\n",
    "    min_value = num if num < min_value else min_value # Checking if the num is smaller than the min_value\n",
    "    max_value = num if num > max_value else max_value # Checking if the num is larger than the max_value\n",
    "\n",
    "# Printing the min and max values\n",
    "print(f\"\"\"Min value in the list 'X' is {min_value}\n",
    "Max value of the list 'X' is {max_value}\"\"\")"
   ]
  },
  {
   "cell_type": "markdown",
   "id": "2abc0ab1-52c1-472a-a000-9e0d06e52596",
   "metadata": {},
   "source": [
    "### [Exercise 1b] Write the iterator version here\n",
    "If the above was worked out, it should very easy to convert this to a iterator version of the for loop! Again no use of min and max built in functions are allowed for this exercise.\n"
   ]
  },
  {
   "cell_type": "code",
   "execution_count": 9,
   "id": "0bb708ea-921c-4eb5-bf27-db640ce805d2",
   "metadata": {},
   "outputs": [
    {
     "name": "stdout",
     "output_type": "stream",
     "text": [
      "Min value in the list 'X' is -97\n",
      "Max value of the list 'X' is 99\n"
     ]
    }
   ],
   "source": [
    "#your code goes here\n",
    "\n",
    "max_value, min_value = X[0], X[0] # Assigning min and max values to the first elements in the list. \n",
    "\n",
    "for num in X: # Itterating through every element in the list\n",
    "    min_value = num if num < min_value else min_value # Checking if the num is smaller than the min_value\n",
    "    max_value = num if num > max_value else max_value # Checking if the num is larger than the max_value\n",
    "\n",
    "# Printing the min and max values\n",
    "print(f\"\"\"Min value in the list 'X' is {min_value}\n",
    "Max value of the list 'X' is {max_value}\"\"\")"
   ]
  },
  {
   "cell_type": "markdown",
   "id": "e06d13de-b817-4382-baa1-5419ba995dea",
   "metadata": {},
   "source": [
    "### [Exercise 1c] Select the easiest for loop for the job!\n",
    "Here you are asked to print every other element of X!"
   ]
  },
  {
   "cell_type": "code",
   "execution_count": 10,
   "id": "fc914b64-2cc6-46b3-8f6c-16443eff1fe7",
   "metadata": {},
   "outputs": [
    {
     "name": "stdout",
     "output_type": "stream",
     "text": [
      "14\n",
      "89\n",
      "-42\n",
      "19\n",
      "24\n",
      "56\n",
      "-13\n",
      "-89\n",
      "65\n",
      "66\n",
      "-42\n",
      "15\n",
      "-42\n",
      "-21\n",
      "-71\n",
      "-47\n",
      "17\n",
      "-38\n",
      "99\n",
      "-48\n",
      "-90\n",
      "-77\n",
      "-93\n",
      "10\n",
      "34\n",
      "91\n",
      "43\n",
      "-2\n",
      "-89\n",
      "-32\n",
      "-65\n",
      "-62\n",
      "-93\n",
      "-27\n",
      "-66\n",
      "-73\n",
      "-4\n",
      "-31\n",
      "-94\n",
      "-66\n",
      "54\n",
      "36\n",
      "92\n",
      "29\n",
      "12\n",
      "-2\n",
      "19\n",
      "31\n",
      "51\n",
      "58\n",
      "43\n",
      "50\n",
      "-68\n",
      "83\n",
      "16\n",
      "-97\n",
      "-18\n",
      "78\n",
      "-28\n",
      "19\n",
      "-24\n",
      "-6\n",
      "-16\n",
      "71\n",
      "-68\n",
      "-52\n",
      "61\n",
      "-47\n",
      "-87\n",
      "-10\n",
      "-10\n",
      "-82\n",
      "76\n",
      "5\n",
      "-53\n",
      "45\n",
      "44\n",
      "68\n",
      "-41\n",
      "-55\n",
      "-16\n",
      "-81\n",
      "-77\n",
      "-92\n",
      "-97\n",
      "-47\n",
      "-75\n",
      "55\n",
      "72\n",
      "-63\n",
      "24\n",
      "81\n",
      "-32\n",
      "35\n",
      "-36\n",
      "19\n",
      "-26\n",
      "-89\n",
      "-18\n",
      "-20\n"
     ]
    }
   ],
   "source": [
    "#your code here\n",
    "\n",
    "for x in X: print(x)"
   ]
  },
  {
   "cell_type": "markdown",
   "id": "a746f405-a5d6-41ba-be66-4878c8aff524",
   "metadata": {},
   "source": [
    "### [Exercise 1d] Select the easiest for loop for the job!\n",
    "Now you need to print the second half of the list X in reverse order! (The second half of the list starts somewhere nere the half-way point of the length of X which you can find with the len(X) built in function)\n"
   ]
  },
  {
   "cell_type": "code",
   "execution_count": 11,
   "id": "6b8a7507-6580-46a8-963b-70e12d5a4771",
   "metadata": {},
   "outputs": [
    {
     "name": "stdout",
     "output_type": "stream",
     "text": [
      "-20\n",
      "-18\n",
      "-89\n",
      "-26\n",
      "19\n",
      "-36\n",
      "35\n",
      "-32\n",
      "81\n",
      "24\n",
      "-63\n",
      "72\n",
      "55\n",
      "-75\n",
      "-47\n",
      "-97\n",
      "-92\n",
      "-77\n",
      "-81\n",
      "-16\n",
      "-55\n",
      "-41\n",
      "68\n",
      "44\n",
      "45\n",
      "-53\n",
      "5\n",
      "76\n",
      "-82\n",
      "-10\n",
      "-10\n",
      "-87\n",
      "-47\n",
      "61\n",
      "-52\n",
      "-68\n",
      "71\n",
      "-16\n",
      "-6\n",
      "-24\n",
      "19\n",
      "-28\n",
      "78\n",
      "-18\n",
      "-97\n",
      "16\n",
      "83\n",
      "-68\n",
      "50\n"
     ]
    }
   ],
   "source": [
    "#your code here\n",
    "\n",
    "for i in range(len(X)-1, int(len(X)/2), -1): print(X[i])"
   ]
  },
  {
   "cell_type": "markdown",
   "id": "3a934db2-2958-449d-a2c9-ffb05946684c",
   "metadata": {},
   "source": [
    "## [2 20 pts] Pratice while loops\n",
    "#### the while loop is more involved than the for loop but also more expressive\n",
    "The while loop is a very expressive way to loop using a single or multiple counting variable or a control variable that can stop iteration (sentinel). First we will write the same counting loop and then show some examples of where the while loop really shines which is in cases where you do not have acces to the knowledge of how many times the loop must run (we call this an indefinit loop)"
   ]
  },
  {
   "cell_type": "code",
   "execution_count": 12,
   "id": "855415f4-2397-4b96-9fd3-0f79d571285c",
   "metadata": {},
   "outputs": [
    {
     "name": "stdout",
     "output_type": "stream",
     "text": [
      "-112334\n"
     ]
    }
   ],
   "source": [
    "#sum the list L using a while loop\n",
    "\n",
    "x = 0           #variable to hold the partial sum of list L\n",
    "i = 0           #counting variable for the while loop (set the START value)\n",
    "while i<len(L): #STOP condition\n",
    "    x += L[i]   #calculation the partial sum up to the value at position i\n",
    "    i += 1      #step size is always 1 when you want to move to the next element in the list (by definition)\n",
    "print(x)"
   ]
  },
  {
   "cell_type": "code",
   "execution_count": 13,
   "id": "e517b4c3-b486-4af0-9852-d0eb9f6111fb",
   "metadata": {},
   "outputs": [
    {
     "name": "stdout",
     "output_type": "stream",
     "text": [
      "-112334\n"
     ]
    }
   ],
   "source": [
    "#same code using multiple assignment (more than one assignment per line of code)\n",
    "\n",
    "i,x = 0,0\n",
    "while i<len(L): x,i = x+L[i],i+1\n",
    "print(x)"
   ]
  },
  {
   "cell_type": "markdown",
   "id": "26fb2712-70c6-4ef5-b2cf-b8960745bbc2",
   "metadata": {},
   "source": [
    "#### List processing can be powerful (and sometimes destructive which means you may want to keep a copy of the list)\n",
    "Look closely at the final result, it looks like my list L has been destroyed in the process of computing the sum!"
   ]
  },
  {
   "cell_type": "code",
   "execution_count": 14,
   "id": "de30ffeb-1545-4fb0-88ec-5f17c1f663d8",
   "metadata": {},
   "outputs": [
    {
     "name": "stdout",
     "output_type": "stream",
     "text": [
      "-112334\n",
      "[]\n"
     ]
    }
   ],
   "source": [
    "#using list processing features to do the same thing (no counting variable here...)\n",
    "\n",
    "x = 0\n",
    "while len(L)>0: x,L = x+L[0],L[1:]\n",
    "print(x)\n",
    "print(L)\n",
    "\n",
    "#rebuild L since it died...\n",
    "L = [1,43,65,2,87,4,234,-112781,43,-32]"
   ]
  },
  {
   "cell_type": "markdown",
   "id": "99925951-082d-4e0a-b0d9-6c102da0ada5",
   "metadata": {},
   "source": [
    "### [Exercise 2a] Try writing a while loop of your own\n",
    "#### Can you rewrite your for loop for min and max using the while loop?\n",
    "Start by writing a while loop using counting variable i and accumulating variable x as shown above."
   ]
  },
  {
   "cell_type": "code",
   "execution_count": 15,
   "id": "743ebbd4",
   "metadata": {},
   "outputs": [
    {
     "name": "stdout",
     "output_type": "stream",
     "text": [
      "[1, 43, 65, 2, 87, 4, 234, -112781, 43, -32]\n"
     ]
    }
   ],
   "source": [
    "print(L)"
   ]
  },
  {
   "cell_type": "code",
   "execution_count": 16,
   "id": "a6dbad91-b163-4ac8-902c-3d691bc5330f",
   "metadata": {},
   "outputs": [
    {
     "name": "stdout",
     "output_type": "stream",
     "text": [
      "Min value in the list 'L' is -112781\n",
      "Max value of the list 'L' is 234\n"
     ]
    }
   ],
   "source": [
    "#your code here\n",
    "\n",
    "max_value, min_value = X[0], X[0] # Assigning min and max values to the first elements in the list. \n",
    "\n",
    "i = 0\n",
    "\n",
    "while i < len(L):\n",
    "    num = L[i] # Assigning the current value to a variable\n",
    "    min_value = num if num < min_value else min_value # Checking if the num is smaller than the min_value\n",
    "    max_value = num if num > max_value else max_value # Checking if the num is larger than the max_value\n",
    "    i += 1\n",
    "\n",
    "# Printing the max and min values\n",
    "print(f\"\"\"Min value in the list 'L' is {min_value}\n",
    "Max value of the list 'L' is {max_value}\"\"\")"
   ]
  },
  {
   "cell_type": "markdown",
   "id": "6092973f-dc62-449a-b8ea-b5cb389a5c77",
   "metadata": {},
   "source": [
    "### [Exercise 2b] Try writing a while loop using list processing\n",
    "#### This is not a standard way to do a loop since it is destructive to the list L!\n",
    "In the case where you want to process some data and you don't care about keeping the list nice, you can use the third version of the while loop above! "
   ]
  },
  {
   "cell_type": "code",
   "execution_count": 17,
   "id": "fe4a7b03-732d-4495-9322-af1bada98401",
   "metadata": {},
   "outputs": [
    {
     "name": "stdout",
     "output_type": "stream",
     "text": [
      "Min value in the list 'L' is -112781\n",
      "Max value of the list 'L' is 234\n"
     ]
    }
   ],
   "source": [
    "#your code here\n",
    "\n",
    "max_value, min_value = L[0], L[0] # Assigning max and min values to the first element of the list\n",
    "i = 0\n",
    "\n",
    "while len(L)>0:\n",
    "    current_num = L[0] # Assigning the current value to a variable\n",
    "    L = L[1:] # Deleting the first variable\n",
    "    min_value = current_num if current_num < min_value else min_value # Checking if the num is smaller than the min_value\n",
    "    max_value = current_num if current_num > max_value else max_value # Checking if the num is larger than the max_value\n",
    "\n",
    "\n",
    "# Printing the max and min values\n",
    "print(f\"\"\"Min value in the list 'L' is {min_value}\n",
    "Max value of the list 'L' is {max_value}\"\"\")"
   ]
  },
  {
   "cell_type": "markdown",
   "id": "00689688-b126-4889-9846-1e4e56cab542",
   "metadata": {},
   "source": [
    "#### List processing without destruction (grow a second list then swap it!)\n",
    "If I make use of a second list M , I can still loop with the list L and not loose the original state"
   ]
  },
  {
   "cell_type": "code",
   "execution_count": 18,
   "id": "f515ae43-0632-4f1d-9e26-1eae65569aa3",
   "metadata": {},
   "outputs": [
    {
     "name": "stdout",
     "output_type": "stream",
     "text": [
      "0\n"
     ]
    }
   ],
   "source": [
    "x,M = 0,[]\n",
    "while len(L)>0: x,M,L = x+L[0],M+[L[0]],L[1:]\n",
    "L = M\n",
    "print(x)"
   ]
  },
  {
   "cell_type": "markdown",
   "id": "d04cdda1-4067-437c-8bd5-66bd1644b188",
   "metadata": {},
   "source": [
    "### [Exercise 2c] Try to writing a non-destructive list processing\n",
    "You are shrinking list L every time the loop runs, while at the same time growing the list M by one elment each time. When you are finished the list M will be the original state of L and L will be empty so we assign M to L and it will then be in its orignal state! Is this a good way to compute the sum of a list? No! but it does show you that there are countless ways to achieve the same computational result. This \"number of ways\" has a name which is called <i>expressive</i>. An expressive language like python will give you great felixbilty on how you solve a given problem and will make it easy to develop you own unique way to approach programming!"
   ]
  },
  {
   "cell_type": "code",
   "execution_count": 19,
   "id": "3f92c646-3d48-4964-9190-d5600502bb3d",
   "metadata": {},
   "outputs": [
    {
     "name": "stdout",
     "output_type": "stream",
     "text": [
      "Min value in the list 'L' is -112781\n",
      "Max value of the list 'L' is 234\n"
     ]
    }
   ],
   "source": [
    "#your code here\n",
    "\n",
    "#rebuild L since it died...\n",
    "L = [1,43,65,2,87,4,234,-112781,43,-32]\n",
    "\n",
    "max_value, min_value = L[0], L[0] # Assigning max and min values to the first element of the list\n",
    "\n",
    "i = 0\n",
    "M = []\n",
    "while len(L)>0:\n",
    "    current_num = L[0] # Assigning the current value to a variable\n",
    "    M.append(L[0]) # Appending the first element of the L to the second list\n",
    "    L = L[1:] # Deleting the first variable\n",
    "    min_value = current_num if current_num < min_value else min_value # Checking if the num is smaller than the min_value\n",
    "    max_value = current_num if current_num > max_value else max_value # Checking if the num is larger than the max_value\n",
    "\n",
    "L = M # Assigning the second list to the first list.\n",
    "\n",
    "# Printing the max and min values\n",
    "print(f\"\"\"Min value in the list 'L' is {min_value}\n",
    "Max value of the list 'L' is {max_value}\"\"\")"
   ]
  },
  {
   "cell_type": "markdown",
   "id": "91abdbe8-6385-465f-913e-2b5fb2377138",
   "metadata": {},
   "source": [
    "### Sentinel Controlled loops (Indefinite)\n",
    "#### Here we finally get to the good stuff in the while loop coverage. When we want to make complex stop conditions where we may not know how many times the loop must run we can call this an event detection loop (sentinel control loop). The while loop is very easy to structure this way but is more importantly easier to read! When we write code that is easy to read (and also jack up the font size so that it is very large) we will make very few syntax mistakes (typing : versus ; or . versus ,)"
   ]
  },
  {
   "cell_type": "markdown",
   "id": "6c720ded-72a2-4c0a-a55c-82c20abc21d3",
   "metadata": {},
   "source": [
    "Given a list X with positive and negative ints drawn from a uniform random distribution, write a program that returns all the values from X up to the point at which a fair 20 sided dice rolls the value k (k can have a value from 1 to 20). There are a lot of board/video games that make use of the 20 sided dice in cas you doubt they exist!\n",
    "\n",
    "[20-sided die](https://youtu.be/GNaVaHBFqX4?feature=shared&t=5157)"
   ]
  },
  {
   "cell_type": "code",
   "execution_count": 20,
   "id": "c1519f85-0933-4432-9288-ca217be50c38",
   "metadata": {},
   "outputs": [
    {
     "data": {
      "text/plain": [
       "16"
      ]
     },
     "execution_count": 20,
     "metadata": {},
     "output_type": "execute_result"
    }
   ],
   "source": [
    "k = np.random.choice(range(1,21,1)) #make a random value for k\n",
    "k"
   ]
  },
  {
   "cell_type": "code",
   "execution_count": 21,
   "id": "f3288b41-8a0f-48ca-8285-9e0e481e8964",
   "metadata": {},
   "outputs": [
    {
     "name": "stdout",
     "output_type": "stream",
     "text": [
      "[35, -42, 83, -55, -53, -21, -74, 82, 58, -27, -96, -63, -3, 48, -5, 74, 94, -42, -13, -72, -50, -89, 9, 61, -76, -95, 67, 94, 31, -98, 85, 49, 69, 20, 87, 58, -16]\n"
     ]
    }
   ],
   "source": [
    "X = list(np.random.choice(range(-100,100,1),10000))\n",
    "\n",
    "i,x = 0,0\n",
    "while np.random.choice(range(1,21,1))!=k: #complex stop condition here rolls a 20-sided dice\n",
    "    x += X[i] #add the value at position i (from X) to partial sum x\n",
    "    i += 1    #increase the index to add the next position\n",
    "print(X[:i])"
   ]
  },
  {
   "cell_type": "markdown",
   "id": "6ea587a8-d880-46ea-9d7e-dd6eee6cc99a",
   "metadata": {
    "tags": []
   },
   "source": [
    "### [Exercise 2d] Try to write a sentinel while loop\n",
    "\n",
    "Use a while loop that has the user input numbers each time and does the sum of all user entered numbers until they enter 0. \n",
    "\n",
    "[extra credit 5pts] if you can use a try/except or an if/else statement to protect your partial sum against non-numeric values."
   ]
  },
  {
   "cell_type": "code",
   "execution_count": 22,
   "id": "8f636f6d-1279-4ced-ba03-10ed528885fa",
   "metadata": {},
   "outputs": [
    {
     "name": "stdout",
     "output_type": "stream",
     "text": [
      "Sum of the numbers you entered is: 0\n"
     ]
    }
   ],
   "source": [
    "#your code here\n",
    "\n",
    "sum_of_numbers = 0\n",
    "\n",
    "while True:\n",
    "    try: # Tries to run and checks for exceptions\n",
    "        num = int(input(\"Pleae enter a num to add to the sum (Enter 0 to exit): \"))\n",
    "    except ValueError: # Runs if non-numerical value is entered\n",
    "        print(\"Invalid input. Please enter a numeric value.\")\n",
    "    else: # Runs if no exceptions\n",
    "        sum_of_numbers += num\n",
    "        if num == 0: break # If 0 entered, it'll end\n",
    "\n",
    "# Printing the sum\n",
    "print(f\"Sum of the numbers you entered is: {sum_of_numbers}\")"
   ]
  },
  {
   "cell_type": "markdown",
   "id": "435de102-56c4-4e95-9c64-f2b016ba700a",
   "metadata": {},
   "source": [
    "## [3 40 pts] Early stoppping in loops and Nesting them\n",
    "\n",
    "We could have written a for loop for the example above if we made use of an eary stopping keyword <i>break</i>. This keyword will exit the current containment scope (think the one indent in python)."
   ]
  },
  {
   "cell_type": "code",
   "execution_count": 23,
   "id": "c9ca3538-5e61-46e3-ad49-7441ce8bc14a",
   "metadata": {},
   "outputs": [
    {
     "name": "stdout",
     "output_type": "stream",
     "text": [
      "0\n"
     ]
    }
   ],
   "source": [
    "y = 0\n",
    "if np.random.choice(range(1,21,1))!=k:\n",
    "    for x in X:\n",
    "        y += x\n",
    "        if np.random.choice(range(1,21,1))==k: break\n",
    "print(y)"
   ]
  },
  {
   "cell_type": "markdown",
   "id": "7b4d9603-3f19-4838-85a7-15c22169f5cf",
   "metadata": {},
   "source": [
    "Looks a bit weird right? The while version is a better choice for sentinels because you are structuring the condition over which you will continue (positive) versus the condition over which you will stop shown in the strange for loop with a break."
   ]
  },
  {
   "cell_type": "markdown",
   "id": "3c12e361-d1c1-40c5-83d4-271aa47dcfda",
   "metadata": {},
   "source": [
    "#### Nested Loops\n",
    "Now lets create a difficult piece of data which is called a list of list. (Think of it as a non-uniform grid)"
   ]
  },
  {
   "cell_type": "code",
   "execution_count": 24,
   "id": "3d8b01b8-fe57-41ed-a0e8-802c96a72c84",
   "metadata": {},
   "outputs": [
    {
     "data": {
      "text/plain": [
       "[[32, 34, 50, 78, 48, 61, 4],\n",
       " [98, 90, 0, 1, 84, 62, 87, 40, 35],\n",
       " [36, 89, 65, 12, 30, 26],\n",
       " [62, 47, 72, 69, 21, 68, 13, 14, 85, 59],\n",
       " [70, 9, 26, 19, 33, 9, 89, 24, 53, 63],\n",
       " [86, 17, 23, 60, 77, 39],\n",
       " [27, 37, 62, 20, 15, 47, 83, 11, 38, 21],\n",
       " [4, 32, 48, 22, 55, 76],\n",
       " [60, 23, 38, 22, 76, 97],\n",
       " [17, 44, 98, 68, 50, 22, 93]]"
      ]
     },
     "execution_count": 24,
     "metadata": {},
     "output_type": "execute_result"
    }
   ],
   "source": [
    "L = [list([np.random.choice(range(100)) for i in range(1+np.random.choice(10))]) for i in range(10)]\n",
    "L #a list made up of of different sized lists"
   ]
  },
  {
   "cell_type": "markdown",
   "id": "ae19e304-881d-46ab-a266-629d69843d4e",
   "metadata": {},
   "source": [
    "#### How would we compute the sum of that one?"
   ]
  },
  {
   "cell_type": "code",
   "execution_count": 25,
   "id": "6e94a96e-c9dc-4cb8-b7d3-933ef843e49b",
   "metadata": {},
   "outputs": [],
   "source": [
    "# sum(L) Commented this line to prevent error"
   ]
  },
  {
   "cell_type": "markdown",
   "id": "0785fce1-351a-4225-b8b3-79edb0f044dd",
   "metadata": {},
   "source": [
    "#### Nope. the builtin will not work here...\n",
    "Lets use a loop inside a loop instead: easy!"
   ]
  },
  {
   "cell_type": "code",
   "execution_count": 26,
   "id": "4937c26c-3e24-41db-803d-6ea10a3c85ca",
   "metadata": {},
   "outputs": [
    {
     "name": "stdout",
     "output_type": "stream",
     "text": [
      "3575\n"
     ]
    }
   ],
   "source": [
    "x = 0 #for loop version\n",
    "for i in range(len(L)):\n",
    "    for j in range(len(L[i])):\n",
    "        x += L[i][j]\n",
    "print(x)"
   ]
  },
  {
   "cell_type": "code",
   "execution_count": 27,
   "id": "e3732a4c-160c-4b52-9c00-13befde6f370",
   "metadata": {},
   "outputs": [
    {
     "name": "stdout",
     "output_type": "stream",
     "text": [
      "3575\n"
     ]
    }
   ],
   "source": [
    "i,x = 0,0 #while loop version\n",
    "while i<len(L):\n",
    "    j = 0\n",
    "    while j<len(L[i]):\n",
    "        x += L[i][j]\n",
    "        j += 1\n",
    "    i += 1\n",
    "print(x)"
   ]
  },
  {
   "cell_type": "code",
   "execution_count": 28,
   "id": "b77981ea-1c5d-4c99-b550-c5041ade70d3",
   "metadata": {},
   "outputs": [
    {
     "name": "stdout",
     "output_type": "stream",
     "text": [
      "3575\n"
     ]
    }
   ],
   "source": [
    "M = [[m for m in l] for l in L] ##list processing version\n",
    "x = 0 \n",
    "while len(M)>0:\n",
    "    while len(M[0])>0:\n",
    "        x += M[0][0]\n",
    "        M[0] = M[0][1:]\n",
    "    M = M[1:]\n",
    "print(x)"
   ]
  },
  {
   "cell_type": "markdown",
   "id": "7fa8fac1-d554-44c9-be9c-f6882b168df7",
   "metadata": {},
   "source": [
    "### [Exercise 3a 10pts] \n",
    "#### Using the list generated above L, find the minimum and maximum values via nested for loops"
   ]
  },
  {
   "cell_type": "code",
   "execution_count": 29,
   "id": "e511d5ca-2192-4010-a872-19fdf3f02ea2",
   "metadata": {},
   "outputs": [
    {
     "name": "stdout",
     "output_type": "stream",
     "text": [
      "Min value in the list 'L' is 0\n",
      "Max value of the list 'L' is 98\n"
     ]
    }
   ],
   "source": [
    "#your code here\n",
    "\n",
    "max_value, min_value = L[0][0], L[0][0] # Assigning min and max values to the first elements of the list\n",
    "\n",
    "# Itterating through the elements\n",
    "for l in L: \n",
    "    for num in l:\n",
    "        min_value = num if num < min_value else min_value # Checking if the num is smaller than the min_value\n",
    "        max_value = num if num > max_value else max_value # Checking if the num is larger than the max_value\n",
    "\n",
    "# Printing the max and min values\n",
    "print(f\"\"\"Min value in the list 'L' is {min_value}\n",
    "Max value of the list 'L' is {max_value}\"\"\")"
   ]
  },
  {
   "cell_type": "markdown",
   "id": "e28b4f93-0703-4c46-8bd9-50355ae38eec",
   "metadata": {},
   "source": [
    "### [Exercise 3b 10pts]\n",
    "Now repeat the above problem but use nested while loops"
   ]
  },
  {
   "cell_type": "code",
   "execution_count": 30,
   "id": "6aac18c0-0e56-48bc-9e40-35d897f29e2f",
   "metadata": {},
   "outputs": [
    {
     "name": "stdout",
     "output_type": "stream",
     "text": [
      "Min value in the list 'L' is 0\n",
      "Max value of the list 'L' is 98\n"
     ]
    }
   ],
   "source": [
    "#your code here\n",
    "\n",
    "max_value, min_value = L[0][0], L[0][0] # Assigning min and max values to the first elements of the list\n",
    "\n",
    "i = 0\n",
    "\n",
    "while i<len(L):\n",
    "    l = L[i]\n",
    "    k = 0\n",
    "    while k<len(l):\n",
    "        num = l[k]\n",
    "        min_value = num if num < min_value else min_value # Checking if the num is smaller than the min_value\n",
    "        max_value = num if num > max_value else max_value # Checking if the num is larger than the max_value\n",
    "        k += 1\n",
    "    i += 1\n",
    "\n",
    "# Printing the max and min values\n",
    "print(f\"\"\"Min value in the list 'L' is {min_value}\n",
    "Max value of the list 'L' is {max_value}\"\"\")"
   ]
  },
  {
   "cell_type": "markdown",
   "id": "24033a38-9761-4529-93ab-e32dc0ec2fd0",
   "metadata": {},
   "source": [
    "#### Text processing requires lots of loops and lists!!! \n",
    "#### Make sure you download the king_lear_shakespeare.txt file and move it into your jupyter lab directory that you are using right now.\n",
    "Now we will read into memory (RAM) a famous play (King Lear) and process it using what we have learned! The following code will read in the play line by line. We will then need to process each line and look for the patterns that determine important <i>features</i> such as the play structure, setting, characters, etc. If you like Shakepere, you can check out other works (That are not King Lear [here](https://www.folger.edu/explore/shakespeares-works/))"
   ]
  },
  {
   "cell_type": "code",
   "execution_count": 31,
   "id": "a61e12b4-9fa6-441c-8389-03b076d30eab",
   "metadata": {},
   "outputs": [
    {
     "data": {
      "text/plain": [
       "['ACT 1',\n",
       " '=====',\n",
       " '',\n",
       " 'Scene 1',\n",
       " '=======',\n",
       " '[Enter Kent, Gloucester, and Edmund.]',\n",
       " '',\n",
       " '',\n",
       " 'KENT  I thought the King had more affected the Duke',\n",
       " 'of Albany than Cornwall.',\n",
       " '',\n",
       " 'GLOUCESTER  It did always seem so to us, but now in',\n",
       " 'the division of the kingdom, it appears not which',\n",
       " 'of the dukes he values most, for equalities are so',\n",
       " 'weighed that curiosity in neither can make choice',\n",
       " \"of either's moiety.\",\n",
       " '',\n",
       " 'KENT  Is not this your son, my lord?',\n",
       " '',\n",
       " 'GLOUCESTER  His breeding, sir, hath been at my',\n",
       " 'charge. I have so often blushed to acknowledge',\n",
       " \"him that now I am brazed to 't.\",\n",
       " '',\n",
       " 'KENT  I cannot conceive you.',\n",
       " '',\n",
       " \"GLOUCESTER  Sir, this young fellow's mother could,\",\n",
       " 'whereupon she grew round-wombed and had indeed,',\n",
       " 'sir, a son for her cradle ere she had a husband',\n",
       " 'for her bed. Do you smell a fault?',\n",
       " '']"
      ]
     },
     "execution_count": 31,
     "metadata": {},
     "output_type": "execute_result"
    }
   ],
   "source": [
    "def read_play(path):\n",
    "    data = []\n",
    "    with open(path,'r') as f:\n",
    "        data = [line.replace('\\n','') for line in f.readlines()]\n",
    "        i = 0                                    #clean out the metadata\n",
    "        for i in range(len(data)):               #loop through our lines\n",
    "            if data[i].startswith('ACT'): break  #up to we hit the first act, early stopping here...\n",
    "        data = data[i:]                          #saves the point at which we found ACT 1 so we clear it out!\n",
    "    return data\n",
    "\n",
    "data = read_play('king_lear_shakespeare.txt')\n",
    "data[:30]"
   ]
  },
  {
   "cell_type": "markdown",
   "id": "57d264a3-95a7-4cce-94f5-1f305500586f",
   "metadata": {},
   "source": [
    "#### How many acts in the play and how many scenes per act?\n",
    "This is an easy list of lists problem. We will use the patterns in the data such as: \"ACT X\" and \"Scene Y\""
   ]
  },
  {
   "cell_type": "code",
   "execution_count": 32,
   "id": "558ea21b-2614-4fdf-96a7-d8cecd6714fa",
   "metadata": {},
   "outputs": [
    {
     "name": "stdout",
     "output_type": "stream",
     "text": [
      "[['ACT 1', ['Scene 1', 'Scene 2', 'Scene 3', 'Scene 4', 'Scene 5']], ['ACT 2', ['Scene 1', 'Scene 2', 'Scene 3', 'Scene 4']], ['ACT 3', ['Scene 1', 'Scene 2', 'Scene 3', 'Scene 4', 'Scene 5', 'Scene 6', 'Scene 7']], ['ACT 4', ['Scene 1', 'Scene 2', 'Scene 3', 'Scene 4', 'Scene 5', 'Scene 6', 'Scene 7']], ['ACT 5', ['Scene 1', 'Scene 2', 'Scene 3']]]\n",
      "time to compute was 0.917 millsec\n"
     ]
    }
   ],
   "source": [
    "#read King Lear in about 1-5 milliseconds and figure out the structure...\n",
    "import time\n",
    "start = time.time() #this is the stopwatch starting\n",
    "\n",
    "\n",
    "A = [] #will hold the results: acts and scenes\n",
    "for line in data:\n",
    "    if line.startswith('ACT'): #found a new act\n",
    "        A += [[line,[]]]       #save its name and also make an empty list for the scenes\n",
    "    if line.startswith('Scene'):\n",
    "        A[-1][1] += [line]     #add the scene into the last act slot\n",
    "        \n",
    "        \n",
    "stop = time.time() #this is just the stop watch ending\n",
    "print(A)\n",
    "print('time to compute was %s millsec'%(round((stop-start)*1000,4)))"
   ]
  },
  {
   "cell_type": "markdown",
   "id": "64f0ac1f-9ff5-42c3-b7b3-54f9bd0ef37e",
   "metadata": {},
   "source": [
    "### [Exercise 3c 20pts] Can you find all the dialog for a given character?\n",
    "#### Hint: each character is listed in the begining section but also there is a pattern!\n",
    "NAME (is in caps) with a space of line before the text that is associated with them. Also you don't want 'ACT', 'Scene', '='. You can use a similiar idea to the one shown above that was looking for 'ACT' and 'Scene' (here you would want to put tother all the things you want to skip and then use an else for the rest). Once you have a if/else set up that gets all the names (you can use the isupper() function) that would be a great place to find the name you want."
   ]
  },
  {
   "cell_type": "code",
   "execution_count": 33,
   "id": "53b7c5f5-dcb0-419b-835d-7ae7afbe80ca",
   "metadata": {},
   "outputs": [
    {
     "data": {
      "text/plain": [
       "187"
      ]
     },
     "execution_count": 33,
     "metadata": {},
     "output_type": "execute_result"
    }
   ],
   "source": [
    "name = 'LEAR'\n",
    "\n",
    "#your code here to find all the dialog lines for the variable name above...\n",
    "\n",
    "A = [] #will hold the results with the correct character name\n",
    "for line in data:\n",
    "    if line.startswith(name): #found a new act\n",
    "        A += [[line]]       #save its name\n",
    "\n",
    "len(A)"
   ]
  },
  {
   "cell_type": "markdown",
   "id": "acdc2af9-853e-48e6-81ef-cafcc54b86e1",
   "metadata": {},
   "source": [
    "## [4 20 pts] Detail you thoughts about python3 looping (or looping and lists)\n",
    "#### Write a few sentances in markdown below about your impressions of the python3 loops. What kinds of things do you think you would do with them in problem solving? Did you find this LAB more challenging than the last? If so what were the hard parts?"
   ]
  },
  {
   "cell_type": "markdown",
   "id": "0852c86c-1c7f-495a-a553-812f1533774e",
   "metadata": {},
   "source": [
    "your markdown here...\n",
    "\n",
    "I think that this lab was easier than the other labs and more clear to understand. \n",
    "\n",
    "I also think that Python Loops are very useful for many programs. While loop can run as long as a specific condition is True and this can be used in input validation. Also I can use a for loop to read a large file (every line would be a element in a list and the for loop will itirate through it). I think that loops are the second most useful tools in python (after lists.)"
   ]
  }
 ],
 "metadata": {
  "kernelspec": {
   "display_name": "Python 3 (ipykernel)",
   "language": "python",
   "name": "python3"
  },
  "language_info": {
   "codemirror_mode": {
    "name": "ipython",
    "version": 3
   },
   "file_extension": ".py",
   "mimetype": "text/x-python",
   "name": "python",
   "nbconvert_exporter": "python",
   "pygments_lexer": "ipython3",
   "version": "3.11.5"
  }
 },
 "nbformat": 4,
 "nbformat_minor": 5
}

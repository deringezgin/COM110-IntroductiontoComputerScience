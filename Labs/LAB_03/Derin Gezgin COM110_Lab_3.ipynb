{
 "cells": [
  {
   "cell_type": "markdown",
   "id": "a6633855-4636-413a-83a9-5f093d511992",
   "metadata": {
    "tags": []
   },
   "source": [
    "### Derin Gezgin"
   ]
  },
  {
   "cell_type": "markdown",
   "id": "41efd97b-72db-4218-aed5-8283e7109f42",
   "metadata": {},
   "source": [
    "## COM110 Lab3:\n",
    "### Writing Functions to Process Data\n",
    "(c) 2023 Timothy Becker, Department of Computer Science <br><br>\n",
    "<img src=\"https://www.conncoll.edu/media/website-media/visualidentity/images/1Line-LogoSig-Color.jpg\" width=\"200\">"
   ]
  },
  {
   "cell_type": "markdown",
   "id": "69db807d-f1ea-4e13-b3f0-67e0600b1808",
   "metadata": {},
   "source": [
    "## [1 20 pts] Practice writing functions\n",
    "\n",
    "Lets practice writing functions before we put them to work in solving problems later in the lab."
   ]
  },
  {
   "cell_type": "markdown",
   "id": "0f8b9c81-87bf-41f8-bf18-2d53a31839da",
   "metadata": {},
   "source": [
    "### (i) function basics"
   ]
  },
  {
   "cell_type": "code",
   "execution_count": 64,
   "id": "38f3b45b-398a-4d8b-bc5e-457438a6a4ec",
   "metadata": {},
   "outputs": [
    {
     "name": "stdout",
     "output_type": "stream",
     "text": [
      "100\n"
     ]
    }
   ],
   "source": [
    "def fx_2(x):\n",
    "    return x**2\n",
    "\n",
    "print(fx_2(10))"
   ]
  },
  {
   "cell_type": "code",
   "execution_count": 65,
   "id": "f79c5955-9fe4-4a46-a2c1-5a47503ad352",
   "metadata": {},
   "outputs": [
    {
     "data": {
      "text/plain": [
       "[1, 4, 9, 16, 25]"
      ]
     },
     "execution_count": 65,
     "metadata": {},
     "output_type": "execute_result"
    }
   ],
   "source": [
    "#apply a function (small set of computer code to each element of a list)\n",
    "xs = [1,2,3,4,5]       #range(1,6,1)\n",
    "[fx_2(x) for x in xs]  #do the fx_2(x) function above of every element"
   ]
  },
  {
   "cell_type": "code",
   "execution_count": 66,
   "id": "ab1cf7e0-4aca-4ded-a072-8872d80b5219",
   "metadata": {},
   "outputs": [
    {
     "data": {
      "text/plain": [
       "['Ho', 'wd']"
      ]
     },
     "execution_count": 66,
     "metadata": {},
     "output_type": "execute_result"
    }
   ],
   "source": [
    "def first_and_last(s):\n",
    "    return s[0:1]+s[-1:]\n",
    "\n",
    "ts = [\"Hello\", \"world\"]\n",
    "\n",
    "[first_and_last(s) for s in ts]"
   ]
  },
  {
   "cell_type": "markdown",
   "id": "d393031f-4bd0-4f2a-907c-945310bdd1de",
   "metadata": {},
   "source": [
    "### [Exercise 1a] Define a function that is the folowing mathematical expression\n",
    "#### $f(x,y) = \\frac{x^2}{y^3+1}+\\frac{y^4}{x^5+1}$\n",
    "Then test it out on the (x,y) values: (2,3), (4,4), (1,2)"
   ]
  },
  {
   "cell_type": "code",
   "execution_count": 67,
   "id": "d16a46de-e5eb-4fd1-95bc-4e7221c8ad9c",
   "metadata": {},
   "outputs": [
    {
     "name": "stdout",
     "output_type": "stream",
     "text": [
      "2.5974025974025974\n",
      "0.4959099437148218\n",
      "8.11111111111111\n"
     ]
    }
   ],
   "source": [
    "#your code goes here\n",
    "x = [2,4,1]\n",
    "y = [3,4,2]\n",
    "\n",
    "def func(x,y):\n",
    "    return ((x**2)/((y**3)+1)) + ((y**4)/((x**5)+1))\n",
    "\n",
    "for i in range(len(x)):\n",
    "    a = x[i]\n",
    "    b = y[i]\n",
    "    print(func(a,b))"
   ]
  },
  {
   "cell_type": "markdown",
   "id": "d174f8ef-3933-41e4-b2e3-8ff13e0b2673",
   "metadata": {},
   "source": [
    "### [Exercise 1b] Define a function that removes the first and last character in a string\n",
    "Then demonstrate that it works by calling it on every element of ts that was defined above"
   ]
  },
  {
   "cell_type": "code",
   "execution_count": 68,
   "id": "48d5a5a7-ac1e-404c-852b-ac73aed8cd98",
   "metadata": {},
   "outputs": [
    {
     "name": "stdout",
     "output_type": "stream",
     "text": [
      "ell\n",
      "orl\n"
     ]
    }
   ],
   "source": [
    "#your code goes here\n",
    "def remove_first_last(s):\n",
    "    return s[1:len(s)-1]\n",
    "\n",
    "for t in ts:\n",
    "    print(remove_first_last(t))"
   ]
  },
  {
   "cell_type": "markdown",
   "id": "3a934db2-2958-449d-a2c9-ffb05946684c",
   "metadata": {},
   "source": [
    "### (ii) Functions of Functions (function composition)\n",
    "Functions can be made of other functions and can also have function as parameters!"
   ]
  },
  {
   "cell_type": "code",
   "execution_count": 69,
   "id": "855415f4-2397-4b96-9fd3-0f79d571285c",
   "metadata": {},
   "outputs": [
    {
     "data": {
      "text/plain": [
       "18782407.169321354"
      ]
     },
     "execution_count": 69,
     "metadata": {},
     "output_type": "execute_result"
    }
   ],
   "source": [
    "import math\n",
    "def f2(x):    return 2**float(x)\n",
    "def g3(y):    return 3**float(y)\n",
    "def d(x):     return f2(x) + math.sin(x)\n",
    "def h(x,f,g): return f(x)+g(x)\n",
    "\n",
    "h(d(4),d,g3) #same as 2**d(4) + math.sin(d(4)) + 3**d(4)\n",
    "#2**d(4) + math.sin(d(4)) + 3**d(4)"
   ]
  },
  {
   "cell_type": "markdown",
   "id": "99925951-082d-4e0a-b0d9-6c102da0ada5",
   "metadata": {},
   "source": [
    "### [Exercise 1c] Call the most compact and simplest equation:\n",
    "#### $f(x) = \\frac{5x^2}{(1+x)}-\\frac{5x^2}{(3+2x)}+\\frac{5x^2}{(4+3x)}$\n",
    "#### write one or more functions and then put them into a short expression (call them)"
   ]
  },
  {
   "cell_type": "code",
   "execution_count": 70,
   "id": "a6dbad91-b163-4ac8-902c-3d691bc5330f",
   "metadata": {},
   "outputs": [
    {
     "name": "stdout",
     "output_type": "stream",
     "text": [
      "2.2142857142857144\n",
      "5.80952380952381\n",
      "9.711538461538462\n"
     ]
    }
   ],
   "source": [
    "#your code here\n",
    "def lin_equation(a,b,x):\n",
    "    return a*x + b\n",
    "\n",
    "def div_by_fivesq(x,n):\n",
    "    return (5*(x**2)) / n\n",
    "\n",
    "for x in [1,2,3]:\n",
    "    print(div_by_fivesq(x,lin_equation(1,1,x)) - div_by_fivesq(x,lin_equation(2,3,x)) + div_by_fivesq(x,lin_equation(3,4,x)))"
   ]
  },
  {
   "cell_type": "markdown",
   "id": "6092973f-dc62-449a-b8ea-b5cb389a5c77",
   "metadata": {},
   "source": [
    "### [Exercise 1d] Can you simply use storage variables here instead of the function? \n",
    "#### So don't define a function, instead compute the value for x and store the result to a variable (like x2 = x*x, etc)\n",
    "#### Hint: save the result of one of the function calls to a variable and then use that variable in the expression"
   ]
  },
  {
   "cell_type": "code",
   "execution_count": 71,
   "id": "fe4a7b03-732d-4495-9322-af1bada98401",
   "metadata": {},
   "outputs": [
    {
     "name": "stdout",
     "output_type": "stream",
     "text": [
      "2.2142857142857144\n",
      "5.80952380952381\n",
      "9.711538461538462\n"
     ]
    }
   ],
   "source": [
    "#your code here\n",
    "for x in [1,2,3]:\n",
    "    five_sq = (5*(x**2))\n",
    "    a = 1+x\n",
    "    b = 3+(2*x)\n",
    "    c = 4+(3*x)\n",
    "    print((five_sq/a) - (five_sq/b) + (five_sq/c))"
   ]
  },
  {
   "cell_type": "markdown",
   "id": "435de102-56c4-4e95-9c64-f2b016ba700a",
   "metadata": {},
   "source": [
    "## [2 20 pts] Functions can apply something to a list\n",
    "\n",
    "Whatever you do with a function on one number (or string) can be done on a list of them!"
   ]
  },
  {
   "cell_type": "markdown",
   "id": "3f26f087-52cb-48b4-9d25-5403e24b3d32",
   "metadata": {
    "tags": []
   },
   "source": [
    "### (i) function application\n",
    "#### Lets code up a very old encryption algorithm from the Roman era. Instead of passing a direct code in Latin, they would pretend the value of each letter was a number such as a=1, b=2, c=3,... Then since they were numbers they could apply a linear shift to those values such as +1 which would make a=2, b=3, c=4, ..etc. Look at the results below:"
   ]
  },
  {
   "cell_type": "code",
   "execution_count": 72,
   "id": "9d3874a6-4d07-4019-9df9-42b4bfbd50b2",
   "metadata": {},
   "outputs": [
    {
     "name": "stdout",
     "output_type": "stream",
     "text": [
      "Hello world\n",
      "Rovvy*y|vn\n"
     ]
    }
   ],
   "source": [
    "def shifter(s,i): return chr(ord(s)+i) #Caesar shift cipher algorithm: add a number i to each letter to shift\n",
    "\n",
    "ss = \"Hello world\"   #one string\n",
    "sg = ''.join([shifter(s,10) for s in ss])\n",
    "print(ss)\n",
    "print(sg)"
   ]
  },
  {
   "cell_type": "markdown",
   "id": "1d7d3021-180e-4375-be39-06e1708f2849",
   "metadata": {},
   "source": [
    "### [Exercise 2a] Can you reverse the cipher on variable sg and get back the same value for ss?\n",
    "#### Hint: pretend this is tug of war and you must apply the opposite value that was used to make sg"
   ]
  },
  {
   "cell_type": "code",
   "execution_count": 73,
   "id": "20c156e3-973e-400d-85f2-60e186a155d5",
   "metadata": {},
   "outputs": [
    {
     "name": "stdout",
     "output_type": "stream",
     "text": [
      "Hello world\n",
      ">[bbe\u0016mehbZ\n"
     ]
    }
   ],
   "source": [
    "#your code here\n",
    "def shifter(s,i): return chr(ord(s)-i) #Caesar shift cipher algorithm: subtract a number i to each letter to shift\n",
    "\n",
    "ss = \"Hello world\"   #one string\n",
    "sg = ''.join([shifter(s,10) for s in ss])\n",
    "print(ss)\n",
    "print(sg)"
   ]
  },
  {
   "cell_type": "markdown",
   "id": "9ea1c68c-c08f-4dfb-9136-ace660801160",
   "metadata": {},
   "source": [
    "### [Exercise 2b] Can you make a multiplicative shifter instead of a linear one?\n",
    "#### Hint: define a new function that multiplies instead of adding a value i to the ord('') result"
   ]
  },
  {
   "cell_type": "code",
   "execution_count": 74,
   "id": "c597870d-cbaa-4852-a51f-ac556092e228",
   "metadata": {},
   "outputs": [
    {
     "name": "stdout",
     "output_type": "stream",
     "text": [
      "Hello world\n",
      "ːϲииіŀҦіѴиϨ\n"
     ]
    }
   ],
   "source": [
    "#your code here\n",
    "def shifter(s,i): return chr(ord(s)*i) #Caesar shift cipher algorithm: multiply a number i to each letter to shift\n",
    "\n",
    "ss = \"Hello world\"   #one string\n",
    "sg = ''.join([shifter(s,10) for s in ss])\n",
    "print(ss)\n",
    "print(sg)"
   ]
  },
  {
   "cell_type": "markdown",
   "id": "08fae00d-3e53-49bf-bc22-cf9f68163042",
   "metadata": {},
   "source": [
    "### (ii) logic functions on collections\n",
    "#### Take a logical function and apply it to a list:"
   ]
  },
  {
   "cell_type": "code",
   "execution_count": 75,
   "id": "3a33c16f-4e01-40ac-ad03-e5b567ac0782",
   "metadata": {},
   "outputs": [
    {
     "data": {
      "text/plain": [
       "[True, False, False, False, True]"
      ]
     },
     "execution_count": 75,
     "metadata": {},
     "output_type": "execute_result"
    }
   ],
   "source": [
    "def is_1(x): return (True if x==1 else False) #returns True is x is one\n",
    "\n",
    "def is_1_list(xs):\n",
    "    return [is_1(x) for x in xs]\n",
    "\n",
    "xs = [1,4,3,2,1]\n",
    "is_1_list(xs)"
   ]
  },
  {
   "cell_type": "markdown",
   "id": "27580924-51b4-445c-bcc9-3947ae1a4565",
   "metadata": {},
   "source": [
    "### [Exercise 2c*] Can you check to see if all the values of is_1_list above are True?\n",
    "#### Hint: for all values to be True: value1 and value2 and ... and valuex would all have to be True\n",
    "#### Or: check the python tutorials to see if this is already a function: https://docs.python.org/3/library/functions.html?highlight=functions%20all#all"
   ]
  },
  {
   "cell_type": "code",
   "execution_count": 76,
   "id": "60af0743-e8e3-4f9d-8041-e33a4aa84147",
   "metadata": {},
   "outputs": [
    {
     "name": "stdout",
     "output_type": "stream",
     "text": [
      "All values are not True\n",
      "False\n"
     ]
    }
   ],
   "source": [
    "#your code here\n",
    "def check_true(xs):\n",
    "    for x in xs:\n",
    "        if (x==False):\n",
    "            return \"All values are not True\"\n",
    "    \n",
    "    return \"All values are True\"\n",
    "    \n",
    "print(check_true(is_1_list(xs)))\n",
    "\n",
    "\n",
    "### Built-in Function ###\n",
    "print(all(is_1_list(xs)))"
   ]
  },
  {
   "cell_type": "markdown",
   "id": "584b5508-f24a-4057-bafd-66d3fb998ea5",
   "metadata": {},
   "source": [
    "### [Exercise 2d] What about a check to see if any of the results are True? \n",
    "#### Hint: There may be a built in function for this one too..."
   ]
  },
  {
   "cell_type": "code",
   "execution_count": 77,
   "id": "85aec98b-3fa4-4ea8-b70c-50b7f5ddf84e",
   "metadata": {},
   "outputs": [
    {
     "name": "stdout",
     "output_type": "stream",
     "text": [
      "There's a True value.\n",
      "True\n"
     ]
    }
   ],
   "source": [
    "#your code here\n",
    "def check_true(xs):\n",
    "    for x in xs:\n",
    "        if (x==True):\n",
    "            return \"There's a True value.\"\n",
    "    \n",
    "    return \"There aren't any True values.\"\n",
    "\n",
    "print(check_true(is_1_list(xs)))\n",
    "\n",
    "### Built-in Function ###\n",
    "print(any(is_1_list(xs)))"
   ]
  },
  {
   "cell_type": "markdown",
   "id": "ceb13c68-014d-481b-84b2-5430237e7cd6",
   "metadata": {},
   "source": [
    "## [3 30 pts] Functions are a way to execute programs out of the normal order\n",
    "Normally we execute one expression at a time, saving our temperary results to variables. And as we are learning we must be careful to understand that variables inside a function definition are occuring in a seperate space from those in the main program. The variables in the main program we refer to as global vairables that are in scope, whereas those variables that are parameter names or defined inisde a function body are refered to local variables that have a scope of the function body (they die as soon as the function has been executed)"
   ]
  },
  {
   "cell_type": "code",
   "execution_count": 78,
   "id": "4d16f429-5472-4766-b4f9-3330c8f7369c",
   "metadata": {},
   "outputs": [
    {
     "name": "stdout",
     "output_type": "stream",
     "text": [
      "you are on line 4\n",
      "you are on line 2\n"
     ]
    }
   ],
   "source": [
    "#save our work with xs, lets look at the int values here\n",
    "def line_2(x): print(\"you are on line 2\")\n",
    "def line_3(x): print(\"you are on line 3\")\n",
    "def line_4(x): print(\"you are on line 4\")\n",
    "\n",
    "line_4(None)\n",
    "line_2(None)"
   ]
  },
  {
   "cell_type": "markdown",
   "id": "35cc7eb4-94e5-4b33-a3d8-7bfc5477bfa7",
   "metadata": {},
   "source": [
    "### [Exercise 3a] Write three functions and show that they can be executed out of the normal order\n",
    "#### Hint: you just need to do function calls out of order to trugger code execution to jump around from normal ordering"
   ]
  },
  {
   "cell_type": "code",
   "execution_count": 79,
   "id": "a7947e31-3059-4dd5-a0de-9daab9eb4be0",
   "metadata": {},
   "outputs": [
    {
     "name": "stdout",
     "output_type": "stream",
     "text": [
      "27\n",
      "6\n",
      "0\n"
     ]
    }
   ],
   "source": [
    "#your code here\n",
    "def func1(x): return x\n",
    "def func2(x): return x * 2\n",
    "def func3(x): return x - x\n",
    "def func4(x): return x ** x\n",
    "\n",
    "x = 3\n",
    "\n",
    "print(func4(x))\n",
    "print(func2(x))\n",
    "print(func3(x))"
   ]
  },
  {
   "cell_type": "markdown",
   "id": "66e31d6f-1e1d-42c0-9134-dd0323050ddd",
   "metadata": {},
   "source": [
    "### See the example below which writes 20 rows of data to disk using comma-seperated values\n",
    "#### Each row represents one sample of incoming data and has five values"
   ]
  },
  {
   "cell_type": "code",
   "execution_count": 80,
   "id": "d11c7314-21ec-4ad8-8329-c1d13c4ff0da",
   "metadata": {},
   "outputs": [
    {
     "data": {
      "text/plain": [
       "[[962, 511, 163, 829, 584],\n",
       " [726, 77, 153, 436, 339],\n",
       " [660, 541, 129, 193, 580],\n",
       " [40, 360, 682, 664, 817],\n",
       " [190, 174, 632, 788, 598],\n",
       " [545, 268, 39, 772, 8],\n",
       " [453, 437, 750, 11, 494],\n",
       " [47, 539, 456, 73, 32],\n",
       " [566, 65, 309, 912, 360],\n",
       " [464, 99, 881, 266, 677],\n",
       " [659, 419, 977, 974, 973],\n",
       " [468, 432, 881, 972, 229],\n",
       " [523, 200, 554, 142, 492],\n",
       " [683, 745, 904, 805, 975],\n",
       " [698, 952, 605, 441, 263],\n",
       " [287, 833, 540, 809, 281],\n",
       " [497, 542, 965, 629, 384],\n",
       " [55, 519, 567, 313, 673],\n",
       " [276, 629, 603, 101, 584],\n",
       " [238, 422, 454, 840, 640]]"
      ]
     },
     "execution_count": 80,
     "metadata": {},
     "output_type": "execute_result"
    }
   ],
   "source": [
    "import numpy\n",
    "xs = numpy.random.choice(range(1000),100)\n",
    "X = []\n",
    "for i in range(0,len(xs),5):\n",
    "    X += [list(xs[i:i+5])]\n",
    "X"
   ]
  },
  {
   "cell_type": "code",
   "execution_count": 81,
   "id": "e927a492-14d8-44dd-8ce7-81dec39321e3",
   "metadata": {},
   "outputs": [
    {
     "name": "stdout",
     "output_type": "stream",
     "text": [
      "962,511,163,829,584\n",
      "726,77,153,436,339\n",
      "660,541,129,193,580\n",
      "40,360,682,664,817\n",
      "190,174,632,788,598\n",
      "545,268,39,772,8\n",
      "453,437,750,11,494\n",
      "47,539,456,73,32\n",
      "566,65,309,912,360\n",
      "464,99,881,266,677\n",
      "659,419,977,974,973\n",
      "468,432,881,972,229\n",
      "523,200,554,142,492\n",
      "683,745,904,805,975\n",
      "698,952,605,441,263\n",
      "287,833,540,809,281\n",
      "497,542,965,629,384\n",
      "55,519,567,313,673\n",
      "276,629,603,101,584\n",
      "238,422,454,840,640\n"
     ]
    }
   ],
   "source": [
    "s = \"\\n\".join([\",\".join([str(y) for y in x]) for x in X])\n",
    "print(s)\n",
    "file_path = \"X.txt\"\n",
    "with open(file_path,\"w\") as f: f.write(s)"
   ]
  },
  {
   "cell_type": "markdown",
   "id": "7366f5a1-b5b2-4ae2-ab50-05c5d1ad9f59",
   "metadata": {},
   "source": [
    "### [Exercise 3b] Can you use the above example to define a function that can write the file?\n",
    "#### The function will use tab-seperated value instead of commas: '\\t'."
   ]
  },
  {
   "cell_type": "code",
   "execution_count": 82,
   "id": "705b26cb-efbe-48fa-9076-40efaf8141fe",
   "metadata": {},
   "outputs": [
    {
     "name": "stdout",
     "output_type": "stream",
     "text": [
      "1\t2\n"
     ]
    }
   ],
   "source": [
    "print('%s\\t%s'%(1,2))"
   ]
  },
  {
   "cell_type": "code",
   "execution_count": 83,
   "id": "a39f87e3-2fb4-4378-96b0-9453e74bf9db",
   "metadata": {},
   "outputs": [
    {
     "name": "stdout",
     "output_type": "stream",
     "text": [
      "1\t4\t9\t16\t25\t36\t49\t64\t81\t100\n",
      "121\t144\t169\t196\t225\t256\t289\t324\t361\t400\n",
      "441\t484\t529\t576\t625\t676\t729\t784\t841\t900\n",
      "961\t1024\t1089\t1156\t1225\t1296\t1369\t1444\t1521\t1600\n",
      "1681\t1764\t1849\t1936\t2025\t2116\t2209\t2304\t2401\t2500\n",
      "2601\t2704\t2809\t2916\t3025\t3136\t3249\t3364\t3481\t3600\n",
      "3721\t3844\t3969\t4096\t4225\t4356\t4489\t4624\t4761\t4900\n",
      "5041\t5184\t5329\t5476\t5625\t5776\t5929\t6084\t6241\t6400\n",
      "6561\t6724\t6889\t7056\t7225\t7396\t7569\t7744\t7921\t8100\n",
      "8281\t8464\t8649\t8836\t9025\t9216\t9409\t9604\t9801\t10000\n",
      "10201\t10404\t10609\t10816\t11025\t11236\t11449\t11664\t11881\t12100\n",
      "12321\t12544\t12769\t12996\t13225\t13456\t13689\t13924\t14161\t14400\n",
      "14641\t14884\t15129\t15376\t15625\t15876\t16129\t16384\t16641\t16900\n",
      "17161\t17424\t17689\t17956\t18225\t18496\t18769\t19044\t19321\t19600\n",
      "19881\t20164\t20449\t20736\t21025\t21316\t21609\t21904\t22201\t22500\n",
      "22801\t23104\t23409\t23716\t24025\t24336\t24649\t24964\t25281\t25600\n",
      "25921\t26244\t26569\t26896\t27225\t27556\t27889\t28224\t28561\t28900\n",
      "29241\t29584\t29929\t30276\t30625\t30976\t31329\t31684\t32041\t32400\n",
      "32761\t33124\t33489\t33856\t34225\t34596\t34969\t35344\t35721\t36100\n",
      "36481\t36864\t37249\t37636\t38025\t38416\t38809\t39204\t39601\t40000\n"
     ]
    }
   ],
   "source": [
    "#your code here\n",
    "xs = []\n",
    "for i in range(1,201):\n",
    "    xs.append(i ** 2)\n",
    "\n",
    "X = []\n",
    "for i in range(0,len(xs),10):\n",
    "    X += [list(xs[i:i+10])]\n",
    "\n",
    "s = \"\\n\".join([\"\\t\".join([str(a) for a in x]) for x in X])\n",
    "print(s)\n",
    "file_path = \"squares.txt\"\n",
    "with open(file_path,\"w\") as f: f.write(s)"
   ]
  },
  {
   "cell_type": "markdown",
   "id": "acdc2af9-853e-48e6-81ef-cafcc54b86e1",
   "metadata": {},
   "source": [
    "## [4 30 pts] Detail you thoughts about python3 functions\n",
    "#### Write a few sentances in markdown below about your impressions of the python3 functions. What kinds of things do you think you would do with them in problem solving?"
   ]
  },
  {
   "cell_type": "markdown",
   "id": "0852c86c-1c7f-495a-a553-812f1533774e",
   "metadata": {},
   "source": [
    "#### My Opinions About Python Functions\n",
    "\n",
    "I think that Python functions are very useful for large-scale programs. They ease the workload of the programmers a lot. Programmers don't have to write the same code for many times thanks to functions. Moreover, functions provide modularity to the program. With functions a programmer can change the function definition and all of the instances that the function is used would be affected by this. This is very practical in large programs. With functions we can solve large problems by dividing them to small problems. \n"
   ]
  },
  {
   "cell_type": "markdown",
   "id": "29e62a2f",
   "metadata": {},
   "source": []
  }
 ],
 "metadata": {
  "kernelspec": {
   "display_name": "Python 3 (ipykernel)",
   "language": "python",
   "name": "python3"
  },
  "language_info": {
   "codemirror_mode": {
    "name": "ipython",
    "version": 3
   },
   "file_extension": ".py",
   "mimetype": "text/x-python",
   "name": "python",
   "nbconvert_exporter": "python",
   "pygments_lexer": "ipython3",
   "version": "3.11.5"
  }
 },
 "nbformat": 4,
 "nbformat_minor": 5
}

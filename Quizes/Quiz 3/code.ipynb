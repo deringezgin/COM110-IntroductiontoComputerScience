{
 "cells": [
  {
   "cell_type": "code",
   "execution_count": 1,
   "metadata": {},
   "outputs": [
    {
     "name": "stdout",
     "output_type": "stream",
     "text": [
      "[1, 2, 3, 4]\n"
     ]
    }
   ],
   "source": [
    "L = [1,2,3,4,1,1,1]\n",
    "clist = []\n",
    "for l in L:\n",
    "    if l not in clist: clist.append(l)\n",
    "\n",
    "print(clist)"
   ]
  },
  {
   "cell_type": "code",
   "execution_count": 5,
   "metadata": {},
   "outputs": [
    {
     "name": "stdout",
     "output_type": "stream",
     "text": [
      "40\n",
      "100\n"
     ]
    }
   ],
   "source": [
    "# Class Definition\n",
    "class Cats():\n",
    "    # Initializer Function\n",
    "    def __init__(self, lives, fur, meow, speed):\n",
    "        # Setting instance variables\n",
    "        self.lives = lives\n",
    "        self.fur = fur\n",
    "        self.meow = meow\n",
    "        self.speed = speed\n",
    "    \n",
    "    # Mutator Function\n",
    "    def set_speed(self,v):\n",
    "        self.speed = v\n",
    "\n",
    "    # Accessor Function\n",
    "    def get_speed(self):\n",
    "        return self.speed\n",
    "\n",
    "# Sample Usage\n",
    "cat = Cats(lives=1, fur=\"white\", meow=True, speed=40)\n",
    "print(cat.get_speed()) # 40 (accessor)\n",
    "cat.set_speed(100) # (mutator)\n",
    "print(cat.get_speed()) # 100 (accessor)\n",
    "\n"
   ]
  },
  {
   "cell_type": "code",
   "execution_count": null,
   "metadata": {},
   "outputs": [],
   "source": []
  },
  {
   "cell_type": "code",
   "execution_count": null,
   "metadata": {},
   "outputs": [],
   "source": []
  }
 ],
 "metadata": {
  "kernelspec": {
   "display_name": "Python 3",
   "language": "python",
   "name": "python3"
  },
  "language_info": {
   "codemirror_mode": {
    "name": "ipython",
    "version": 3
   },
   "file_extension": ".py",
   "mimetype": "text/x-python",
   "name": "python",
   "nbconvert_exporter": "python",
   "pygments_lexer": "ipython3",
   "version": "3.11.5"
  }
 },
 "nbformat": 4,
 "nbformat_minor": 2
}
